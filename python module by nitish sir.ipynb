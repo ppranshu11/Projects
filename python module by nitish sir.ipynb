{
 "cells": [
  {
   "cell_type": "code",
   "execution_count": 2,
   "id": "eae84f24",
   "metadata": {},
   "outputs": [
    {
     "name": "stdout",
     "output_type": "stream",
     "text": [
      "hello world\n"
     ]
    }
   ],
   "source": [
    "def my_function():\n",
    "    print(\"hello world\")\n",
    "my_function()"
   ]
  },
  {
   "cell_type": "code",
   "execution_count": 9,
   "id": "0bbcd33b",
   "metadata": {},
   "outputs": [
    {
     "name": "stdout",
     "output_type": "stream",
     "text": [
      "addition value is: 15\n"
     ]
    }
   ],
   "source": [
    "def addition(n1:int,n2:int):\n",
    "    n3=n1+n2\n",
    "    return n3\n",
    "n1,n2=5,10\n",
    "result = addition(n1,n2)\n",
    "print(\"addition value is:\", result)"
   ]
  },
  {
   "cell_type": "code",
   "execution_count": 12,
   "id": "a6a65b67",
   "metadata": {},
   "outputs": [
    {
     "name": "stdout",
     "output_type": "stream",
     "text": [
      "enter a  number7\n",
      "number is odd\n",
      "7\n"
     ]
    }
   ],
   "source": [
    "a=(int(input(\"enter a  number\")))\n",
    "def check_number():\n",
    "    if a%2==0:\n",
    "        print(\"number is even\")\n",
    "    else:\n",
    "        print(\"number is odd\")\n",
    "check_number()\n",
    "print(a)\n",
    "        "
   ]
  },
  {
   "cell_type": "code",
   "execution_count": 59,
   "id": "96435c63",
   "metadata": {},
   "outputs": [
    {
     "name": "stdout",
     "output_type": "stream",
     "text": [
      "3 2\n"
     ]
    }
   ],
   "source": [
    "def swap(a,b):\n",
    "    x=4\n",
    "    y=5\n",
    "    x,y=y,x\n",
    "swap(x,y)\n",
    "print(x,y)"
   ]
  },
  {
   "cell_type": "code",
   "execution_count": 9,
   "id": "eb35053a",
   "metadata": {},
   "outputs": [
    {
     "name": "stdout",
     "output_type": "stream",
     "text": [
      "enter a number to check prime or not 9\n",
      "9 is not a prime number\n"
     ]
    }
   ],
   "source": [
    "#given number is prime or not\n",
    "a=int(input(\"enter a number to check prime or not \"))\n",
    "for i in range (2,a):\n",
    "    if a%i==0:   \n",
    "        print(a ,\"is not a prime number\")\n",
    "        break\n",
    "else:\n",
    "    print(a ,\"is a prime number\")"
   ]
  },
  {
   "cell_type": "code",
   "execution_count": 2,
   "id": "ee69fdad",
   "metadata": {},
   "outputs": [
    {
     "name": "stdout",
     "output_type": "stream",
     "text": [
      "enter number to print fibonacci series10\n",
      "1\n",
      "2\n",
      "3\n",
      "5\n",
      "8\n",
      "13\n",
      "21\n",
      "34\n",
      "55\n"
     ]
    }
   ],
   "source": [
    "#fibonacci number\n",
    "n=int(input(\"enter number to print fibonacci series\"))\n",
    "def fibo(number):\n",
    "    a=0\n",
    "    b=1\n",
    "    for i in range (2,n+1):\n",
    "        c=a+b\n",
    "        a=b\n",
    "        b=c\n",
    "        print(c)\n",
    "fibo(n)\n",
    "    "
   ]
  },
  {
   "cell_type": "code",
   "execution_count": 2,
   "id": "41d1a9be",
   "metadata": {},
   "outputs": [
    {
     "name": "stdout",
     "output_type": "stream",
     "text": [
      "120\n"
     ]
    }
   ],
   "source": [
    "# foctorial\n",
    "def fact(n):\n",
    "    f=1\n",
    "    for i in range (1,n+1):\n",
    "        f=f*i\n",
    "    return f\n",
    "x=5\n",
    "result=fact(x)\n",
    "print(result)\n"
   ]
  },
  {
   "cell_type": "code",
   "execution_count": 11,
   "id": "e6976928",
   "metadata": {},
   "outputs": [
    {
     "name": "stdout",
     "output_type": "stream",
     "text": [
      "5 3\n"
     ]
    }
   ],
   "source": [
    "a=0\n",
    "b=0\n",
    "def swap(x,y):\n",
    "    global a,b\n",
    "    a,b=b,a\n",
    "a=3\n",
    "b=5\n",
    "swap(a,b)\n",
    "print(a,b)"
   ]
  },
  {
   "cell_type": "code",
   "execution_count": 5,
   "id": "33f24abe",
   "metadata": {},
   "outputs": [
    {
     "name": "stdout",
     "output_type": "stream",
     "text": [
      "enter a number 5\n",
      "number is prime\n"
     ]
    }
   ],
   "source": [
    "n=int(input(\"enter a number \"))\n",
    "i=1\n",
    "count=0\n",
    "while (i<=n):\n",
    "    if n%i==0:\n",
    "        count=count+1\n",
    "    i=i+1\n",
    "if count==2:\n",
    "        print(\"number is prime\")\n",
    "else:\n",
    "    print(\"number is not prime\")"
   ]
  },
  {
   "cell_type": "code",
   "execution_count": 5,
   "id": "e06f7683",
   "metadata": {},
   "outputs": [
    {
     "name": "stdout",
     "output_type": "stream",
     "text": [
      "enter a number to check1441\n",
      "this is a palidrome number\n"
     ]
    }
   ],
   "source": [
    "num=int(input(\"enter a number to check\"))\n",
    "reverse=int(str(num)[::-1])\n",
    "if num==reverse:\n",
    "    print(\"this is a palidrome number\")\n",
    "else:\n",
    "    print(\"this is not a palidrome number\")"
   ]
  },
  {
   "cell_type": "code",
   "execution_count": 3,
   "id": "bc67afe3",
   "metadata": {},
   "outputs": [
    {
     "name": "stdout",
     "output_type": "stream",
     "text": [
      "enter a three digits number153\n",
      "it is a armstrong number\n"
     ]
    }
   ],
   "source": [
    "num=int(input(\"enter a three digits number\"))\n",
    "sum=0\n",
    "temp=num\n",
    "while temp>0:\n",
    "    digit=temp%10\n",
    "    sum=sum+(digit*digit*digit)\n",
    "    temp=temp//10\n",
    "if sum==num:\n",
    "    print(\"it is a armstrong number\")\n",
    "else:\n",
    "    print(\"it is not armstrong number\")"
   ]
  },
  {
   "cell_type": "code",
   "execution_count": 4,
   "id": "33c2e921",
   "metadata": {},
   "outputs": [
    {
     "name": "stdout",
     "output_type": "stream",
     "text": [
      "enter any number 153\n",
      "number is armstrong number\n"
     ]
    }
   ],
   "source": [
    "n=int(input(\"enter any number \"))\n",
    "x=n\n",
    "sum=0\n",
    "while (n>0):\n",
    "    sum=sum+(n%10)*(n%10)*(n%10)\n",
    "    n=n//10\n",
    "if x==sum:\n",
    "    print(\"number is armstrong number\")\n",
    "else:\n",
    "    print(\"number is not armstrong number\")"
   ]
  },
  {
   "cell_type": "code",
   "execution_count": 7,
   "id": "5652cf72",
   "metadata": {},
   "outputs": [
    {
     "name": "stdout",
     "output_type": "stream",
     "text": [
      "enter a number12345\n",
      "54321\n"
     ]
    }
   ],
   "source": [
    "#reverse of any number\n",
    "n=int(input(\"enter a number\"))\n",
    "reverse=int(str(n)[::-1])\n",
    "print(reverse)"
   ]
  },
  {
   "cell_type": "code",
   "execution_count": 3,
   "id": "6c08f062",
   "metadata": {},
   "outputs": [
    {
     "name": "stdout",
     "output_type": "stream",
     "text": [
      "enter a number12345\n",
      "reverse of given number: = 54321\n"
     ]
    }
   ],
   "source": [
    "n=int(input('enter a number'))\n",
    "rev=0\n",
    "while(n>0):\n",
    "    rev=(rev*10)+n%10\n",
    "    n=n//10\n",
    "print(\"reverse of given number:\",\"=\",rev)"
   ]
  },
  {
   "cell_type": "code",
   "execution_count": 18,
   "id": "657915a1",
   "metadata": {},
   "outputs": [
    {
     "name": "stdout",
     "output_type": "stream",
     "text": [
      "enter a number121\n",
      "number is palidrome number\n"
     ]
    }
   ],
   "source": [
    "n=int(input(\"enter a number\"))\n",
    "x=n\n",
    "rev=0\n",
    "while(n>0):\n",
    "      rev=(rev*10)+n%10\n",
    "      n=n//10\n",
    "if x==rev:\n",
    "    print('number is palidrome number')\n",
    "else:\n",
    "    print(\"sorry dude\")\n",
    "      \n",
    "      \n",
    "      "
   ]
  },
  {
   "cell_type": "code",
   "execution_count": 5,
   "id": "7f3cd92d",
   "metadata": {},
   "outputs": [
    {
     "name": "stdout",
     "output_type": "stream",
     "text": [
      "enter limit to find fibonacci series10\n",
      "0\n",
      "1\n",
      "1\n",
      "1\n",
      "2\n",
      "3\n",
      "5\n",
      "8\n",
      "13\n",
      "21\n",
      "34\n",
      "55\n"
     ]
    }
   ],
   "source": [
    "n=int(input(\"enter limit to find fibonacci series\"))\n",
    "def fibo_num(number):\n",
    "    a=1\n",
    "    b=0\n",
    "    sum=0\n",
    "    print(b)\n",
    "    print(a)\n",
    "    for i in range(0,n):\n",
    "        sum=a+b\n",
    "        a=b\n",
    "        b=sum\n",
    "        print(sum)\n",
    "fibo_num(n)"
   ]
  },
  {
   "cell_type": "code",
   "execution_count": 4,
   "id": "f8dd332c",
   "metadata": {},
   "outputs": [
    {
     "name": "stdout",
     "output_type": "stream",
     "text": [
      "enter the last number55\n",
      "0\n",
      "1\n",
      "1\n",
      "2\n",
      "3\n",
      "5\n",
      "8\n",
      "13\n",
      "21\n",
      "34\n",
      "55\n"
     ]
    }
   ],
   "source": [
    "n=int(input(\"enter the last number\"))\n",
    "x=0\n",
    "y=1\n",
    "z=0\n",
    "while(z<=n):\n",
    "    print(z)\n",
    "    x=y\n",
    "    y=z\n",
    "    z=x+y"
   ]
  },
  {
   "cell_type": "code",
   "execution_count": 28,
   "id": "1fc1300a",
   "metadata": {},
   "outputs": [
    {
     "name": "stdout",
     "output_type": "stream",
     "text": [
      "enter a year in four digit1900\n",
      "sorry this is not a leap year\n"
     ]
    }
   ],
   "source": [
    "# WHETHER YEAR IS LEAP OR NOT\n",
    "year=int(input(\"enter a year in four digit\"))\n",
    "def leap_year(number):\n",
    "    if (year%400==0)or(year%100!=0)and(year%4==0):\n",
    "        print(\"this is a leap year\")\n",
    "    else:\n",
    "        print(\"sorry this is not a leap year\")\n",
    "leap_year(year)"
   ]
  },
  {
   "cell_type": "code",
   "execution_count": 54,
   "id": "35f1bb02",
   "metadata": {},
   "outputs": [
    {
     "name": "stdout",
     "output_type": "stream",
     "text": [
      "enter a number to find factorial 5\n",
      "120\n"
     ]
    }
   ],
   "source": [
    "# foctorial\n",
    "def fact(number):\n",
    "    n=int(input(\"enter a number to find factorial \"))\n",
    "    f=1\n",
    "    for i in range(1,n+1):\n",
    "        f=f*i\n",
    "    print(f)\n",
    "fact(n)\n",
    "\n",
    "    "
   ]
  },
  {
   "cell_type": "code",
   "execution_count": 56,
   "id": "26bcb033",
   "metadata": {},
   "outputs": [
    {
     "name": "stdout",
     "output_type": "stream",
     "text": [
      "enter a number to find factorial5\n",
      "5x4x3x2x1= 120\n"
     ]
    }
   ],
   "source": [
    "def factorial():\n",
    "    n=int(input(\"enter a number to find factorial\"))\n",
    "    i=n\n",
    "    fact=1\n",
    "    while(n!=0):\n",
    "        fact=fact*n\n",
    "        n=n-1\n",
    "        while(i>=2):\n",
    "            print(i,end=\"x\")\n",
    "            i=i-1\n",
    "    print(\"1= \",end=\"\")\n",
    "    print(fact)\n",
    "factorial()"
   ]
  },
  {
   "cell_type": "code",
   "execution_count": 4,
   "id": "944440e4",
   "metadata": {},
   "outputs": [
    {
     "name": "stdout",
     "output_type": "stream",
     "text": [
      "enter a number5\n",
      "* \n",
      "* * \n",
      "* * * \n",
      "* * * * \n",
      "* * * * * \n"
     ]
    }
   ],
   "source": [
    "#program to print pyramid\n",
    "n=int(input(\"enter a number\"))\n",
    "for i in range(0,n):\n",
    "    for j in range (0,i+1):\n",
    "        print(\"*\" ,end =\" \")\n",
    "    print()"
   ]
  },
  {
   "cell_type": "code",
   "execution_count": 8,
   "id": "8f3fd52b",
   "metadata": {},
   "outputs": [
    {
     "name": "stdout",
     "output_type": "stream",
     "text": [
      "enter a number5\n",
      "\n",
      "1 \n",
      "1 2 \n",
      "1 2 3 \n",
      "1 2 3 4 \n"
     ]
    }
   ],
   "source": [
    "n=int(input(\"enter a number\"))\n",
    "for i in range(0,n):\n",
    "    for j in range (1,i+1):\n",
    "        print(j ,end =\" \")\n",
    "    print()"
   ]
  },
  {
   "cell_type": "code",
   "execution_count": 9,
   "id": "85d64011",
   "metadata": {},
   "outputs": [
    {
     "name": "stdout",
     "output_type": "stream",
     "text": [
      "enter a number5\n",
      "0 \n",
      "1 1 \n",
      "2 2 2 \n",
      "3 3 3 3 \n",
      "4 4 4 4 4 \n"
     ]
    }
   ],
   "source": [
    "n=int(input(\"enter a number\"))\n",
    "for i in range(0,n):\n",
    "    for j in range (0,i+1):\n",
    "        print(i,end =\" \")\n",
    "    print()"
   ]
  },
  {
   "cell_type": "code",
   "execution_count": 2,
   "id": "413360ab",
   "metadata": {},
   "outputs": [
    {
     "name": "stdout",
     "output_type": "stream",
     "text": [
      "yyyyy\n"
     ]
    }
   ],
   "source": [
    "s= \"python rocks\"\n",
    "print(s[1] * s.index(\"n\"))"
   ]
  },
  {
   "cell_type": "code",
   "execution_count": 3,
   "id": "554cd959",
   "metadata": {},
   "outputs": [
    {
     "data": {
      "text/plain": [
       "5"
      ]
     },
     "execution_count": 3,
     "metadata": {},
     "output_type": "execute_result"
    }
   ],
   "source": [
    "s.index(\"n\")"
   ]
  },
  {
   "cell_type": "code",
   "execution_count": 3,
   "id": "b36da2c8",
   "metadata": {},
   "outputs": [
    {
     "name": "stdout",
     "output_type": "stream",
     "text": [
      "['apple', 'banana', 'mango']\n"
     ]
    }
   ],
   "source": [
    "#list comprehension\n",
    "fruits=[\"apple\",\"banana\",\"cherry\",\"mango\"]\n",
    "new_list=[x for x in fruits if \"a\" in x]\n",
    "print(new_list)\n"
   ]
  },
  {
   "cell_type": "code",
   "execution_count": 4,
   "id": "1b27899c",
   "metadata": {},
   "outputs": [
    {
     "name": "stdout",
     "output_type": "stream",
     "text": [
      "['apple', 'banana', 'mango']\n"
     ]
    }
   ],
   "source": [
    "fruits=[\"apple\",\"banana\",\"cherry\",\"mango\"]\n",
    "new_list=[]\n",
    "for x in fruits:\n",
    "    if \"a\" in x:\n",
    "        new_list.append(x)\n",
    "print(new_list)"
   ]
  },
  {
   "cell_type": "code",
   "execution_count": 10,
   "id": "645e7c51",
   "metadata": {},
   "outputs": [
    {
     "name": "stdout",
     "output_type": "stream",
     "text": [
      "['banana', 'cherry', 'mango']\n"
     ]
    }
   ],
   "source": [
    "fruits=[\"apple\",\"banana\",\"cherry\",\"mango\"]\n",
    "new_list=[x for x in fruits if \"p\"not in x]\n",
    "print(new_list)\n"
   ]
  },
  {
   "cell_type": "code",
   "execution_count": 15,
   "id": "d52110e3",
   "metadata": {},
   "outputs": [
    {
     "name": "stdout",
     "output_type": "stream",
     "text": [
      "['apple', 'banana', 'cherry', 'mango']\n"
     ]
    }
   ],
   "source": [
    "fruits=[\"apple\",\"banana\",\"cherry\",\"mango\"]\n",
    "new_list=[x for x in fruits if \"a\"not in x]\n",
    "print(new_list)\n"
   ]
  },
  {
   "cell_type": "code",
   "execution_count": 16,
   "id": "6659f1cd",
   "metadata": {},
   "outputs": [
    {
     "name": "stdout",
     "output_type": "stream",
     "text": [
      "[0, 1, 2, 3, 4, 5, 6, 7, 8, 9]\n"
     ]
    }
   ],
   "source": [
    "new_list=[i for i in range(0,10)]\n",
    "print(new_list)"
   ]
  },
  {
   "cell_type": "code",
   "execution_count": 55,
   "id": "be6a492d",
   "metadata": {},
   "outputs": [
    {
     "name": "stdout",
     "output_type": "stream",
     "text": [
      "['apple', 'orange', 'cherry', 'mango']\n"
     ]
    }
   ],
   "source": [
    "fruits=[\"apple\",\"banana\",\"cherry\",\"mango\"]\n",
    "new_list = [ x  if x != \"banana\" else \"orange\" for x in fruits]\n",
    "print(new_list)\n"
   ]
  },
  {
   "cell_type": "code",
   "execution_count": 12,
   "id": "d4150e08",
   "metadata": {},
   "outputs": [
    {
     "name": "stdout",
     "output_type": "stream",
     "text": [
      "['rahul', 'pappu', 'vibhanshu', 'gaurav']\n"
     ]
    }
   ],
   "source": [
    "name=[\"rahul\",\"shivam\",\"vibhanshu\",\"gaurav\"]\n",
    "new=[x if x!=\"shivam\" else \"pappu\" for x in name]\n",
    "print(new)"
   ]
  },
  {
   "cell_type": "code",
   "execution_count": 2,
   "id": "f20bcb5c",
   "metadata": {},
   "outputs": [
    {
     "name": "stdout",
     "output_type": "stream",
     "text": [
      "enter number3\n",
      "27\n"
     ]
    }
   ],
   "source": [
    "n=int(input(\"enter number\"))\n",
    "sum=0\n",
    "cube=sum(n,for n in range(**3\n",
    "print(cube)"
   ]
  },
  {
   "cell_type": "code",
   "execution_count": 11,
   "id": "92168855",
   "metadata": {},
   "outputs": [
    {
     "name": "stdout",
     "output_type": "stream",
     "text": [
      "enter a number2\n",
      "14\n"
     ]
    }
   ],
   "source": [
    "n=int(input(\"enter a number\"))\n",
    "sum=0\n",
    "for i in range(1,n+1):\n",
    "    sum=sum+i*2\n",
    "    a=sum+(i**3)\n",
    "print(a)"
   ]
  },
  {
   "cell_type": "code",
   "execution_count": 1,
   "id": "89e46e7c",
   "metadata": {},
   "outputs": [
    {
     "name": "stdout",
     "output_type": "stream",
     "text": [
      "enter a number3\n",
      "36\n"
     ]
    }
   ],
   "source": [
    "def sum_of_cube(n):\n",
    "    return sum(i**3 for i in range(1,n+1))\n",
    "num=int(input(\"enter a number\"))\n",
    "add=sum_of_cube(num)\n",
    "print(add)"
   ]
  },
  {
   "cell_type": "code",
   "execution_count": 17,
   "id": "80d68a39",
   "metadata": {},
   "outputs": [
    {
     "name": "stdout",
     "output_type": "stream",
     "text": [
      "enter number to find sum :5\n",
      "225\n"
     ]
    }
   ],
   "source": [
    "def sum_of_cube(n):\n",
    "    sum=0\n",
    "    for i in range(1,n+1):\n",
    "        sum=sum+i*i*i\n",
    "    return sum\n",
    "num=int(input(\"enter number to find sum :\"))\n",
    "x=sum_of_cube(num)\n",
    "print(x)\n",
    "    \n",
    "    "
   ]
  },
  {
   "cell_type": "code",
   "execution_count": 1,
   "id": "c7eb945e",
   "metadata": {},
   "outputs": [
    {
     "name": "stdout",
     "output_type": "stream",
     "text": [
      "50\n"
     ]
    }
   ],
   "source": [
    "#lambda function inside another function\n",
    "def fun(x):\n",
    "    return lambda a:a*x\n",
    "double_fun=fun(2)\n",
    "print(double_fun(25))\n"
   ]
  },
  {
   "cell_type": "code",
   "execution_count": 2,
   "id": "d91e5e3d",
   "metadata": {},
   "outputs": [],
   "source": [
    " import math"
   ]
  },
  {
   "cell_type": "code",
   "execution_count": 3,
   "id": "60e62670",
   "metadata": {},
   "outputs": [
    {
     "name": "stdout",
     "output_type": "stream",
     "text": [
      "6561.0\n"
     ]
    }
   ],
   "source": [
    "print(math.pow(9,4))"
   ]
  },
  {
   "cell_type": "code",
   "execution_count": 4,
   "id": "649dda1b",
   "metadata": {},
   "outputs": [
    {
     "name": "stdout",
     "output_type": "stream",
     "text": [
      "9.0\n"
     ]
    }
   ],
   "source": [
    "print(math.sqrt(81))"
   ]
  },
  {
   "cell_type": "code",
   "execution_count": 5,
   "id": "8b83f8b0",
   "metadata": {},
   "outputs": [
    {
     "name": "stdout",
     "output_type": "stream",
     "text": [
      "120\n"
     ]
    }
   ],
   "source": [
    "print(math.factorial(5))"
   ]
  },
  {
   "cell_type": "code",
   "execution_count": 8,
   "id": "b7a5db31",
   "metadata": {},
   "outputs": [
    {
     "name": "stdout",
     "output_type": "stream",
     "text": [
      "1.0\n"
     ]
    }
   ],
   "source": [
    "print(math.log10(10))"
   ]
  },
  {
   "cell_type": "code",
   "execution_count": 14,
   "id": "01353e40",
   "metadata": {},
   "outputs": [
    {
     "name": "stdout",
     "output_type": "stream",
     "text": [
      "-0.9880316240928618\n"
     ]
    }
   ],
   "source": [
    "print(math.sin(30))"
   ]
  },
  {
   "cell_type": "code",
   "execution_count": 16,
   "id": "2b3c32e6",
   "metadata": {},
   "outputs": [
    {
     "name": "stdout",
     "output_type": "stream",
     "text": [
      "5\n"
     ]
    }
   ],
   "source": [
    "print(math.floor(5.9))"
   ]
  },
  {
   "cell_type": "code",
   "execution_count": 17,
   "id": "177de194",
   "metadata": {},
   "outputs": [
    {
     "name": "stdout",
     "output_type": "stream",
     "text": [
      "6\n"
     ]
    }
   ],
   "source": [
    "print(math.ceil(5.9))"
   ]
  },
  {
   "cell_type": "code",
   "execution_count": 19,
   "id": "41c1374a",
   "metadata": {},
   "outputs": [
    {
     "name": "stdout",
     "output_type": "stream",
     "text": [
      "20\n"
     ]
    }
   ],
   "source": [
    "print(abs(-20))"
   ]
  },
  {
   "cell_type": "code",
   "execution_count": 20,
   "id": "0afcf1a6",
   "metadata": {},
   "outputs": [
    {
     "name": "stdout",
     "output_type": "stream",
     "text": [
      "20.0\n"
     ]
    }
   ],
   "source": [
    "print(math.fabs(-20))"
   ]
  },
  {
   "cell_type": "code",
   "execution_count": 21,
   "id": "db442408",
   "metadata": {},
   "outputs": [],
   "source": [
    "import statistics"
   ]
  },
  {
   "cell_type": "code",
   "execution_count": 25,
   "id": "67271699",
   "metadata": {},
   "outputs": [
    {
     "name": "stdout",
     "output_type": "stream",
     "text": [
      "4.153846153846154\n"
     ]
    }
   ],
   "source": [
    "print(statistics.mean([1,6,2,4,5,2,8,4,9,1,3,5,4]))"
   ]
  },
  {
   "cell_type": "code",
   "execution_count": 28,
   "id": "2ccee778",
   "metadata": {},
   "outputs": [
    {
     "name": "stdout",
     "output_type": "stream",
     "text": [
      "4\n"
     ]
    }
   ],
   "source": [
    "print(statistics.mode([2,5,6,9,2,5,1,5,12,1,2,2,2,2,6,1,5,4,4,4,4,6,5,4,5,4,6,4]))"
   ]
  },
  {
   "cell_type": "code",
   "execution_count": 6,
   "id": "13ccb6b2",
   "metadata": {},
   "outputs": [],
   "source": [
    "import random"
   ]
  },
  {
   "cell_type": "code",
   "execution_count": 7,
   "id": "7f93f7fe",
   "metadata": {},
   "outputs": [
    {
     "name": "stdout",
     "output_type": "stream",
     "text": [
      "6\n"
     ]
    }
   ],
   "source": [
    "print(random.randint(3,9))"
   ]
  },
  {
   "cell_type": "code",
   "execution_count": 8,
   "id": "292b4737",
   "metadata": {},
   "outputs": [
    {
     "name": "stdout",
     "output_type": "stream",
     "text": [
      "6\n"
     ]
    }
   ],
   "source": [
    "print(random.randrange(3,9))"
   ]
  },
  {
   "cell_type": "code",
   "execution_count": 9,
   "id": "b113eaa8",
   "metadata": {},
   "outputs": [
    {
     "name": "stdout",
     "output_type": "stream",
     "text": [
      "0.16859468512989984\n"
     ]
    }
   ],
   "source": [
    "print(random.random())"
   ]
  },
  {
   "cell_type": "code",
   "execution_count": null,
   "id": "001b9df0",
   "metadata": {},
   "outputs": [],
   "source": []
  },
  {
   "cell_type": "code",
   "execution_count": null,
   "id": "b999bb21",
   "metadata": {},
   "outputs": [],
   "source": []
  }
 ],
 "metadata": {
  "kernelspec": {
   "display_name": "Python 3 (ipykernel)",
   "language": "python",
   "name": "python3"
  },
  "language_info": {
   "codemirror_mode": {
    "name": "ipython",
    "version": 3
   },
   "file_extension": ".py",
   "mimetype": "text/x-python",
   "name": "python",
   "nbconvert_exporter": "python",
   "pygments_lexer": "ipython3",
   "version": "3.11.5"
  }
 },
 "nbformat": 4,
 "nbformat_minor": 5
}
