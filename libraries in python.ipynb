{
 "cells": [
  {
   "cell_type": "code",
   "execution_count": 1,
   "id": "998d7a65",
   "metadata": {},
   "outputs": [],
   "source": [
    "# pandas (paneldata)1.Series 2.Data Frame 3.panel"
   ]
  },
  {
   "cell_type": "code",
   "execution_count": 6,
   "id": "64f41944",
   "metadata": {},
   "outputs": [
    {
     "name": "stdout",
     "output_type": "stream",
     "text": [
      "Defaulting to user installation because normal site-packages is not writeable\n",
      "Requirement already satisfied: pandas in c:\\programdata\\anaconda3\\lib\\site-packages (2.0.3)\n",
      "Requirement already satisfied: python-dateutil>=2.8.2 in c:\\programdata\\anaconda3\\lib\\site-packages (from pandas) (2.8.2)\n",
      "Requirement already satisfied: pytz>=2020.1 in c:\\programdata\\anaconda3\\lib\\site-packages (from pandas) (2023.3.post1)\n",
      "Requirement already satisfied: tzdata>=2022.1 in c:\\programdata\\anaconda3\\lib\\site-packages (from pandas) (2023.3)\n",
      "Requirement already satisfied: numpy>=1.21.0 in c:\\programdata\\anaconda3\\lib\\site-packages (from pandas) (1.24.3)\n",
      "Requirement already satisfied: six>=1.5 in c:\\programdata\\anaconda3\\lib\\site-packages (from python-dateutil>=2.8.2->pandas) (1.16.0)\n"
     ]
    }
   ],
   "source": [
    "!pip install pandas"
   ]
  },
  {
   "cell_type": "code",
   "execution_count": 7,
   "id": "25bc7b7f",
   "metadata": {},
   "outputs": [],
   "source": [
    "# creation of series from scaler values "
   ]
  },
  {
   "cell_type": "code",
   "execution_count": 8,
   "id": "132813a4",
   "metadata": {},
   "outputs": [],
   "source": [
    "import pandas as pd\n"
   ]
  },
  {
   "cell_type": "code",
   "execution_count": 2,
   "id": "7b4e8139",
   "metadata": {},
   "outputs": [
    {
     "name": "stdout",
     "output_type": "stream",
     "text": [
      "0    10\n",
      "1    20\n",
      "2    30\n",
      "dtype: int64\n"
     ]
    }
   ],
   "source": [
    "series1=pd.Series([10,20,30])\n",
    "print(series1)"
   ]
  },
  {
   "cell_type": "code",
   "execution_count": 15,
   "id": "c88e1d58",
   "metadata": {},
   "outputs": [
    {
     "name": "stdout",
     "output_type": "stream",
     "text": [
      "1    a\n",
      "2    b\n",
      "3    c\n",
      "4    d\n",
      "dtype: object\n"
     ]
    }
   ],
   "source": [
    "series2=pd.Series(['a','b','c','d'],index=[1,2,3,4])\n",
    "print(series2)"
   ]
  },
  {
   "cell_type": "code",
   "execution_count": 18,
   "id": "9a0aacd6",
   "metadata": {},
   "outputs": [
    {
     "name": "stdout",
     "output_type": "stream",
     "text": [
      "1    a\n",
      "2    b\n",
      "3    c\n",
      "dtype: object\n"
     ]
    }
   ],
   "source": [
    "series3=pd.Series([\"a\",\"b\",\"c\"],index=[1,2,3,])\n",
    "print(series3)"
   ]
  },
  {
   "cell_type": "code",
   "execution_count": 19,
   "id": "ace00847",
   "metadata": {},
   "outputs": [],
   "source": [
    "# creation series from numpy array"
   ]
  },
  {
   "cell_type": "code",
   "execution_count": 21,
   "id": "49402c29",
   "metadata": {},
   "outputs": [
    {
     "name": "stdout",
     "output_type": "stream",
     "text": [
      "Defaulting to user installation because normal site-packages is not writeable\n",
      "Requirement already satisfied: numpy in c:\\programdata\\anaconda3\\lib\\site-packages (1.24.3)\n"
     ]
    }
   ],
   "source": [
    "!pip install numpy"
   ]
  },
  {
   "cell_type": "code",
   "execution_count": 2,
   "id": "5043dec6",
   "metadata": {},
   "outputs": [],
   "source": [
    "import numpy as np"
   ]
  },
  {
   "cell_type": "code",
   "execution_count": 24,
   "id": "bcd77231",
   "metadata": {},
   "outputs": [
    {
     "name": "stdout",
     "output_type": "stream",
     "text": [
      "[1 2 3 4 5]\n"
     ]
    }
   ],
   "source": [
    "arr1=np.array([1,2,3,4,5])\n",
    "print(arr1)"
   ]
  },
  {
   "cell_type": "code",
   "execution_count": 25,
   "id": "ac24607e",
   "metadata": {},
   "outputs": [
    {
     "name": "stdout",
     "output_type": "stream",
     "text": [
      "0    1\n",
      "1    2\n",
      "2    3\n",
      "3    4\n",
      "4    5\n",
      "dtype: int32\n"
     ]
    }
   ],
   "source": [
    "series4=pd.Series(arr1)\n",
    "print(series4)"
   ]
  },
  {
   "cell_type": "code",
   "execution_count": 31,
   "id": "1821831f",
   "metadata": {},
   "outputs": [
    {
     "name": "stdout",
     "output_type": "stream",
     "text": [
      "a    1\n",
      "b    2\n",
      "c    3\n",
      "d    4\n",
      "e    5\n",
      "dtype: int32\n"
     ]
    }
   ],
   "source": [
    "series5=pd.Series(arr1,index=['a','b','c','d','e'])\n",
    "print(series5)"
   ]
  },
  {
   "cell_type": "code",
   "execution_count": 32,
   "id": "5227c36b",
   "metadata": {},
   "outputs": [],
   "source": [
    "# creation of series from dictonary"
   ]
  },
  {
   "cell_type": "code",
   "execution_count": 35,
   "id": "be4cb296",
   "metadata": {},
   "outputs": [
    {
     "name": "stdout",
     "output_type": "stream",
     "text": [
      "{'india': 'new delhi', 'uk': 'london', 'japan': 'tokyo'}\n"
     ]
    }
   ],
   "source": [
    "dict1={'india':'new delhi','uk':'london','japan':'tokyo'}\n",
    "print(dic1)"
   ]
  },
  {
   "cell_type": "code",
   "execution_count": 52,
   "id": "c3fccf8b",
   "metadata": {},
   "outputs": [
    {
     "name": "stdout",
     "output_type": "stream",
     "text": [
      "india    new delhi\n",
      "uk          london\n",
      "japan        tokyo\n",
      "dtype: object\n"
     ]
    }
   ],
   "source": [
    "series6=pd.Series(dict1)\n",
    "print(series6)"
   ]
  },
  {
   "cell_type": "code",
   "execution_count": 37,
   "id": "87744356",
   "metadata": {},
   "outputs": [
    {
     "name": "stdout",
     "output_type": "stream",
     "text": [
      "1    NaN\n",
      "2    NaN\n",
      "3    NaN\n",
      "dtype: object\n"
     ]
    }
   ],
   "source": [
    "series6=pd.Series(dict1,index=[1,2,3])\n",
    "print(series6)"
   ]
  },
  {
   "cell_type": "code",
   "execution_count": 38,
   "id": "2e2028f5",
   "metadata": {},
   "outputs": [],
   "source": [
    "# accessing element from series"
   ]
  },
  {
   "cell_type": "code",
   "execution_count": 40,
   "id": "6ac52b1b",
   "metadata": {},
   "outputs": [
    {
     "name": "stdout",
     "output_type": "stream",
     "text": [
      "30\n"
     ]
    }
   ],
   "source": [
    "print(series1[2])"
   ]
  },
  {
   "cell_type": "code",
   "execution_count": 41,
   "id": "3f1eb18e",
   "metadata": {},
   "outputs": [
    {
     "name": "stdout",
     "output_type": "stream",
     "text": [
      "b\n"
     ]
    }
   ],
   "source": [
    "print(series2[2])"
   ]
  },
  {
   "cell_type": "code",
   "execution_count": 45,
   "id": "55f739ba",
   "metadata": {},
   "outputs": [
    {
     "name": "stdout",
     "output_type": "stream",
     "text": [
      "1    20\n",
      "2    30\n",
      "dtype: int64\n"
     ]
    }
   ],
   "source": [
    "print(series1[[1,2]])"
   ]
  },
  {
   "cell_type": "code",
   "execution_count": 53,
   "id": "61b65031",
   "metadata": {},
   "outputs": [
    {
     "name": "stdout",
     "output_type": "stream",
     "text": [
      "london\n"
     ]
    }
   ],
   "source": [
    "print(series6['uk'])"
   ]
  },
  {
   "cell_type": "code",
   "execution_count": 55,
   "id": "ecd0d014",
   "metadata": {},
   "outputs": [
    {
     "name": "stdout",
     "output_type": "stream",
     "text": [
      "2    b\n",
      "3    c\n",
      "dtype: object\n"
     ]
    }
   ],
   "source": [
    "print(series2[1:3])"
   ]
  },
  {
   "cell_type": "code",
   "execution_count": 57,
   "id": "650fd4f9",
   "metadata": {},
   "outputs": [
    {
     "name": "stdout",
     "output_type": "stream",
     "text": [
      "4    d\n",
      "3    c\n",
      "2    b\n",
      "1    a\n",
      "dtype: object\n"
     ]
    }
   ],
   "source": [
    "print(series2[::-1])"
   ]
  },
  {
   "cell_type": "code",
   "execution_count": 59,
   "id": "9b7042d3",
   "metadata": {},
   "outputs": [
    {
     "name": "stdout",
     "output_type": "stream",
     "text": [
      "a    10\n",
      "b    11\n",
      "c    12\n",
      "d    13\n",
      "e    14\n",
      "f    15\n",
      "dtype: int32\n"
     ]
    }
   ],
   "source": [
    "series7=pd.Series(np.arange(10,16,1),index=['a','b','c','d','e','f'])\n",
    "print(series7)"
   ]
  },
  {
   "cell_type": "code",
   "execution_count": 63,
   "id": "38533c32",
   "metadata": {},
   "outputs": [
    {
     "name": "stdout",
     "output_type": "stream",
     "text": [
      "a    10\n",
      "b    50\n",
      "c    50\n",
      "d    13\n",
      "e    14\n",
      "f    15\n",
      "dtype: int32\n"
     ]
    }
   ],
   "source": [
    "series7[1:3]=50\n",
    "print(series7)"
   ]
  },
  {
   "cell_type": "code",
   "execution_count": 64,
   "id": "2eb71407",
   "metadata": {},
   "outputs": [
    {
     "name": "stdout",
     "output_type": "stream",
     "text": [
      "a    10\n",
      "b    50\n",
      "c    60\n",
      "d    13\n",
      "e    14\n",
      "f    15\n",
      "dtype: int32\n"
     ]
    }
   ],
   "source": [
    "series7[1:3]=50,60\n",
    "print(series7)"
   ]
  },
  {
   "cell_type": "code",
   "execution_count": 76,
   "id": "2b04ee3c",
   "metadata": {},
   "outputs": [
    {
     "name": "stdout",
     "output_type": "stream",
     "text": [
      "a    10\n",
      "b    50\n",
      "c    70\n",
      "d    80\n",
      "e    90\n",
      "f    15\n",
      "dtype: int32\n"
     ]
    }
   ],
   "source": [
    "series7['c':'e']=70,80,90\n",
    "print(series7)"
   ]
  },
  {
   "cell_type": "code",
   "execution_count": 4,
   "id": "08f676a2",
   "metadata": {},
   "outputs": [
    {
     "name": "stdout",
     "output_type": "stream",
     "text": [
      "0    10\n",
      "1    11\n",
      "2    12\n",
      "3    13\n",
      "4    14\n",
      "5    15\n",
      "6    16\n",
      "7    17\n",
      "8    18\n",
      "9    19\n",
      "dtype: int32\n"
     ]
    }
   ],
   "source": [
    "series8=pd.Series(np.arange(10,20,1))\n",
    "print(series8)"
   ]
  },
  {
   "cell_type": "code",
   "execution_count": 5,
   "id": "3615773f",
   "metadata": {},
   "outputs": [
    {
     "data": {
      "text/plain": [
       "0    10\n",
       "1    11\n",
       "2    12\n",
       "3    13\n",
       "4    14\n",
       "dtype: int32"
      ]
     },
     "execution_count": 5,
     "metadata": {},
     "output_type": "execute_result"
    }
   ],
   "source": [
    "series8.head()"
   ]
  },
  {
   "cell_type": "code",
   "execution_count": 7,
   "id": "bf25bdb0",
   "metadata": {},
   "outputs": [
    {
     "data": {
      "text/plain": [
       "0    10\n",
       "1    11\n",
       "dtype: int32"
      ]
     },
     "execution_count": 7,
     "metadata": {},
     "output_type": "execute_result"
    }
   ],
   "source": [
    "series8.head(2)"
   ]
  },
  {
   "cell_type": "code",
   "execution_count": 11,
   "id": "41118d09",
   "metadata": {},
   "outputs": [
    {
     "data": {
      "text/plain": [
       "10"
      ]
     },
     "execution_count": 11,
     "metadata": {},
     "output_type": "execute_result"
    }
   ],
   "source": [
    "series8.count()"
   ]
  },
  {
   "cell_type": "code",
   "execution_count": 13,
   "id": "95490836",
   "metadata": {},
   "outputs": [
    {
     "data": {
      "text/plain": [
       "5    15\n",
       "6    16\n",
       "7    17\n",
       "8    18\n",
       "9    19\n",
       "dtype: int32"
      ]
     },
     "execution_count": 13,
     "metadata": {},
     "output_type": "execute_result"
    }
   ],
   "source": [
    "series8.tail()"
   ]
  },
  {
   "cell_type": "code",
   "execution_count": 14,
   "id": "022f71ab",
   "metadata": {},
   "outputs": [
    {
     "data": {
      "text/plain": [
       "8    18\n",
       "9    19\n",
       "dtype: int32"
      ]
     },
     "execution_count": 14,
     "metadata": {},
     "output_type": "execute_result"
    }
   ],
   "source": [
    "series8.tail(2)"
   ]
  },
  {
   "cell_type": "code",
   "execution_count": 15,
   "id": "05a356f7",
   "metadata": {},
   "outputs": [
    {
     "name": "stdout",
     "output_type": "stream",
     "text": [
      "a    1\n",
      "b    2\n",
      "c    3\n",
      "d    4\n",
      "e    5\n",
      "dtype: int64\n"
     ]
    }
   ],
   "source": [
    "# mathematical opration on series\n",
    "seriesa=pd.Series([1,2,3,4,5],index=['a','b','c','d','e'])\n",
    "print(seriesa)"
   ]
  },
  {
   "cell_type": "code",
   "execution_count": 17,
   "id": "a610f0cc",
   "metadata": {},
   "outputs": [
    {
     "name": "stdout",
     "output_type": "stream",
     "text": [
      "y     10\n",
      "z     20\n",
      "a    -10\n",
      "c    -50\n",
      "e   -100\n",
      "dtype: int64\n"
     ]
    }
   ],
   "source": [
    "seriesb=pd.Series([10,20,-10,-50,-100],index=['y','z','a','c','e'])\n",
    "print(seriesb)"
   ]
  },
  {
   "cell_type": "code",
   "execution_count": 18,
   "id": "e69854b5",
   "metadata": {},
   "outputs": [
    {
     "name": "stdout",
     "output_type": "stream",
     "text": [
      "a    -9.0\n",
      "b     NaN\n",
      "c   -47.0\n",
      "d     NaN\n",
      "e   -95.0\n",
      "y     NaN\n",
      "z     NaN\n",
      "dtype: float64\n"
     ]
    }
   ],
   "source": [
    "a=seriesa+seriesb\n",
    "print(a)"
   ]
  },
  {
   "cell_type": "code",
   "execution_count": 20,
   "id": "f97d4c3a",
   "metadata": {},
   "outputs": [
    {
     "name": "stdout",
     "output_type": "stream",
     "text": [
      "a     11.0\n",
      "b      NaN\n",
      "c     53.0\n",
      "d      NaN\n",
      "e    105.0\n",
      "y      NaN\n",
      "z      NaN\n",
      "dtype: float64\n"
     ]
    }
   ],
   "source": [
    "b=seriesa-seriesb\n",
    "print(b)"
   ]
  },
  {
   "cell_type": "code",
   "execution_count": 21,
   "id": "ca4e465b",
   "metadata": {},
   "outputs": [
    {
     "name": "stdout",
     "output_type": "stream",
     "text": [
      "a    -10.0\n",
      "b      NaN\n",
      "c   -150.0\n",
      "d      NaN\n",
      "e   -500.0\n",
      "y      NaN\n",
      "z      NaN\n",
      "dtype: float64\n"
     ]
    }
   ],
   "source": [
    "c=seriesa*seriesb\n",
    "print(c)"
   ]
  },
  {
   "cell_type": "code",
   "execution_count": 22,
   "id": "ba367606",
   "metadata": {},
   "outputs": [
    {
     "name": "stdout",
     "output_type": "stream",
     "text": [
      "a   -0.10\n",
      "b     NaN\n",
      "c   -0.06\n",
      "d     NaN\n",
      "e   -0.05\n",
      "y     NaN\n",
      "z     NaN\n",
      "dtype: float64\n"
     ]
    }
   ],
   "source": [
    "d=seriesa/seriesb\n",
    "print(d)"
   ]
  },
  {
   "cell_type": "code",
   "execution_count": 23,
   "id": "146afb27",
   "metadata": {},
   "outputs": [
    {
     "name": "stdout",
     "output_type": "stream",
     "text": [
      "a   -1.0\n",
      "b    NaN\n",
      "c   -1.0\n",
      "d    NaN\n",
      "e   -1.0\n",
      "y    NaN\n",
      "z    NaN\n",
      "dtype: float64\n"
     ]
    }
   ],
   "source": [
    "e=seriesa//seriesb\n",
    "print(e)"
   ]
  },
  {
   "cell_type": "code",
   "execution_count": 24,
   "id": "b56dc352",
   "metadata": {},
   "outputs": [
    {
     "name": "stdout",
     "output_type": "stream",
     "text": [
      "a    -9.0\n",
      "b     NaN\n",
      "c   -47.0\n",
      "d     NaN\n",
      "e   -95.0\n",
      "y     NaN\n",
      "z     NaN\n",
      "dtype: float64\n"
     ]
    }
   ],
   "source": [
    "f=seriesa%seriesb\n",
    "print(f)"
   ]
  },
  {
   "cell_type": "code",
   "execution_count": 25,
   "id": "5e481787",
   "metadata": {},
   "outputs": [],
   "source": [
    "#2.data frame :- a data frame is two dimensional leved data structure like a table of my sql. it contain rows and column and\n",
    "#therefor has both row and column index"
   ]
  },
  {
   "cell_type": "code",
   "execution_count": 29,
   "id": "cb2d2eb8",
   "metadata": {},
   "outputs": [
    {
     "name": "stdout",
     "output_type": "stream",
     "text": [
      "   calories  duration\n",
      "0        10        50\n",
      "1        20        40\n",
      "2        30        45\n"
     ]
    }
   ],
   "source": [
    "#creation of DataFrame\n",
    "data1={\"calories\":[10,20,30],\"duration\":[50,40,45]}\n",
    "df=pd.DataFrame(data1)\n",
    "print(df)"
   ]
  },
  {
   "cell_type": "code",
   "execution_count": 30,
   "id": "02af5c1d",
   "metadata": {},
   "outputs": [
    {
     "name": "stdout",
     "output_type": "stream",
     "text": [
      "      calories  duration\n",
      "day1        10        50\n",
      "day2        20        40\n",
      "day3        30        45\n"
     ]
    }
   ],
   "source": [
    "df=pd.DataFrame(data1,index=['day1','day2','day3'])\n",
    "print(df)"
   ]
  },
  {
   "cell_type": "code",
   "execution_count": 31,
   "id": "67a0b3bf",
   "metadata": {},
   "outputs": [],
   "source": [
    "#creation of dataframe from numpy ndarray "
   ]
  },
  {
   "cell_type": "code",
   "execution_count": 33,
   "id": "8a5146ab",
   "metadata": {},
   "outputs": [
    {
     "name": "stdout",
     "output_type": "stream",
     "text": [
      "     a    b    c     d\n",
      "0   10   20   30   NaN\n",
      "1  100  200  300   NaN\n",
      "2  -10  -20  -30 -40.0\n"
     ]
    }
   ],
   "source": [
    "arr1=np.array([10,20,30])\n",
    "arr2=np.array([100,200,300])\n",
    "arr3=np.array([-10,-20,-30,-40])\n",
    "df=pd.DataFrame([arr1,arr2,arr3],columns=['a','b','c','d'])\n",
    "print(df)"
   ]
  },
  {
   "cell_type": "code",
   "execution_count": 34,
   "id": "6866814f",
   "metadata": {},
   "outputs": [
    {
     "name": "stdout",
     "output_type": "stream",
     "text": [
      "     a    b    c    d\n",
      "0   10   20   30    :\n",
      "1  100  200  300    a\n",
      "2  -10  -20  -30  -40\n"
     ]
    }
   ],
   "source": [
    "arr1=np.array([10,20,30,\":\"])\n",
    "arr2=np.array([100,200,300,\"a\"])\n",
    "arr3=np.array([-10,-20,-30,-40])\n",
    "df=pd.DataFrame([arr1,arr2,arr3],columns=['a','b','c','d'])\n",
    "print(df)"
   ]
  },
  {
   "cell_type": "code",
   "execution_count": 35,
   "id": "fa14e51e",
   "metadata": {},
   "outputs": [],
   "source": [
    "# creation of dataframe from list of dictonary"
   ]
  },
  {
   "cell_type": "code",
   "execution_count": 5,
   "id": "1eea7779",
   "metadata": {},
   "outputs": [
    {
     "name": "stdout",
     "output_type": "stream",
     "text": [
      "       a   b     c\n",
      "day1  10  20   NaN\n",
      "day2   5  10  15.0\n"
     ]
    }
   ],
   "source": [
    "list_dict=[{'a':10,'b':20},{'a':5,'b':10,'c':15}]\n",
    "df1=pd.DataFrame(list_dict,index=[\"day1\",\"day2\"])\n",
    "print(df1)"
   ]
  },
  {
   "cell_type": "code",
   "execution_count": 4,
   "id": "a4c738d6",
   "metadata": {},
   "outputs": [],
   "source": [
    "#opreation on row and columns in DF\n",
    "#1. add a new column to df"
   ]
  },
  {
   "cell_type": "code",
   "execution_count": 26,
   "id": "9a69f509",
   "metadata": {},
   "outputs": [
    {
     "name": "stdout",
     "output_type": "stream",
     "text": [
      "         smith  tony  jack\n",
      "maths       90    92    81\n",
      "science     91    81    71\n",
      "english     92    86    72\n"
     ]
    }
   ],
   "source": [
    "result_sheet={\"smith\":pd.Series([90,91,92],index=[\"maths\",\"science\",\"english\"]),\n",
    "              \"tony\":pd.Series([92,81,86],index=[\"maths\",\"science\",\"english\"]),\n",
    "              \"jack\":pd.Series([81,71,72],index=[\"maths\",\"science\",\"english\"])}\n",
    "rdf=pd.DataFrame(result_sheet)\n",
    "print(rdf)"
   ]
  },
  {
   "cell_type": "code",
   "execution_count": 5,
   "id": "cd0cbdd0",
   "metadata": {},
   "outputs": [
    {
     "name": "stdout",
     "output_type": "stream",
     "text": [
      "         smith  tony  jack  rahul\n",
      "maths       90    92    81     90\n",
      "science     91    81    71     98\n",
      "english     92    86    72     99\n"
     ]
    }
   ],
   "source": [
    "rdf[\"rahul\"]=[90,98,99]\n",
    "print(rdf)"
   ]
  },
  {
   "cell_type": "code",
   "execution_count": 6,
   "id": "36b3a8a8",
   "metadata": {},
   "outputs": [
    {
     "name": "stdout",
     "output_type": "stream",
     "text": [
      "         smith  tony  jack  rahul\n",
      "maths       90    92    81     60\n",
      "science     91    81    71     61\n",
      "english     92    86    72     63\n"
     ]
    }
   ],
   "source": [
    "rdf[\"rahul\"]=[60,61,63]\n",
    "print(rdf)"
   ]
  },
  {
   "cell_type": "code",
   "execution_count": 7,
   "id": "b6f3c6b7",
   "metadata": {},
   "outputs": [
    {
     "name": "stdout",
     "output_type": "stream",
     "text": [
      "         smith  tony  jack  rahul\n",
      "maths       90    92    81     85\n",
      "science     91    81    71     85\n",
      "english     92    86    72     85\n"
     ]
    }
   ],
   "source": [
    "rdf[\"rahul\"]=85\n",
    "print(rdf)"
   ]
  },
  {
   "cell_type": "code",
   "execution_count": 8,
   "id": "fdcaecf2",
   "metadata": {},
   "outputs": [],
   "source": [
    "# add a new row in dataframe"
   ]
  },
  {
   "cell_type": "code",
   "execution_count": 9,
   "id": "a1ed552f",
   "metadata": {},
   "outputs": [
    {
     "name": "stdout",
     "output_type": "stream",
     "text": [
      "         smith  tony  jack  rahul\n",
      "maths       90    92    81     85\n",
      "science     91    81    71     85\n",
      "english     92    86    72     85\n",
      "hindi       80    60    70     90\n"
     ]
    }
   ],
   "source": [
    "rdf.loc[\"hindi\"]=[80,60,70,90]\n",
    "print(rdf)"
   ]
  },
  {
   "cell_type": "code",
   "execution_count": 10,
   "id": "244949a2",
   "metadata": {},
   "outputs": [
    {
     "name": "stdout",
     "output_type": "stream",
     "text": [
      "         smith  tony  jack  rahul\n",
      "maths       90    92    81     85\n",
      "science     91    81    71     85\n",
      "english     70    70    70     70\n",
      "hindi       80    60    70     90\n"
     ]
    }
   ],
   "source": [
    "rdf.loc[\"english\"]=70\n",
    "print(rdf)"
   ]
  },
  {
   "cell_type": "code",
   "execution_count": 11,
   "id": "bef9221c",
   "metadata": {},
   "outputs": [],
   "source": [
    "#deletion of row or column from dataframe"
   ]
  },
  {
   "cell_type": "code",
   "execution_count": 12,
   "id": "70157f78",
   "metadata": {},
   "outputs": [],
   "source": [
    "# deletion of row and column from a dataframe. we can use datafram.drop method to delete row and column from dataframe.\n",
    "#to delete a row the parameter axis is assigned the value 0 and for deleting a column the paramter axis is assigned the value 1 "
   ]
  },
  {
   "cell_type": "code",
   "execution_count": 13,
   "id": "734756f2",
   "metadata": {},
   "outputs": [
    {
     "name": "stdout",
     "output_type": "stream",
     "text": [
      "         smith  tony  jack  rahul\n",
      "maths       90    92    81     85\n",
      "english     70    70    70     70\n",
      "hindi       80    60    70     90\n"
     ]
    }
   ],
   "source": [
    "# for row deletion\n",
    "rdf=rdf.drop('science',axis=0)\n",
    "print(rdf)"
   ]
  },
  {
   "cell_type": "code",
   "execution_count": 14,
   "id": "ac4ab5be",
   "metadata": {},
   "outputs": [
    {
     "name": "stdout",
     "output_type": "stream",
     "text": [
      "         smith  tony  jack\n",
      "maths       90    92    81\n",
      "english     70    70    70\n",
      "hindi       80    60    70\n"
     ]
    }
   ],
   "source": [
    "rdf=rdf.drop('rahul',axis=1)\n",
    "print(rdf)"
   ]
  },
  {
   "cell_type": "code",
   "execution_count": 15,
   "id": "4e4fa408",
   "metadata": {},
   "outputs": [
    {
     "name": "stdout",
     "output_type": "stream",
     "text": [
      "          smith  tony  jack\n",
      "subject1     90    92    81\n",
      "subject2     70    70    70\n",
      "subject3     80    60    70\n"
     ]
    }
   ],
   "source": [
    "# rename row label of a data frame\n",
    "rdf=rdf.rename({\"maths\":\"subject1\",\"english\":\"subject2\",\"hindi\":\"subject3\"},axis='index')\n",
    "print(rdf)"
   ]
  },
  {
   "cell_type": "markdown",
   "id": "6778d289",
   "metadata": {},
   "source": [
    "## "
   ]
  },
  {
   "cell_type": "code",
   "execution_count": 16,
   "id": "153052a5",
   "metadata": {},
   "outputs": [
    {
     "name": "stdout",
     "output_type": "stream",
     "text": [
      "          student1  student2  student3\n",
      "subject1        90        92        81\n",
      "subject2        70        70        70\n",
      "subject3        80        60        70\n"
     ]
    }
   ],
   "source": [
    "rdf=rdf.rename({\"smith\":\"student1\",\"tony\":\"student2\",\"jack\":\"student3\"},axis=\"columns\")\n",
    "print(rdf)"
   ]
  },
  {
   "cell_type": "code",
   "execution_count": 17,
   "id": "e5ba1190",
   "metadata": {},
   "outputs": [
    {
     "name": "stdout",
     "output_type": "stream",
     "text": [
      "student1    90\n",
      "student2    92\n",
      "student3    81\n",
      "Name: subject1, dtype: int64\n"
     ]
    }
   ],
   "source": [
    "#accesing dataframe elements threw indexing\n",
    "# label based indexing\n",
    "rdf=rdf.loc[\"subject1\"]\n",
    "print(rdf)"
   ]
  },
  {
   "cell_type": "code",
   "execution_count": 23,
   "id": "46b7ff75",
   "metadata": {},
   "outputs": [
    {
     "name": "stdout",
     "output_type": "stream",
     "text": [
      "student1    90\n",
      "student2    92\n",
      "student3    81\n",
      "Name: subject1, dtype: int64\n"
     ]
    }
   ],
   "source": [
    "print(rdf)"
   ]
  },
  {
   "cell_type": "code",
   "execution_count": null,
   "id": "9899b456",
   "metadata": {},
   "outputs": [],
   "source": []
  },
  {
   "cell_type": "code",
   "execution_count": 35,
   "id": "44e70190",
   "metadata": {},
   "outputs": [
    {
     "data": {
      "text/html": [
       "<div>\n",
       "<style scoped>\n",
       "    .dataframe tbody tr th:only-of-type {\n",
       "        vertical-align: middle;\n",
       "    }\n",
       "\n",
       "    .dataframe tbody tr th {\n",
       "        vertical-align: top;\n",
       "    }\n",
       "\n",
       "    .dataframe thead th {\n",
       "        text-align: right;\n",
       "    }\n",
       "</style>\n",
       "<table border=\"1\" class=\"dataframe\">\n",
       "  <thead>\n",
       "    <tr style=\"text-align: right;\">\n",
       "      <th></th>\n",
       "      <th>smith</th>\n",
       "      <th>tony</th>\n",
       "      <th>jack</th>\n",
       "    </tr>\n",
       "  </thead>\n",
       "  <tbody>\n",
       "    <tr>\n",
       "      <th>maths</th>\n",
       "      <td>90</td>\n",
       "      <td>92</td>\n",
       "      <td>81</td>\n",
       "    </tr>\n",
       "    <tr>\n",
       "      <th>science</th>\n",
       "      <td>91</td>\n",
       "      <td>81</td>\n",
       "      <td>71</td>\n",
       "    </tr>\n",
       "    <tr>\n",
       "      <th>english</th>\n",
       "      <td>92</td>\n",
       "      <td>86</td>\n",
       "      <td>72</td>\n",
       "    </tr>\n",
       "  </tbody>\n",
       "</table>\n",
       "</div>"
      ],
      "text/plain": [
       "         smith  tony  jack\n",
       "maths       90    92    81\n",
       "science     91    81    71\n",
       "english     92    86    72"
      ]
     },
     "execution_count": 35,
     "metadata": {},
     "output_type": "execute_result"
    }
   ],
   "source": [
    "#ACCESING DATAFRAME ELEMENTS TREW SLICING\n",
    "rdf.loc[\"maths\":\"english\"]"
   ]
  },
  {
   "cell_type": "code",
   "execution_count": 34,
   "id": "829068d3",
   "metadata": {},
   "outputs": [
    {
     "data": {
      "text/html": [
       "<div>\n",
       "<style scoped>\n",
       "    .dataframe tbody tr th:only-of-type {\n",
       "        vertical-align: middle;\n",
       "    }\n",
       "\n",
       "    .dataframe tbody tr th {\n",
       "        vertical-align: top;\n",
       "    }\n",
       "\n",
       "    .dataframe thead th {\n",
       "        text-align: right;\n",
       "    }\n",
       "</style>\n",
       "<table border=\"1\" class=\"dataframe\">\n",
       "  <thead>\n",
       "    <tr style=\"text-align: right;\">\n",
       "      <th></th>\n",
       "      <th>smith</th>\n",
       "      <th>tony</th>\n",
       "    </tr>\n",
       "  </thead>\n",
       "  <tbody>\n",
       "    <tr>\n",
       "      <th>maths</th>\n",
       "      <td>90</td>\n",
       "      <td>92</td>\n",
       "    </tr>\n",
       "    <tr>\n",
       "      <th>science</th>\n",
       "      <td>91</td>\n",
       "      <td>81</td>\n",
       "    </tr>\n",
       "    <tr>\n",
       "      <th>english</th>\n",
       "      <td>92</td>\n",
       "      <td>86</td>\n",
       "    </tr>\n",
       "  </tbody>\n",
       "</table>\n",
       "</div>"
      ],
      "text/plain": [
       "         smith  tony\n",
       "maths       90    92\n",
       "science     91    81\n",
       "english     92    86"
      ]
     },
     "execution_count": 34,
     "metadata": {},
     "output_type": "execute_result"
    }
   ],
   "source": [
    "rdf.loc['maths':'english',['smith','tony']]"
   ]
  },
  {
   "cell_type": "code",
   "execution_count": 45,
   "id": "8a0fdd4e",
   "metadata": {},
   "outputs": [
    {
     "name": "stdout",
     "output_type": "stream",
     "text": [
      "    c1   c2   c3\n",
      "r1   1  2.0  3.0\n",
      "r2   4  5.0  NaN\n",
      "r3   6  NaN  NaN\n"
     ]
    }
   ],
   "source": [
    "#joining merging and concatination of dataframes\n",
    "dframe1=pd.DataFrame([[1,2,3],[4,5],[6]],columns=['c1','c2','c3'],index=['r1','r2','r3'])\n",
    "print(dframe1)"
   ]
  },
  {
   "cell_type": "code",
   "execution_count": 46,
   "id": "da92bfb4",
   "metadata": {},
   "outputs": [
    {
     "name": "stdout",
     "output_type": "stream",
     "text": [
      "    c2    c5\n",
      "r4  10  20.0\n",
      "r2  30   NaN\n",
      "r5  40  50.0\n"
     ]
    }
   ],
   "source": [
    "dframe2=pd.DataFrame([[10,20],[30],[40,50]],columns=['c2','c5'],index=['r4','r2','r5'])\n",
    "print(dframe2)"
   ]
  },
  {
   "cell_type": "code",
   "execution_count": 47,
   "id": "f769fb01",
   "metadata": {},
   "outputs": [
    {
     "name": "stdout",
     "output_type": "stream",
     "text": [
      "     c1    c2   c3    c5\n",
      "r1  1.0   2.0  3.0   NaN\n",
      "r2  4.0   5.0  NaN   NaN\n",
      "r3  6.0   NaN  NaN   NaN\n",
      "r4  NaN  10.0  NaN  20.0\n",
      "r2  NaN  30.0  NaN   NaN\n",
      "r5  NaN  40.0  NaN  50.0\n"
     ]
    }
   ],
   "source": [
    "dframe1=dframe1._append(dframe2)\n",
    "print(dframe1)"
   ]
  },
  {
   "cell_type": "code",
   "execution_count": 48,
   "id": "34a7a593",
   "metadata": {},
   "outputs": [
    {
     "name": "stdout",
     "output_type": "stream",
     "text": [
      "      c2    c5   c1   c3\n",
      "r4  10.0  20.0  NaN  NaN\n",
      "r2  30.0   NaN  NaN  NaN\n",
      "r5  40.0  50.0  NaN  NaN\n",
      "r1   2.0   NaN  1.0  3.0\n",
      "r2   5.0   NaN  4.0  NaN\n",
      "r3   NaN   NaN  6.0  NaN\n",
      "r4  10.0  20.0  NaN  NaN\n",
      "r2  30.0   NaN  NaN  NaN\n",
      "r5  40.0  50.0  NaN  NaN\n"
     ]
    }
   ],
   "source": [
    "dframe2=dframe2._append(dframe1)\n",
    "print(dframe2)"
   ]
  },
  {
   "cell_type": "code",
   "execution_count": 49,
   "id": "5b9ccc0b",
   "metadata": {},
   "outputs": [
    {
     "name": "stdout",
     "output_type": "stream",
     "text": [
      "         smith  tony  jack\n",
      "maths       90    92    81\n",
      "science     91    81    71\n",
      "english     92    86    72\n"
     ]
    }
   ],
   "source": [
    "#attributes of dataframe\n",
    "result_sheet={\"smith\":pd.Series([90,91,92],index=[\"maths\",\"science\",\"english\"]),\n",
    "              \"tony\":pd.Series([92,81,86],index=[\"maths\",\"science\",\"english\"]),\n",
    "              \"jack\":pd.Series([81,71,72],index=[\"maths\",\"science\",\"english\"])}\n",
    "rdf=pd.DataFrame(result_sheet)\n",
    "print(rdf)"
   ]
  },
  {
   "cell_type": "code",
   "execution_count": 50,
   "id": "a8878a57",
   "metadata": {},
   "outputs": [
    {
     "data": {
      "text/plain": [
       "Index(['maths', 'science', 'english'], dtype='object')"
      ]
     },
     "execution_count": 50,
     "metadata": {},
     "output_type": "execute_result"
    }
   ],
   "source": [
    "# to display row label\n",
    "rdf.index"
   ]
  },
  {
   "cell_type": "code",
   "execution_count": 51,
   "id": "7212fdae",
   "metadata": {},
   "outputs": [
    {
     "data": {
      "text/plain": [
       "Index(['smith', 'tony', 'jack'], dtype='object')"
      ]
     },
     "execution_count": 51,
     "metadata": {},
     "output_type": "execute_result"
    }
   ],
   "source": [
    "# to display columns label\n",
    "rdf.columns"
   ]
  },
  {
   "cell_type": "code",
   "execution_count": 53,
   "id": "2cf1784f",
   "metadata": {},
   "outputs": [
    {
     "data": {
      "text/plain": [
       "smith    int64\n",
       "tony     int64\n",
       "jack     int64\n",
       "dtype: object"
      ]
     },
     "execution_count": 53,
     "metadata": {},
     "output_type": "execute_result"
    }
   ],
   "source": [
    "# to diplay datatype of each column\n",
    "rdf.dtypes"
   ]
  },
  {
   "cell_type": "code",
   "execution_count": 54,
   "id": "475aad0e",
   "metadata": {},
   "outputs": [
    {
     "data": {
      "text/plain": [
       "(3, 3)"
      ]
     },
     "execution_count": 54,
     "metadata": {},
     "output_type": "execute_result"
    }
   ],
   "source": [
    "# to display dimention of datafram\n",
    "rdf.shape"
   ]
  },
  {
   "cell_type": "code",
   "execution_count": 56,
   "id": "3f800d95",
   "metadata": {},
   "outputs": [
    {
     "data": {
      "text/plain": [
       "9"
      ]
     },
     "execution_count": 56,
     "metadata": {},
     "output_type": "execute_result"
    }
   ],
   "source": [
    "# to display total values of dataframe\n",
    "rdf.size"
   ]
  },
  {
   "cell_type": "code",
   "execution_count": 58,
   "id": "ab273d4f",
   "metadata": {},
   "outputs": [
    {
     "data": {
      "text/html": [
       "<div>\n",
       "<style scoped>\n",
       "    .dataframe tbody tr th:only-of-type {\n",
       "        vertical-align: middle;\n",
       "    }\n",
       "\n",
       "    .dataframe tbody tr th {\n",
       "        vertical-align: top;\n",
       "    }\n",
       "\n",
       "    .dataframe thead th {\n",
       "        text-align: right;\n",
       "    }\n",
       "</style>\n",
       "<table border=\"1\" class=\"dataframe\">\n",
       "  <thead>\n",
       "    <tr style=\"text-align: right;\">\n",
       "      <th></th>\n",
       "      <th>smith</th>\n",
       "      <th>tony</th>\n",
       "      <th>jack</th>\n",
       "    </tr>\n",
       "  </thead>\n",
       "  <tbody>\n",
       "    <tr>\n",
       "      <th>maths</th>\n",
       "      <td>90</td>\n",
       "      <td>92</td>\n",
       "      <td>81</td>\n",
       "    </tr>\n",
       "    <tr>\n",
       "      <th>science</th>\n",
       "      <td>91</td>\n",
       "      <td>81</td>\n",
       "      <td>71</td>\n",
       "    </tr>\n",
       "  </tbody>\n",
       "</table>\n",
       "</div>"
      ],
      "text/plain": [
       "         smith  tony  jack\n",
       "maths       90    92    81\n",
       "science     91    81    71"
      ]
     },
     "execution_count": 58,
     "metadata": {},
     "output_type": "execute_result"
    }
   ],
   "source": [
    "# to display n number of row from above data frame\n",
    "rdf.head(2)"
   ]
  },
  {
   "cell_type": "code",
   "execution_count": 59,
   "id": "f54cb240",
   "metadata": {},
   "outputs": [
    {
     "data": {
      "text/html": [
       "<div>\n",
       "<style scoped>\n",
       "    .dataframe tbody tr th:only-of-type {\n",
       "        vertical-align: middle;\n",
       "    }\n",
       "\n",
       "    .dataframe tbody tr th {\n",
       "        vertical-align: top;\n",
       "    }\n",
       "\n",
       "    .dataframe thead th {\n",
       "        text-align: right;\n",
       "    }\n",
       "</style>\n",
       "<table border=\"1\" class=\"dataframe\">\n",
       "  <thead>\n",
       "    <tr style=\"text-align: right;\">\n",
       "      <th></th>\n",
       "      <th>smith</th>\n",
       "      <th>tony</th>\n",
       "      <th>jack</th>\n",
       "    </tr>\n",
       "  </thead>\n",
       "  <tbody>\n",
       "    <tr>\n",
       "      <th>science</th>\n",
       "      <td>91</td>\n",
       "      <td>81</td>\n",
       "      <td>71</td>\n",
       "    </tr>\n",
       "    <tr>\n",
       "      <th>english</th>\n",
       "      <td>92</td>\n",
       "      <td>86</td>\n",
       "      <td>72</td>\n",
       "    </tr>\n",
       "  </tbody>\n",
       "</table>\n",
       "</div>"
      ],
      "text/plain": [
       "         smith  tony  jack\n",
       "science     91    81    71\n",
       "english     92    86    72"
      ]
     },
     "execution_count": 59,
     "metadata": {},
     "output_type": "execute_result"
    }
   ],
   "source": [
    "# to display n number of row from below data frame\n",
    "rdf.tail(2)"
   ]
  },
  {
   "cell_type": "code",
   "execution_count": null,
   "id": "f5f369e0",
   "metadata": {},
   "outputs": [],
   "source": []
  }
 ],
 "metadata": {
  "kernelspec": {
   "display_name": "Python 3 (ipykernel)",
   "language": "python",
   "name": "python3"
  },
  "language_info": {
   "codemirror_mode": {
    "name": "ipython",
    "version": 3
   },
   "file_extension": ".py",
   "mimetype": "text/x-python",
   "name": "python",
   "nbconvert_exporter": "python",
   "pygments_lexer": "ipython3",
   "version": "3.11.5"
  }
 },
 "nbformat": 4,
 "nbformat_minor": 5
}
