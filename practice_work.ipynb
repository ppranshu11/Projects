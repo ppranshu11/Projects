{
 "cells": [
  {
   "cell_type": "code",
   "execution_count": 6,
   "id": "60c578d6",
   "metadata": {},
   "outputs": [
    {
     "data": {
      "text/plain": [
       "6"
      ]
     },
     "execution_count": 6,
     "metadata": {},
     "output_type": "execute_result"
    }
   ],
   "source": [
    "def find_hcf(x,y):\n",
    "    if x>y:\n",
    "        smaller=y\n",
    "    else:\n",
    "        smaller=x\n",
    "    for i in range(1,smaller+1):\n",
    "        if ((x%i==0) and (y%i==0)):\n",
    "            hcf = i\n",
    "    return hcf\n",
    "num1=54\n",
    "num2=24\n",
    "\n",
    "find_hcf(num1,num2)"
   ]
  },
  {
   "cell_type": "code",
   "execution_count": 2,
   "id": "1d86462b",
   "metadata": {},
   "outputs": [],
   "source": [
    "import calendar"
   ]
  },
  {
   "cell_type": "code",
   "execution_count": 3,
   "id": "16823a61",
   "metadata": {},
   "outputs": [],
   "source": [
    "yy=2023\n",
    "mm=11\n",
    "dd=12"
   ]
  },
  {
   "cell_type": "code",
   "execution_count": 5,
   "id": "25dec03d",
   "metadata": {},
   "outputs": [
    {
     "name": "stdout",
     "output_type": "stream",
     "text": [
      "   November 2023\n",
      "Mo Tu We Th Fr Sa Su\n",
      "       1  2  3  4  5\n",
      " 6  7  8  9 10 11 12\n",
      "13 14 15 16 17 18 19\n",
      "20 21 22 23 24 25 26\n",
      "27 28 29 30\n",
      "\n"
     ]
    }
   ],
   "source": [
    "print(calendar.month(yy,mm))"
   ]
  },
  {
   "cell_type": "code",
   "execution_count": 4,
   "id": "e973ed67",
   "metadata": {},
   "outputs": [
    {
     "name": "stdout",
     "output_type": "stream",
     "text": [
      "                                  2024\n",
      "\n",
      "      January                   February                   March\n",
      "Mo Tu We Th Fr Sa Su      Mo Tu We Th Fr Sa Su      Mo Tu We Th Fr Sa Su\n",
      " 1  2  3  4  5  6  7                1  2  3  4                   1  2  3\n",
      " 8  9 10 11 12 13 14       5  6  7  8  9 10 11       4  5  6  7  8  9 10\n",
      "15 16 17 18 19 20 21      12 13 14 15 16 17 18      11 12 13 14 15 16 17\n",
      "22 23 24 25 26 27 28      19 20 21 22 23 24 25      18 19 20 21 22 23 24\n",
      "29 30 31                  26 27 28 29               25 26 27 28 29 30 31\n",
      "\n",
      "       April                      May                       June\n",
      "Mo Tu We Th Fr Sa Su      Mo Tu We Th Fr Sa Su      Mo Tu We Th Fr Sa Su\n",
      " 1  2  3  4  5  6  7             1  2  3  4  5                      1  2\n",
      " 8  9 10 11 12 13 14       6  7  8  9 10 11 12       3  4  5  6  7  8  9\n",
      "15 16 17 18 19 20 21      13 14 15 16 17 18 19      10 11 12 13 14 15 16\n",
      "22 23 24 25 26 27 28      20 21 22 23 24 25 26      17 18 19 20 21 22 23\n",
      "29 30                     27 28 29 30 31            24 25 26 27 28 29 30\n",
      "\n",
      "        July                     August                  September\n",
      "Mo Tu We Th Fr Sa Su      Mo Tu We Th Fr Sa Su      Mo Tu We Th Fr Sa Su\n",
      " 1  2  3  4  5  6  7                1  2  3  4                         1\n",
      " 8  9 10 11 12 13 14       5  6  7  8  9 10 11       2  3  4  5  6  7  8\n",
      "15 16 17 18 19 20 21      12 13 14 15 16 17 18       9 10 11 12 13 14 15\n",
      "22 23 24 25 26 27 28      19 20 21 22 23 24 25      16 17 18 19 20 21 22\n",
      "29 30 31                  26 27 28 29 30 31         23 24 25 26 27 28 29\n",
      "                                                    30\n",
      "\n",
      "      October                   November                  December\n",
      "Mo Tu We Th Fr Sa Su      Mo Tu We Th Fr Sa Su      Mo Tu We Th Fr Sa Su\n",
      "    1  2  3  4  5  6                   1  2  3                         1\n",
      " 7  8  9 10 11 12 13       4  5  6  7  8  9 10       2  3  4  5  6  7  8\n",
      "14 15 16 17 18 19 20      11 12 13 14 15 16 17       9 10 11 12 13 14 15\n",
      "21 22 23 24 25 26 27      18 19 20 21 22 23 24      16 17 18 19 20 21 22\n",
      "28 29 30 31               25 26 27 28 29 30         23 24 25 26 27 28 29\n",
      "                                                    30 31\n",
      "\n"
     ]
    }
   ],
   "source": [
    "print(calendar.calendar(2024))"
   ]
  },
  {
   "cell_type": "code",
   "execution_count": 8,
   "id": "ea7ef0cd",
   "metadata": {},
   "outputs": [
    {
     "name": "stdout",
     "output_type": "stream",
     "text": [
      "   November 2023\n",
      "Mo Tu We Th Fr Sa Su\n",
      "       1  2  3  4  5\n",
      " 6  7  8  9 10 11 12\n",
      "13 14 15 16 17 18 19\n",
      "20 21 22 23 24 25 26\n",
      "27 28 29 30\n",
      "\n"
     ]
    }
   ],
   "source": [
    "print(calendar.month(yy,mm))"
   ]
  },
  {
   "cell_type": "code",
   "execution_count": 1,
   "id": "579d0f73",
   "metadata": {},
   "outputs": [
    {
     "name": "stdout",
     "output_type": "stream",
     "text": [
      "press any key from keyboard : g\n",
      "user has enter a character\n"
     ]
    }
   ],
   "source": [
    "char =input(\"press any key from keyboard : \")\n",
    "if(char.isalpha()):\n",
    "    print(\"user has enter a character\")\n",
    "if(char.isdigit()):\n",
    "    print(\"user has enter a digit\")\n",
    "if(char.isspace()):\n",
    "    print(\"user has entered a white space character\")"
   ]
  },
  {
   "cell_type": "code",
   "execution_count": 2,
   "id": "00414bbd",
   "metadata": {},
   "outputs": [
    {
     "name": "stdout",
     "output_type": "stream",
     "text": [
      "enter any characterg\n",
      "enter character in lowercase.in uppercase it is : G\n"
     ]
    }
   ],
   "source": [
    "ch = input(\"enter any character\")\n",
    "if (ch>='A' and ch<='Z'):\n",
    "    ch=ch.lower()\n",
    "    print(\"enter character in uppercase.in lowercase it is : \"+ ch)\n",
    "else:\n",
    "    ch=ch.upper()\n",
    "    print(\"enter character in lowercase.in uppercase it is : \"+ ch)"
   ]
  },
  {
   "cell_type": "code",
   "execution_count": 10,
   "id": "4ae2c736",
   "metadata": {},
   "outputs": [
    {
     "name": "stdout",
     "output_type": "stream",
     "text": [
      "enter the sex of the employee(m or f):m\n",
      "enter the salary of the employee:5000\n",
      "5350.0\n",
      "salary =  5000\n",
      "bonus =  350.00000000000006\n"
     ]
    }
   ],
   "source": [
    "ch=input(\"enter the sex of the employee(m or f):\")\n",
    "sal=int(input(\"enter the salary of the employee:\"))\n",
    "if(ch=='m'):\n",
    "    bonus = sal*(5/100)\n",
    "    if((sal<10000) and (ch =='m')):\n",
    "        bonus = sal*(7/100)\n",
    "        if((sal<10000) and (ch =='f')):\n",
    "            bonus = sal*(12/100)\n",
    "else:\n",
    "    bonus = sal*(10/100)\n",
    "total_salary = sal+bonus\n",
    "print(total_salary)\n",
    "print(\"salary = \", sal)\n",
    "print(\"bonus = \", bonus)"
   ]
  },
  {
   "cell_type": "code",
   "execution_count": 3,
   "id": "d2e77d6d",
   "metadata": {},
   "outputs": [
    {
     "name": "stdout",
     "output_type": "stream",
     "text": [
      "enter any year to check :2000\n",
      "congrats 2000 is a leap year\n"
     ]
    }
   ],
   "source": [
    "#check leap year\n",
    "year=int(input(\"enter any year to check :\"))\n",
    "if (year%4==0):\n",
    "    print(\"congrats\",year,\"is a leap year\")\n",
    "else:\n",
    "    print(\"good luck for next time\")"
   ]
  },
  {
   "cell_type": "code",
   "execution_count": 3,
   "id": "8af61a77",
   "metadata": {},
   "outputs": [
    {
     "name": "stdout",
     "output_type": "stream",
     "text": [
      "enter a number to find factors30\n",
      "1\n",
      "2\n",
      "3\n",
      "5\n",
      "6\n",
      "10\n",
      "15\n",
      "30\n"
     ]
    }
   ],
   "source": [
    "n=int(input(\"enter a number to find factors\"))\n",
    "for i in range(1,n+1):\n",
    "    if n%i==0:\n",
    "        print(i)"
   ]
  },
  {
   "cell_type": "code",
   "execution_count": 7,
   "id": "5bfacf03",
   "metadata": {},
   "outputs": [],
   "source": [
    "import math"
   ]
  },
  {
   "cell_type": "code",
   "execution_count": 8,
   "id": "e6f4d965",
   "metadata": {},
   "outputs": [
    {
     "data": {
      "text/plain": [
       "60"
      ]
     },
     "execution_count": 8,
     "metadata": {},
     "output_type": "execute_result"
    }
   ],
   "source": [
    "def lcm(a,b):\n",
    "    lcm=(a*b)//math.gcd(a,b)\n",
    "    return lcm\n",
    "lcm(12,20)"
   ]
  },
  {
   "cell_type": "code",
   "execution_count": 9,
   "id": "8476d053",
   "metadata": {},
   "outputs": [
    {
     "data": {
      "text/plain": [
       "18"
      ]
     },
     "execution_count": 9,
     "metadata": {},
     "output_type": "execute_result"
    }
   ],
   "source": [
    "def find_hcf(a,b):\n",
    "    while b!=0:\n",
    "        a,b=b,a%b\n",
    "    return a\n",
    "num1=54\n",
    "num2=72\n",
    "find_hcf(num1,num2)"
   ]
  },
  {
   "cell_type": "code",
   "execution_count": 10,
   "id": "0aa91b67",
   "metadata": {},
   "outputs": [
    {
     "name": "stdout",
     "output_type": "stream",
     "text": [
      "   November 2023\n",
      "Mo Tu We Th Fr Sa Su\n",
      "       1  2  3  4  5\n",
      " 6  7  8  9 10 11 12\n",
      "13 14 15 16 17 18 19\n",
      "20 21 22 23 24 25 26\n",
      "27 28 29 30\n",
      "\n"
     ]
    }
   ],
   "source": [
    "import calendar\n",
    "yy=2023\n",
    "mm=11\n",
    "print(calendar.month(yy,mm))"
   ]
  },
  {
   "cell_type": "code",
   "execution_count": 1,
   "id": "b10219e4",
   "metadata": {},
   "outputs": [
    {
     "name": "stdout",
     "output_type": "stream",
     "text": [
      "enter a number5\n",
      "* \n",
      "* * \n",
      "* * * \n",
      "* * * * \n",
      "* * * * * \n"
     ]
    }
   ],
   "source": [
    "n=int(input(\"enter a number\"))\n",
    "for i in range(0,n):\n",
    "    for j in range (0,i+1):\n",
    "        print(\"*\" ,end =\" \")\n",
    "    print()"
   ]
  },
  {
   "cell_type": "code",
   "execution_count": 18,
   "id": "542b9880",
   "metadata": {},
   "outputs": [
    {
     "name": "stdout",
     "output_type": "stream",
     "text": [
      "enter a number5\n",
      "* * * * * \n",
      "* * * * \n",
      "* * * \n",
      "* * \n",
      "* \n"
     ]
    }
   ],
   "source": [
    "n=int(input(\"enter a number\"))\n",
    "for i in range(n,0,-1):\n",
    "    for j in range (0,i):\n",
    "        print(\"*\" ,end =\" \")\n",
    "    print()"
   ]
  },
  {
   "cell_type": "code",
   "execution_count": 2,
   "id": "f25dcdb6",
   "metadata": {},
   "outputs": [
    {
     "name": "stdout",
     "output_type": "stream",
     "text": [
      "enter a number5\n",
      "     \n",
      "    * \n",
      "   * * \n",
      "  * * * \n",
      " * * * * \n",
      "* * * * * \n"
     ]
    }
   ],
   "source": [
    "\n",
    "n=int(input(\"enter a number\"))\n",
    "for i in range(0,n+1):\n",
    "        print(\" \" * (n-i) + \"* \" * i )\n"
   ]
  },
  {
   "cell_type": "code",
   "execution_count": 1,
   "id": "69f64179",
   "metadata": {},
   "outputs": [
    {
     "name": "stdout",
     "output_type": "stream",
     "text": [
      "enter a number5\n",
      "     \n",
      "      *\n",
      "     *  *\n",
      "    *  *  *\n",
      "   *  *  *  *\n",
      "  *  *  *  *  *\n"
     ]
    }
   ],
   "source": [
    "n=int(input(\"enter a number\"))\n",
    "for i in range(0,n+1):\n",
    "        print(\" \" * (n-i) +  \"  *\" * i )"
   ]
  },
  {
   "cell_type": "code",
   "execution_count": 11,
   "id": "a86b55c4",
   "metadata": {},
   "outputs": [
    {
     "name": "stdout",
     "output_type": "stream",
     "text": [
      "enter a number121\n",
      "number is palidrome\n"
     ]
    }
   ],
   "source": [
    "x=int(input(\"enter a number\"))\n",
    "n=x\n",
    "rev=0\n",
    "while (x>0):\n",
    "    rev=(rev*10)+x%10\n",
    "    x=x//10\n",
    "if n==rev:\n",
    "    print(\"number is palidrome\")\n",
    "else:\n",
    "    print(\"number is not palidrome\")"
   ]
  },
  {
   "cell_type": "code",
   "execution_count": 12,
   "id": "0f1965b5",
   "metadata": {},
   "outputs": [
    {
     "name": "stdout",
     "output_type": "stream",
     "text": [
      "enter a number to reverse12345\n",
      "54321\n"
     ]
    }
   ],
   "source": [
    "n=int(input(\"enter a number to reverse\"))\n",
    "rev=0\n",
    "while n>0:\n",
    "    rev=(rev*10)+n%10\n",
    "    n=n//10\n",
    "print(rev)"
   ]
  },
  {
   "cell_type": "code",
   "execution_count": 15,
   "id": "3451ef50",
   "metadata": {},
   "outputs": [
    {
     "name": "stdout",
     "output_type": "stream",
     "text": [
      "enter a number153\n",
      "this is a armostrong number\n"
     ]
    }
   ],
   "source": [
    "n=int(input(\"enter a number\"))\n",
    "x=n\n",
    "sum=0\n",
    "while n>0:\n",
    "    sum=sum+(n%10)*(n%10)*(n%10)\n",
    "    n=n//10\n",
    "if x==sum:\n",
    "    print(\"this is a armostrong number\")\n",
    "else:\n",
    "    print(\"sorry dude\")"
   ]
  },
  {
   "cell_type": "code",
   "execution_count": 10,
   "id": "c4ce4cba",
   "metadata": {},
   "outputs": [
    {
     "name": "stdout",
     "output_type": "stream",
     "text": [
      "enter a number to find sum till end10\n",
      "55\n"
     ]
    }
   ],
   "source": [
    "n=int(input(\"enter a number to find sum till end\"))\n",
    "sum=0\n",
    "for i in range(1,n+1):\n",
    "    sum=sum+i\n",
    "print(sum)"
   ]
  },
  {
   "cell_type": "code",
   "execution_count": 5,
   "id": "431d7400",
   "metadata": {},
   "outputs": [
    {
     "name": "stdout",
     "output_type": "stream",
     "text": [
      "enter a number to find factorial5\n",
      "120\n"
     ]
    }
   ],
   "source": [
    "def fact():\n",
    "    n=int(input(\"enter a number to find factorial\"))\n",
    "    fact=1\n",
    "    for i in range(1,n+1):\n",
    "        fact=fact*i\n",
    "    print(fact)\n",
    "fact()\n"
   ]
  },
  {
   "cell_type": "code",
   "execution_count": 9,
   "id": "eb09c350",
   "metadata": {},
   "outputs": [
    {
     "name": "stdout",
     "output_type": "stream",
     "text": [
      "enter a number to print5\n",
      "1\n",
      "2\n",
      "3\n",
      "4\n",
      "5\n"
     ]
    }
   ],
   "source": [
    "#PRINTING NUMBER\n",
    "a=int(input(\"enter a number to print\"))\n",
    "i=0\n",
    "while(i!=a):\n",
    "    i=i+1\n",
    "    print(i)"
   ]
  },
  {
   "cell_type": "code",
   "execution_count": 2,
   "id": "501bac04",
   "metadata": {},
   "outputs": [
    {
     "name": "stdout",
     "output_type": "stream",
     "text": [
      "enter a number (-1 to exit)2\n",
      "enter a number (-1 to exit)5\n",
      "enter a number (-1 to exit)4\n",
      "enter a number (-1 to exit)-1\n"
     ]
    }
   ],
   "source": [
    "i=0\n",
    "while(i!=-1):\n",
    "    a=int(input(\"enter a number (-1 to exit)\"))\n",
    "    i=a"
   ]
  },
  {
   "cell_type": "code",
   "execution_count": 5,
   "id": "7effd001",
   "metadata": {},
   "outputs": [
    {
     "name": "stdout",
     "output_type": "stream",
     "text": [
      "1\n",
      "2\n",
      "3\n"
     ]
    }
   ],
   "source": [
    "i=1\n",
    "while(i<6):\n",
    "    print(i)\n",
    "    if i==3:\n",
    "        break\n",
    "    i=i+1"
   ]
  },
  {
   "cell_type": "code",
   "execution_count": 1,
   "id": "83c7478f",
   "metadata": {},
   "outputs": [
    {
     "name": "stdout",
     "output_type": "stream",
     "text": [
      "1\n"
     ]
    }
   ],
   "source": [
    "str = \"His shirt is red\"\n",
    "pos = str.find(\"is\")\n",
    "print(pos)\n"
   ]
  },
  {
   "cell_type": "code",
   "execution_count": 4,
   "id": "7739e2d5",
   "metadata": {},
   "outputs": [
    {
     "name": "stdout",
     "output_type": "stream",
     "text": [
      "LLAB\n"
     ]
    }
   ],
   "source": [
    "s = \"ball\"\n",
    "r = \"\"\n",
    "for item in s:\n",
    "    r = item.upper() + r\n",
    "print(r)\n"
   ]
  },
  {
   "cell_type": "code",
   "execution_count": 10,
   "id": "bc30b3c0",
   "metadata": {},
   "outputs": [
    {
     "name": "stdout",
     "output_type": "stream",
     "text": [
      "enter a stringjahaj\n",
      "yes\n"
     ]
    }
   ],
   "source": [
    "n=input(\"enter a string\")\n",
    "a=n[::-1]\n",
    "if n==a:\n",
    "    print(\"yes\")\n",
    "else:\n",
    "    print(\"no\")"
   ]
  },
  {
   "cell_type": "code",
   "execution_count": 1,
   "id": "da2be0a5",
   "metadata": {},
   "outputs": [
    {
     "name": "stdout",
     "output_type": "stream",
     "text": [
      "gnirts\n"
     ]
    }
   ],
   "source": [
    "rev=\"string\"[::-1]\n",
    "print(rev)"
   ]
  },
  {
   "cell_type": "code",
   "execution_count": 6,
   "id": "095edd30",
   "metadata": {},
   "outputs": [
    {
     "name": "stdout",
     "output_type": "stream",
     "text": [
      "rchul\n"
     ]
    }
   ],
   "source": [
    "a = \"rahul\"\n",
    "b = a.replace(\"a\",\"c\")\n",
    "print(b)"
   ]
  },
  {
   "cell_type": "code",
   "execution_count": 15,
   "id": "808baf84",
   "metadata": {},
   "outputs": [
    {
     "name": "stdout",
     "output_type": "stream",
     "text": [
      "enter a number to find piramide5\n",
      "+ \n",
      "+ + \n",
      "+ + + \n",
      "+ + + + \n"
     ]
    }
   ],
   "source": [
    "n=int(input(\"enter a number to find piramide\"))\n",
    "for i in range(1,n,):\n",
    "    for j in range (1,i+1):\n",
    "        print(\"+\",end = \" \")\n",
    "    print()"
   ]
  },
  {
   "cell_type": "code",
   "execution_count": 22,
   "id": "0452d38b",
   "metadata": {},
   "outputs": [
    {
     "name": "stdout",
     "output_type": "stream",
     "text": [
      "* * * * * 5\n",
      "* * * * 4\n",
      "* * * 3\n",
      "* * 2\n",
      "* 1\n"
     ]
    }
   ],
   "source": [
    "n=5\n",
    "for i in range(n,0,-1):\n",
    "    for j in range(0,i):\n",
    "        print(\"*\",end = \" \")\n",
    "    print(i)"
   ]
  },
  {
   "cell_type": "code",
   "execution_count": 3,
   "id": "1cf97550",
   "metadata": {},
   "outputs": [
    {
     "name": "stdout",
     "output_type": "stream",
     "text": [
      "6\n",
      "5\n"
     ]
    }
   ],
   "source": [
    "    a=5\n",
    "    b=6\n",
    "    a=a+b\n",
    "    b=a-b\n",
    "    a=a-b\n",
    "print(a)\n",
    "print(b)"
   ]
  },
  {
   "cell_type": "code",
   "execution_count": 4,
   "id": "7ee5eab5",
   "metadata": {},
   "outputs": [
    {
     "name": "stdout",
     "output_type": "stream",
     "text": [
      "6\n",
      "5\n"
     ]
    }
   ],
   "source": [
    "    a=5\n",
    "    b=6\n",
    "    a=a^b\n",
    "    b=a^b\n",
    "    a=a^b\n",
    "print(a)\n",
    "print(b)"
   ]
  },
  {
   "cell_type": "code",
   "execution_count": 5,
   "id": "f41dcb32",
   "metadata": {},
   "outputs": [
    {
     "name": "stdout",
     "output_type": "stream",
     "text": [
      "6\n",
      "5\n"
     ]
    }
   ],
   "source": [
    "a=5\n",
    "b=6\n",
    "a,b=b,a\n",
    "print(a)\n",
    "print(b)"
   ]
  },
  {
   "cell_type": "code",
   "execution_count": 6,
   "id": "81a3a5e2",
   "metadata": {},
   "outputs": [
    {
     "data": {
      "text/plain": [
       "'0b110010'"
      ]
     },
     "execution_count": 6,
     "metadata": {},
     "output_type": "execute_result"
    }
   ],
   "source": [
    "bin(50)"
   ]
  },
  {
   "cell_type": "code",
   "execution_count": 7,
   "id": "9954bb6d",
   "metadata": {},
   "outputs": [
    {
     "data": {
      "text/plain": [
       "5"
      ]
     },
     "execution_count": 7,
     "metadata": {},
     "output_type": "execute_result"
    }
   ],
   "source": [
    "0b0101\n"
   ]
  },
  {
   "cell_type": "code",
   "execution_count": 8,
   "id": "65ffd03d",
   "metadata": {},
   "outputs": [
    {
     "data": {
      "text/plain": [
       "'0o31'"
      ]
     },
     "execution_count": 8,
     "metadata": {},
     "output_type": "execute_result"
    }
   ],
   "source": [
    "oct(25)"
   ]
  },
  {
   "cell_type": "code",
   "execution_count": 9,
   "id": "e3fabafb",
   "metadata": {},
   "outputs": [
    {
     "data": {
      "text/plain": [
       "'0x19'"
      ]
     },
     "execution_count": 9,
     "metadata": {},
     "output_type": "execute_result"
    }
   ],
   "source": [
    "hex(25)"
   ]
  },
  {
   "cell_type": "code",
   "execution_count": 3,
   "id": "82bf70a5",
   "metadata": {},
   "outputs": [
    {
     "name": "stdout",
     "output_type": "stream",
     "text": [
      "6\n",
      "5\n"
     ]
    }
   ],
   "source": [
    "a=5\n",
    "b=6\n",
    "c=a\n",
    "a=b\n",
    "b=c\n",
    "print(a)\n",
    "print(b)"
   ]
  },
  {
   "cell_type": "code",
   "execution_count": 5,
   "id": "4ed823fc",
   "metadata": {},
   "outputs": [
    {
     "name": "stdout",
     "output_type": "stream",
     "text": [
      "['rahul', 'is', 'a', 'good', 'boy']\n"
     ]
    }
   ],
   "source": [
    "string=\"rahul is a good boy\"\n",
    "i=string.split()\n",
    "print(i)"
   ]
  },
  {
   "cell_type": "code",
   "execution_count": 2,
   "id": "4b3b6d31",
   "metadata": {},
   "outputs": [
    {
     "name": "stdout",
     "output_type": "stream",
     "text": [
      "enter number to build pyramid5\n",
      "* \n",
      "* * \n",
      "* * * \n",
      "* * * * \n",
      "* * * * * \n"
     ]
    }
   ],
   "source": [
    "n=int(input(\"enter number to build pyramid\"))\n",
    "for i in range (0,n):\n",
    "    for j in range(0,i+1):\n",
    "        print(\"*\",end=\" \")\n",
    "    print()"
   ]
  },
  {
   "cell_type": "code",
   "execution_count": 4,
   "id": "2185f9da",
   "metadata": {},
   "outputs": [
    {
     "name": "stdout",
     "output_type": "stream",
     "text": [
      "enter a number5\n",
      "enter a number6\n",
      "enter a number2\n",
      "enter a number-1\n"
     ]
    }
   ],
   "source": [
    "i=0\n",
    "while (i!=-1):\n",
    "    a=int(input(\"enter a number\"))\n",
    "    i=a"
   ]
  },
  {
   "cell_type": "code",
   "execution_count": 2,
   "id": "a2789814",
   "metadata": {},
   "outputs": [
    {
     "name": "stdout",
     "output_type": "stream",
     "text": [
      "enter a number9\n",
      "sorry loop has been exit\n"
     ]
    }
   ],
   "source": [
    "n=int(input(\"enter a number\"))\n",
    "x=n \n",
    "sum=0\n",
    "while n>0:\n",
    "    sum=sum+(n%10)*(n%10)*(n%10)\n",
    "    n=n//10\n",
    "if x==sum:\n",
    "    print(\"the number is armastrong\")\n",
    "else:\n",
    "    print(\"sorry loop has been exit\")"
   ]
  },
  {
   "cell_type": "code",
   "execution_count": 1,
   "id": "b9b0f014",
   "metadata": {},
   "outputs": [
    {
     "name": "stdout",
     "output_type": "stream",
     "text": [
      "enter a number123\n",
      "321\n"
     ]
    }
   ],
   "source": [
    "a=int(input('enter a number'))\n",
    "rev=0\n",
    "while a>0:\n",
    "    rev=(rev*10)+a%10\n",
    "    a=a//10\n",
    "print(rev)\n",
    "    "
   ]
  },
  {
   "cell_type": "code",
   "execution_count": 1,
   "id": "7f860619",
   "metadata": {},
   "outputs": [
    {
     "name": "stdout",
     "output_type": "stream",
     "text": [
      "enter a number121\n",
      "number is palidrome\n"
     ]
    }
   ],
   "source": [
    "a=int(input('enter a number'))\n",
    "x=a\n",
    "rev=0\n",
    "while a>0:\n",
    "    rev=(rev*10)+a%10\n",
    "    a=a//10\n",
    "if rev==x:\n",
    "    print(\"number is palidrome\")\n",
    "else:\n",
    "    print(\"sorry please check number\")\n",
    "    "
   ]
  },
  {
   "cell_type": "code",
   "execution_count": 4,
   "id": "87122b6c",
   "metadata": {},
   "outputs": [
    {
     "name": "stdout",
     "output_type": "stream",
     "text": [
      "enter a number10\n",
      "1\n",
      "2\n",
      "3\n",
      "5\n",
      "8\n",
      "13\n",
      "21\n",
      "34\n",
      "55\n",
      "89\n"
     ]
    }
   ],
   "source": [
    "#fibonacci series\n",
    "n=int(input(\"enter a number\"))\n",
    "a=0\n",
    "b=1\n",
    "c=0\n",
    "for i in range (0,n):\n",
    "    c=a+b\n",
    "    a=b\n",
    "    b=c\n",
    "    print(c)"
   ]
  },
  {
   "cell_type": "code",
   "execution_count": 5,
   "id": "c56435d2",
   "metadata": {},
   "outputs": [
    {
     "name": "stdout",
     "output_type": "stream",
     "text": [
      "enter a number5\n",
      "number is prime\n"
     ]
    }
   ],
   "source": [
    "#check number is prime or not\n",
    "n=int(input(\"enter a number\"))\n",
    "for i in range(2,n):\n",
    "    if n%i==0:\n",
    "        print(\"number is not prime\")\n",
    "        break\n",
    "    else:\n",
    "        print(\"number is prime\")\n",
    "        break\n",
    "        "
   ]
  },
  {
   "cell_type": "code",
   "execution_count": 1,
   "id": "951196f7",
   "metadata": {},
   "outputs": [
    {
     "name": "stdout",
     "output_type": "stream",
     "text": [
      "enter a number to find factor12\n",
      "1\n",
      "2\n",
      "3\n",
      "4\n",
      "6\n"
     ]
    }
   ],
   "source": [
    "#find factor\n",
    "n=int(input(\"enter a number to find factor\"))\n",
    "for i in range (1,n):\n",
    "    if n%i==0:\n",
    "        print(i)"
   ]
  },
  {
   "cell_type": "code",
   "execution_count": 1,
   "id": "e0ca4fd3",
   "metadata": {},
   "outputs": [
    {
     "name": "stdout",
     "output_type": "stream",
     "text": [
      "enter a number5\n",
      "120\n"
     ]
    }
   ],
   "source": [
    "#print factorial\n",
    "n=int(input(\"enter a number\"))\n",
    "f=1\n",
    "for i in range(1,n+1):\n",
    "    f=f*i\n",
    "print(f)"
   ]
  },
  {
   "cell_type": "code",
   "execution_count": 41,
   "id": "b5acfc38",
   "metadata": {},
   "outputs": [
    {
     "name": "stdout",
     "output_type": "stream",
     "text": [
      "enter a number to print table2\n",
      "enter the end of table10\n",
      "2\n",
      "4\n",
      "6\n",
      "8\n",
      "10\n",
      "12\n",
      "14\n",
      "16\n",
      "18\n",
      "20\n"
     ]
    }
   ],
   "source": [
    "n=int(input(\"enter a number to print table\"))\n",
    "a=int(input(\"enter the end of table\"))\n",
    "for i in range(1,a+1):\n",
    "    i=i*n\n",
    "    print(i)"
   ]
  },
  {
   "cell_type": "code",
   "execution_count": 4,
   "id": "e2846a17",
   "metadata": {},
   "outputs": [
    {
     "name": "stdout",
     "output_type": "stream",
     "text": [
      "happy birthday to you!\n",
      " may god bless you!!\n",
      " happy birthday to you!!!\n",
      "happy birthday to you!\n",
      " may god bless you!!\n",
      " happy birthday to you!!!\n",
      "happy birthday to you!\n",
      " may god bless you!!\n",
      " happy birthday to you!!!\n",
      "\n"
     ]
    }
   ],
   "source": [
    "def rahul():\n",
    "    print(\"happy birthday to you!\\n may god bless you!!\\n happy birthday to you!!!\\n\"*3)\n",
    "rahul()\n",
    "    "
   ]
  },
  {
   "cell_type": "code",
   "execution_count": 7,
   "id": "460f1b48",
   "metadata": {},
   "outputs": [
    {
     "name": "stdout",
     "output_type": "stream",
     "text": [
      "happy birthday to you\n",
      "may god bless you\n",
      "may god bless you\n",
      "may god bless you\n",
      "may god bless you\n",
      "\n"
     ]
    }
   ],
   "source": [
    "def happy():\n",
    "    print(\"happy birthday to you\")\n",
    "    print(\"may god bless you\\n\"*4)\n",
    "happy()"
   ]
  },
  {
   "cell_type": "code",
   "execution_count": 8,
   "id": "2006f70e",
   "metadata": {},
   "outputs": [
    {
     "name": "stdout",
     "output_type": "stream",
     "text": [
      "50\n"
     ]
    }
   ],
   "source": [
    "def sum(a,b):\n",
    "    add=a+b\n",
    "    print(add)\n",
    "sum(20,30)"
   ]
  },
  {
   "cell_type": "code",
   "execution_count": 14,
   "id": "10cd9c3d",
   "metadata": {},
   "outputs": [
    {
     "name": "stdout",
     "output_type": "stream",
     "text": [
      "enter a number to check positive or negative5\n",
      "5 :is a positive number\n"
     ]
    }
   ],
   "source": [
    "a=int(input(\"enter a number to check positive or negative\"))\n",
    "def check(num):\n",
    "    if num>0:\n",
    "        print(a,\":is a positive number\")\n",
    "    elif num<0:\n",
    "        print(a,\": is a negative number\")\n",
    "    else:\n",
    "        print(\"the number is:\",a)\n",
    "check(a)"
   ]
  },
  {
   "cell_type": "code",
   "execution_count": 15,
   "id": "f8a529b2",
   "metadata": {},
   "outputs": [
    {
     "name": "stdout",
     "output_type": "stream",
     "text": [
      "enter a number to check odd or even : 5\n",
      "given number is odd\n"
     ]
    }
   ],
   "source": [
    "a=int(input(\"enter a number to check odd or even : \"))\n",
    "def check(num):\n",
    "    if a%2==0:\n",
    "        print(\"given number is even\")\n",
    "    else:\n",
    "        print(\"given number is odd\")\n",
    "check(a)"
   ]
  },
  {
   "cell_type": "code",
   "execution_count": 41,
   "id": "08a810ad",
   "metadata": {},
   "outputs": [
    {
     "name": "stdout",
     "output_type": "stream",
     "text": [
      "enter first number : 1\n",
      "enter second number : 10\n",
      "enter third number : -24\n",
      "the roots are : 44.0 , -54.0\n"
     ]
    }
   ],
   "source": [
    "# quadratic equestion\n",
    "a=int(input(\"enter first number : \"))\n",
    "b=int(input(\"enter second number : \"))\n",
    "c=int(input(\"enter third number : \"))\n",
    "def quard_root(num1,num2,num3):\n",
    "    delta=(b**2-4*a*c)**1/2\n",
    "    if delta>0:\n",
    "        root1=(-b+delta)/2*a\n",
    "        root2=(-b-delta)/2*a\n",
    "        print(\"the roots are :\",root1,\",\",root2)\n",
    "    elif delta==0:\n",
    "        root=-b/2*a\n",
    "        print(\"the root is :\",root)\n",
    "    else:\n",
    "        print(\"roots are imaginary\")\n",
    "quard_root(a,b,c)"
   ]
  },
  {
   "cell_type": "code",
   "execution_count": 40,
   "id": "3f8b02ac",
   "metadata": {},
   "outputs": [
    {
     "name": "stdout",
     "output_type": "stream",
     "text": [
      "enter first number1\n",
      "enter second number10\n",
      "enter third number-24\n",
      "The roots are\n",
      "-12.0\n",
      "2.0\n"
     ]
    }
   ],
   "source": [
    "import math\n",
    " \n",
    "a = int(input(\"enter first number\"))\n",
    "b = int(input(\"enter second number\"))\n",
    "c = int(input(\"enter third number\"))\n",
    " \n",
    "# calculating  the discriminant\n",
    "dis = (b**2) - (4 * a*c)\n",
    " \n",
    "# find two results\n",
    "ans1 = (-b - math.sqrt(dis))/(2 * a)\n",
    "ans2 = (-b + math.sqrt(dis))/(2 * a)\n",
    " \n",
    "# printing the results\n",
    "print('The roots are')\n",
    "print(ans1)\n",
    "print(ans2)"
   ]
  },
  {
   "cell_type": "code",
   "execution_count": 42,
   "id": "535dcd04",
   "metadata": {},
   "outputs": [
    {
     "name": "stdout",
     "output_type": "stream",
     "text": [
      "enter first number1\n",
      "enter second number10\n",
      "enter third number-24\n",
      "root1= 2.0\n",
      "root2= -12.0\n"
     ]
    }
   ],
   "source": [
    "a = int(input(\"enter first number\"))\n",
    "b = int(input(\"enter second number\"))\n",
    "c = int(input(\"enter third number\"))\n",
    "delta=((b**2)-(4*a*c))**0.5\n",
    "root1=(-b+delta)/2*a\n",
    "root2=(-b-delta)/2*a\n",
    "print(\"root1=\",root1)\n",
    "print(\"root2=\",root2)"
   ]
  },
  {
   "cell_type": "code",
   "execution_count": 45,
   "id": "2f1d0d55",
   "metadata": {},
   "outputs": [
    {
     "name": "stdout",
     "output_type": "stream",
     "text": [
      "Enter First Value1\n",
      "Enter Second Value10\n",
      "Enter Third Value-24\n",
      "Roots are real and Different: \n",
      "Root1=  2.0\n",
      "Root2=  -12.0\n"
     ]
    }
   ],
   "source": [
    "a=float(input(\"Enter First Value\"))\n",
    "b=float(input(\"Enter Second Value\"))\n",
    "c=float(input(\"Enter Third Value\"))\n",
    "\n",
    "delta=((b**2)-(4*a*c))**0.5\n",
    "\n",
    "root1=(-b+delta)/2*a\n",
    "root2=(-b-delta)/2*a\n",
    "\n",
    "if abs(delta)>0:\n",
    "    print(\"Roots are real and Different: \")\n",
    "    print(\"Root1= \",root1)\n",
    "    print(\"Root2= \",root2)\n",
    "elif abs(delta)==0:\n",
    "    print(\"Roots are real and Same: \")\n",
    "    print(\"Root1= \" ,root1)\n",
    "    print(\"Root2= \" ,root2)\n",
    "else:\n",
    "    print(\"Roots are Complex\")\n",
    "    print(\"Root1= \" ,root1)\n",
    "    print(\"Root2= \" ,root2)"
   ]
  },
  {
   "cell_type": "code",
   "execution_count": 9,
   "id": "71240b55",
   "metadata": {},
   "outputs": [
    {
     "name": "stdout",
     "output_type": "stream",
     "text": [
      "[2, 5, 6, 8, 4, 1, 3, 0, 9]\n",
      "[2, 5, 6, 4, 1, 3, 0, 8, 9]\n",
      "[2, 5, 4, 1, 3, 0, 6, 8, 9]\n",
      "[2, 4, 1, 3, 0, 5, 6, 8, 9]\n",
      "[2, 1, 3, 0, 4, 5, 6, 8, 9]\n",
      "[1, 2, 0, 3, 4, 5, 6, 8, 9]\n",
      "[1, 0, 2, 3, 4, 5, 6, 8, 9]\n",
      "[0, 1, 2, 3, 4, 5, 6, 8, 9]\n",
      "[0, 1, 2, 3, 4, 5, 6, 8, 9]\n"
     ]
    }
   ],
   "source": [
    "#bubble sort\n",
    "def sort(list):\n",
    "    l=len(a)\n",
    "    for i in range (l-1,0,-1):\n",
    "        for j in range(i):\n",
    "            if a[j]>a[j+1]:\n",
    "                tem= a[j]\n",
    "                a[j]=a[j+1]\n",
    "                a[j+1]=tem\n",
    "        print(a)\n",
    "a=[2,6,5,8,9,4,1,3,0]\n",
    "sort(a)\n",
    "print(a)\n",
    "\n",
    "                "
   ]
  },
  {
   "cell_type": "code",
   "execution_count": 13,
   "id": "8dab9b01",
   "metadata": {},
   "outputs": [
    {
     "name": "stdout",
     "output_type": "stream",
     "text": [
      "[1, 4, 5, 6, 7, 8, 9]\n"
     ]
    }
   ],
   "source": [
    "#selection sort\n",
    "def sort(nums):\n",
    "     for i in range(6):\n",
    "        minpos=i\n",
    "        for j in range(i,len(a)):\n",
    "            if a[j]<a[minpos]:\n",
    "                minpos=j\n",
    "        a[i],a[minpos]=a[minpos],a[i]\n",
    "a=[6,8,9,5,4,7,1]\n",
    "sort(a)\n",
    "print(a)"
   ]
  },
  {
   "cell_type": "code",
   "execution_count": 14,
   "id": "8c549cb7",
   "metadata": {},
   "outputs": [
    {
     "name": "stdout",
     "output_type": "stream",
     "text": [
      "[2, 6, 5, 9, 8, 4, 2, 8]\n",
      "[2, 5, 6, 9, 8, 4, 2, 8]\n",
      "[2, 5, 6, 9, 8, 4, 2, 8]\n",
      "[2, 5, 6, 8, 9, 4, 2, 8]\n",
      "[2, 4, 5, 6, 8, 9, 2, 8]\n",
      "[2, 2, 4, 5, 6, 8, 9, 8]\n",
      "[2, 2, 4, 5, 6, 8, 8, 9]\n",
      "[2, 2, 4, 5, 6, 8, 8, 9]\n"
     ]
    }
   ],
   "source": [
    "#insertion_sort\n",
    "def insertion_sort(list):\n",
    "    for i in range(1,len(arr)):\n",
    "        j=i\n",
    "        while arr[j-1]>arr[j] and j>0:\n",
    "            arr[j-1],arr[j]=arr[j],arr[j-1]\n",
    "            j=j-1\n",
    "        print(arr)\n",
    "arr=[2,6,5,9,8,4,2,8]\n",
    "insertion_sort(arr)\n",
    "print(arr)"
   ]
  },
  {
   "cell_type": "code",
   "execution_count": 3,
   "id": "9c65db20",
   "metadata": {},
   "outputs": [
    {
     "name": "stdout",
     "output_type": "stream",
     "text": [
      "[11, 12, 13, 14, 23, 45, 65, 98]\n"
     ]
    }
   ],
   "source": [
    "def sort(list):\n",
    "    l=len(a)\n",
    "    for i in range (l-1,0,-1):\n",
    "        for j in range(i):\n",
    "            if a[j]>a[j+1]:\n",
    "                a[j],a[j+1]=a[j+1],a[j]\n",
    "a=[12,23,45,14,65,98,11,13]\n",
    "sort(a)\n",
    "print(a)"
   ]
  },
  {
   "cell_type": "code",
   "execution_count": 12,
   "id": "de9ce789",
   "metadata": {},
   "outputs": [
    {
     "name": "stdout",
     "output_type": "stream",
     "text": [
      "enter first value0\n",
      "enter second value2\n",
      "enter third value0\n",
      "roots are real and different:\n",
      "0.0\n",
      "-0.0\n"
     ]
    }
   ],
   "source": [
    "a=int(input(\"enter first value\"))\n",
    "b=int(input(\"enter second value\"))\n",
    "c=int(input(\"enter third value\"))\n",
    "delta=((b**2)-(4*a*c))**(1/2)\n",
    "root1=(-b+delta)/2*a\n",
    "root2=(-b-delta)/2*a\n",
    "if abs(delta)>0:\n",
    "    print(\"roots are real and different:\")\n",
    "    print(root1)\n",
    "    print(root2)\n",
    "elif abs(delta)==0:\n",
    "    print(\"roots are real and same\")\n",
    "    print(root1)\n",
    "    print(root2)\n",
    "else:\n",
    "    print(\"roots are complex \")"
   ]
  },
  {
   "cell_type": "code",
   "execution_count": 7,
   "id": "e5028f82",
   "metadata": {},
   "outputs": [
    {
     "name": "stdout",
     "output_type": "stream",
     "text": [
      "[1, 2, 3, 3, 6, 7, 8, 9]\n"
     ]
    }
   ],
   "source": [
    "def selection_sort(list):\n",
    "    for i in range(7):\n",
    "        midpos=i\n",
    "        for j in range(i,8):\n",
    "            midpos=j\n",
    "            if a[i]>a[midpos]:\n",
    "                a[i],a[midpos]=a[midpos],a[i]\n",
    "a=[3,8,2,9,3,7,6,1]\n",
    "selection_sort(a)\n",
    "print(a)"
   ]
  },
  {
   "cell_type": "code",
   "execution_count": 1,
   "id": "ba7f7685",
   "metadata": {},
   "outputs": [
    {
     "name": "stdout",
     "output_type": "stream",
     "text": [
      "enter first value10\n",
      "enter second value12\n",
      "enter third value9\n",
      "root are real and diffrent\n",
      "-600.0\n",
      "480.0\n"
     ]
    }
   ],
   "source": [
    "a=int(input(\"enter first value\"))\n",
    "b=int(input(\"enter second value\"))\n",
    "c=int(input(\"enter third value\"))\n",
    "delta=((b**2)-(4*a*c))**1/2\n",
    "root1=(-b+delta)/2*a\n",
    "root2=(-b-delta)/2*a\n",
    "if abs(delta)>0:\n",
    "    print(\"root are real and diffrent\")\n",
    "    print(root1)\n",
    "    print(root2)\n",
    "elif abs(delta)==0:\n",
    "    print(\"root are real and same\")\n",
    "    print(root1)\n",
    "    print(root2)\n",
    "else:\n",
    "    print(\"root are complex\")\n",
    "\n",
    "    "
   ]
  },
  {
   "cell_type": "code",
   "execution_count": 19,
   "id": "3eda7dac",
   "metadata": {},
   "outputs": [
    {
     "name": "stdout",
     "output_type": "stream",
     "text": [
      "[1, 2, 3, 4, 5, 6, 7, 8, 9, 10, 11, 12, 13]\n"
     ]
    }
   ],
   "source": [
    "def selection_sort(list):\n",
    "    for i in range(12):\n",
    "        midpos=i\n",
    "        for j in range(i+1,13):\n",
    "            midpos=j\n",
    "            if a[i]>a[midpos]:\n",
    "                a[i],a[midpos]=a[midpos],a[i]\n",
    "a=[6,5,9,8,2,3,7,1,4,10,13,11,12]\n",
    "selection_sort(a)\n",
    "print(a)\n",
    "                "
   ]
  },
  {
   "cell_type": "code",
   "execution_count": 11,
   "id": "3a2b894b",
   "metadata": {},
   "outputs": [
    {
     "name": "stdout",
     "output_type": "stream",
     "text": [
      "[0, 1, 3, 4, 5, 6, 7, 8, 9]\n"
     ]
    }
   ],
   "source": [
    "def bubble_sort(list):\n",
    "    for i in range(len(a)-1,0,-1):\n",
    "        for j in range(i):\n",
    "            if a[j]>a[j+1]:\n",
    "                a[j],a[j+1]=a[j+1],a[j]\n",
    "a=[6,5,0,8,9,4,3,1,7]\n",
    "bubble_sort(a)\n",
    "print(a)"
   ]
  },
  {
   "cell_type": "code",
   "execution_count": 31,
   "id": "e9309893",
   "metadata": {},
   "outputs": [
    {
     "name": "stdout",
     "output_type": "stream",
     "text": [
      "[4, 5, 6, 7, 2, 3, 4, 9, 8, 5]\n"
     ]
    }
   ],
   "source": [
    "a=[4,5,6,7,2,3,4,9,8]\n",
    "a.append(5)\n",
    "print(a)"
   ]
  },
  {
   "cell_type": "code",
   "execution_count": 33,
   "id": "d2f9838a",
   "metadata": {},
   "outputs": [
    {
     "data": {
      "text/plain": [
       "4"
      ]
     },
     "execution_count": 33,
     "metadata": {},
     "output_type": "execute_result"
    }
   ],
   "source": [
    "a.index(min(a))\n"
   ]
  },
  {
   "cell_type": "code",
   "execution_count": 14,
   "id": "45f8d34f",
   "metadata": {},
   "outputs": [
    {
     "name": "stdout",
     "output_type": "stream",
     "text": [
      "[4, 5, 6, 7, 2, 3, 4, 9, 8, 5, 45, 21, 23, 45, 21, 23]\n"
     ]
    }
   ],
   "source": [
    "b=[45,21,23]\n",
    "a.extend(b)\n",
    "print(a)"
   ]
  },
  {
   "cell_type": "code",
   "execution_count": 15,
   "id": "643e167b",
   "metadata": {},
   "outputs": [
    {
     "name": "stdout",
     "output_type": "stream",
     "text": [
      "[4, 5, 6, 16, 7, 2, 3, 4, 9, 8, 5, 45, 21, 23, 45, 21, 23]\n"
     ]
    }
   ],
   "source": [
    "a.insert(3,16)\n",
    "print(a)"
   ]
  },
  {
   "cell_type": "code",
   "execution_count": 19,
   "id": "f7b4dbca",
   "metadata": {},
   "outputs": [
    {
     "name": "stdout",
     "output_type": "stream",
     "text": [
      "[5, 6, 16, 7, 2, 3, 4, 9, 8, 5, 45, 21, 23, 45, 21, 23]\n"
     ]
    }
   ],
   "source": [
    "del a[0]\n",
    "print(a)"
   ]
  },
  {
   "cell_type": "code",
   "execution_count": 20,
   "id": "4b87cddf",
   "metadata": {},
   "outputs": [
    {
     "name": "stdout",
     "output_type": "stream",
     "text": [
      "[5, 6, 7, 2, 3, 4, 9, 8, 5, 45, 21, 23, 45, 21, 23]\n"
     ]
    }
   ],
   "source": [
    "a.remove(16)\n",
    "print(a)"
   ]
  },
  {
   "cell_type": "code",
   "execution_count": 21,
   "id": "2c50f8b2",
   "metadata": {},
   "outputs": [
    {
     "name": "stdout",
     "output_type": "stream",
     "text": [
      "[5, 6, 7, 3, 4, 9, 8, 5, 45, 21, 23, 45, 21, 23]\n"
     ]
    }
   ],
   "source": [
    "a.pop(3)\n",
    "print(a)"
   ]
  },
  {
   "cell_type": "code",
   "execution_count": 23,
   "id": "22cc2219",
   "metadata": {},
   "outputs": [
    {
     "name": "stdout",
     "output_type": "stream",
     "text": [
      "[23, 21, 45, 23, 21, 45, 5, 8, 9, 4, 3, 7, 6, 5]\n"
     ]
    }
   ],
   "source": [
    "a.reverse()\n",
    "print(a)"
   ]
  },
  {
   "cell_type": "code",
   "execution_count": 24,
   "id": "6ac293f2",
   "metadata": {},
   "outputs": [
    {
     "name": "stdout",
     "output_type": "stream",
     "text": [
      "[3, 4, 5, 5, 6, 7, 8, 9, 21, 21, 23, 23, 45, 45]\n"
     ]
    }
   ],
   "source": [
    "a.sort()\n",
    "print(a)"
   ]
  },
  {
   "cell_type": "code",
   "execution_count": 25,
   "id": "84708d65",
   "metadata": {},
   "outputs": [
    {
     "data": {
      "text/plain": [
       "2"
      ]
     },
     "execution_count": 25,
     "metadata": {},
     "output_type": "execute_result"
    }
   ],
   "source": [
    "a.index(5)"
   ]
  },
  {
   "cell_type": "code",
   "execution_count": 28,
   "id": "982993e5",
   "metadata": {},
   "outputs": [
    {
     "data": {
      "text/plain": [
       "2"
      ]
     },
     "execution_count": 28,
     "metadata": {},
     "output_type": "execute_result"
    }
   ],
   "source": [
    "a.count(5)\n"
   ]
  },
  {
   "cell_type": "code",
   "execution_count": 29,
   "id": "772ae4da",
   "metadata": {},
   "outputs": [
    {
     "data": {
      "text/plain": [
       "14"
      ]
     },
     "execution_count": 29,
     "metadata": {},
     "output_type": "execute_result"
    }
   ],
   "source": [
    "len(a)"
   ]
  },
  {
   "cell_type": "code",
   "execution_count": 30,
   "id": "eec4f5f3",
   "metadata": {},
   "outputs": [
    {
     "data": {
      "text/plain": [
       "0"
      ]
     },
     "execution_count": 30,
     "metadata": {},
     "output_type": "execute_result"
    }
   ],
   "source": [
    "a.index(min(a))"
   ]
  },
  {
   "cell_type": "code",
   "execution_count": 40,
   "id": "19127254",
   "metadata": {},
   "outputs": [
    {
     "name": "stdout",
     "output_type": "stream",
     "text": [
      "[1, 5, 6, 2, 3, 4, 8]\n"
     ]
    }
   ],
   "source": [
    "a=[1,5,6,2,3,4,8,9]\n",
    "a.pop()\n",
    "print(a)"
   ]
  },
  {
   "cell_type": "code",
   "execution_count": 41,
   "id": "34e375d5",
   "metadata": {},
   "outputs": [
    {
     "data": {
      "text/plain": [
       "8"
      ]
     },
     "execution_count": 41,
     "metadata": {},
     "output_type": "execute_result"
    }
   ],
   "source": [
    "a[-1]\n"
   ]
  },
  {
   "cell_type": "code",
   "execution_count": 42,
   "id": "08baf586",
   "metadata": {},
   "outputs": [
    {
     "data": {
      "text/plain": [
       "2"
      ]
     },
     "execution_count": 42,
     "metadata": {},
     "output_type": "execute_result"
    }
   ],
   "source": [
    "a[3]"
   ]
  },
  {
   "cell_type": "code",
   "execution_count": 43,
   "id": "cf1d0d77",
   "metadata": {},
   "outputs": [
    {
     "name": "stdout",
     "output_type": "stream",
     "text": [
      "[1, 5, 6, 16, 2, 3, 4, 8]\n"
     ]
    }
   ],
   "source": [
    "a.insert(3,16)\n",
    "print(a)"
   ]
  },
  {
   "cell_type": "code",
   "execution_count": 46,
   "id": "22dc8d32",
   "metadata": {},
   "outputs": [
    {
     "name": "stdout",
     "output_type": "stream",
     "text": [
      "[1, 2, 3, 4, 5, 6, 8, 16]\n"
     ]
    }
   ],
   "source": [
    "a.sort()\n",
    "print(a)"
   ]
  },
  {
   "cell_type": "code",
   "execution_count": 47,
   "id": "c905b990",
   "metadata": {},
   "outputs": [
    {
     "data": {
      "text/plain": [
       "[16, 8, 6, 5, 4, 3, 2, 1]"
      ]
     },
     "execution_count": 47,
     "metadata": {},
     "output_type": "execute_result"
    }
   ],
   "source": [
    "a[::-1]\n"
   ]
  },
  {
   "cell_type": "code",
   "execution_count": 49,
   "id": "b15ec2dd",
   "metadata": {},
   "outputs": [
    {
     "data": {
      "text/plain": [
       "[2, 3, 4, 5, 6, 8, 16]"
      ]
     },
     "execution_count": 49,
     "metadata": {},
     "output_type": "execute_result"
    }
   ],
   "source": [
    "a[1:]"
   ]
  },
  {
   "cell_type": "code",
   "execution_count": 1,
   "id": "f2a34e1a",
   "metadata": {},
   "outputs": [
    {
     "name": "stdout",
     "output_type": "stream",
     "text": [
      "['paragraph']\n"
     ]
    }
   ],
   "source": [
    "sentences = \"paragraph\"\n",
    "result=sentences.split(',')\n",
    "print(result)\n"
   ]
  },
  {
   "cell_type": "code",
   "execution_count": 5,
   "id": "230c78ed",
   "metadata": {},
   "outputs": [
    {
     "name": "stdout",
     "output_type": "stream",
     "text": [
      "[0, 1, 2, 3, 4, 5, 6, 8, 9, 9]\n"
     ]
    }
   ],
   "source": [
    "def bubble_sort(list):\n",
    "    l=len(a)\n",
    "    for i in range(l-1,0,-1):\n",
    "        for j in range(i):\n",
    "            if a[j]>a[j+1]:\n",
    "                a[j],a[j+1]=a[j+1],a[j]\n",
    "a=[9,6,5,3,9,4,8,2,1,0]\n",
    "bubble_sort(a)\n",
    "print(a)"
   ]
  },
  {
   "cell_type": "code",
   "execution_count": 13,
   "id": "86ef37a3",
   "metadata": {},
   "outputs": [
    {
     "name": "stdout",
     "output_type": "stream",
     "text": [
      "[0, 1, 2, 3, 4, 5, 6, 7, 8, 9, 9]\n"
     ]
    }
   ],
   "source": [
    "def selection_sort(list):\n",
    "    l=len(a)\n",
    "    for i in range(l-1):\n",
    "        minpos=i\n",
    "        for j in range(i,l):\n",
    "            minpos=j\n",
    "            if a[i]>a[minpos]:\n",
    "                a[i],a[minpos]=a[minpos],a[i]\n",
    "a=[9,6,8,3,7,5,2,0,4,1,9]\n",
    "selection_sort(a)\n",
    "print(a)"
   ]
  },
  {
   "cell_type": "code",
   "execution_count": 10,
   "id": "6748a536",
   "metadata": {},
   "outputs": [
    {
     "name": "stdout",
     "output_type": "stream",
     "text": [
      "[2, 3, 4, 5, 6, 8, 9]\n"
     ]
    }
   ],
   "source": [
    "def insertion_sort(list):\n",
    "    for i in range(1,len(a)):\n",
    "        j=i\n",
    "        while a[j-1]>a[j] and j>0:\n",
    "            a[j-1],a[j]=a[j],a[j-1]\n",
    "            j=j-1\n",
    "a=[5,6,9,2,8,3,4]\n",
    "insertion_sort(a)\n",
    "print(a)"
   ]
  },
  {
   "cell_type": "code",
   "execution_count": 19,
   "id": "a46df4a1",
   "metadata": {},
   "outputs": [
    {
     "name": "stdout",
     "output_type": "stream",
     "text": [
      "[0, 1, 2, 3, 4, 5, 6, 7, 8, 9]\n"
     ]
    }
   ],
   "source": [
    "new_list=[i for i in range(0,10)]\n",
    "print(new_list)"
   ]
  },
  {
   "cell_type": "code",
   "execution_count": 2,
   "id": "2fdec44d",
   "metadata": {},
   "outputs": [
    {
     "name": "stdout",
     "output_type": "stream",
     "text": [
      "[0, 1, 2, 2, 6, 6, 8, 9]\n"
     ]
    }
   ],
   "source": [
    "def bubble_sort(list):\n",
    "    l=len(a)\n",
    "    for i in range(l-1,0,-1):\n",
    "        for j in range(i):\n",
    "            if a[j]>a[j+1]:\n",
    "                a[j],a[j+1]=a[j+1],a[j]\n",
    "a=[8,6,2,2,1,6,9,0]\n",
    "bubble_sort(a)\n",
    "print(a)\n",
    "            "
   ]
  },
  {
   "cell_type": "code",
   "execution_count": 6,
   "id": "5204916f",
   "metadata": {},
   "outputs": [
    {
     "name": "stdout",
     "output_type": "stream",
     "text": [
      "[0, 1, 3, 4, 5, 6, 8, 9]\n"
     ]
    }
   ],
   "source": [
    "def selection_sort(list):\n",
    "    l=len(a)\n",
    "    for i in range(l-1):\n",
    "        minpos=i\n",
    "        for j in range(i,l):\n",
    "            minpos=j\n",
    "            if a[i]>a[minpos]:\n",
    "                a[i],a[minpos]=a[minpos],a[i]\n",
    "a=[5,9,8,1,3,6,4,0]\n",
    "selection_sort(a)\n",
    "print(a)"
   ]
  },
  {
   "cell_type": "code",
   "execution_count": 7,
   "id": "b5a62f8d",
   "metadata": {},
   "outputs": [
    {
     "name": "stdout",
     "output_type": "stream",
     "text": [
      "[1, 2, 3, 4, 6, 8, 9]\n"
     ]
    }
   ],
   "source": [
    "def insetion_sort(list):\n",
    "    for i in range(1,len(a)):\n",
    "        j=i\n",
    "        while a[j-1]>a[j] and j>0:\n",
    "            a[j-1],a[j]=a[j],a[j-1]\n",
    "            j=j-1\n",
    "a=[2,9,6,8,3,4,1]\n",
    "insetion_sort(a)\n",
    "print(a)"
   ]
  },
  {
   "cell_type": "code",
   "execution_count": 29,
   "id": "7539e543",
   "metadata": {},
   "outputs": [
    {
     "name": "stdout",
     "output_type": "stream",
     "text": [
      "enter a number5\n",
      "\n",
      "* \n",
      "* * \n",
      "* * * \n",
      "* * * * \n",
      "* * * * * \n"
     ]
    }
   ],
   "source": [
    "n=int(input(\"enter a number\"))\n",
    "for i in range(0,n+1):\n",
    "    for j in range(0,i):\n",
    "        print(\"*\",end=\" \")\n",
    "    print()"
   ]
  },
  {
   "cell_type": "code",
   "execution_count": 3,
   "id": "ae7b7d51",
   "metadata": {},
   "outputs": [
    {
     "name": "stdout",
     "output_type": "stream",
     "text": [
      "enter a number5\n",
      "* * * * * \n",
      "* * * * \n",
      "* * * \n",
      "* * \n",
      "* \n"
     ]
    }
   ],
   "source": [
    "n=int(input(\"enter a number\"))\n",
    "for i in range(n,0,-1):\n",
    "    for j in range(i):\n",
    "        print(\"*\",end=\" \")\n",
    "    print()"
   ]
  },
  {
   "cell_type": "code",
   "execution_count": 18,
   "id": "02b116c2",
   "metadata": {},
   "outputs": [
    {
     "name": "stdout",
     "output_type": "stream",
     "text": [
      "entr a number 5\n",
      "     \n",
      "     *\n",
      "    * *\n",
      "   * * *\n",
      "  * * * *\n",
      " * * * * *\n"
     ]
    }
   ],
   "source": [
    "n=int(input(\"entr a number \"))\n",
    "for i in range(0,n+1):\n",
    "    print(\" \" * (n-i)+ \" *\" * i)"
   ]
  },
  {
   "cell_type": "code",
   "execution_count": 1,
   "id": "d9447994",
   "metadata": {},
   "outputs": [
    {
     "name": "stdout",
     "output_type": "stream",
     "text": [
      "[0, 1, 2, 3, 5, 6, 8, 9]\n"
     ]
    }
   ],
   "source": [
    "def bubble_sort(list):\n",
    "    for i in range((len(a)-1),0,-1):\n",
    "        for j in range(i):\n",
    "            if a[j]>a[j+1]:\n",
    "                a[j],a[j+1]=a[j+1],a[j]\n",
    "a=[5,6,9,2,8,3,1,0]\n",
    "bubble_sort(a)\n",
    "print(a)"
   ]
  },
  {
   "cell_type": "code",
   "execution_count": 2,
   "id": "69fb340c",
   "metadata": {},
   "outputs": [
    {
     "name": "stdout",
     "output_type": "stream",
     "text": [
      "[0, 1, 2, 3, 4, 5, 5, 6, 6, 7, 9]\n"
     ]
    }
   ],
   "source": [
    "def selection_sort(list):\n",
    "    l=len(a)\n",
    "    for i in range(l-1):\n",
    "        minpos=i\n",
    "        for j in range(i,l):\n",
    "            minpos=j\n",
    "            if a[i]>a[minpos]:\n",
    "                a[i],a[minpos]=a[minpos],a[i]\n",
    "a=[5,2,9,3,6,5,7,1,6,4,0]\n",
    "selection_sort(a)\n",
    "print(a)"
   ]
  },
  {
   "cell_type": "code",
   "execution_count": 8,
   "id": "9936a688",
   "metadata": {},
   "outputs": [
    {
     "name": "stdout",
     "output_type": "stream",
     "text": [
      "[0, 1, 2, 3, 4, 6, 8, 8, 9]\n"
     ]
    }
   ],
   "source": [
    "def insertion_sort(list):\n",
    "    for i in range(1,len(a)):\n",
    "        j=i\n",
    "        while a[j-1]>a[j] and j>0:\n",
    "            a[j-1],a[j]=a[j],a[j-1]\n",
    "            j=j-1\n",
    "a=[8,6,2,9,4,3,8,1,0]\n",
    "insertion_sort(a)\n",
    "print(a)\n",
    "    "
   ]
  },
  {
   "cell_type": "code",
   "execution_count": 6,
   "id": "7f075ec5",
   "metadata": {},
   "outputs": [
    {
     "name": "stdout",
     "output_type": "stream",
     "text": [
      "😀\n",
      "😘\n",
      "🤗\n",
      "😪\n",
      "😷\n",
      "😀\n",
      "🤣\n",
      "😆\n",
      "😒\n",
      "🤐\n",
      "😇\n"
     ]
    }
   ],
   "source": [
    "print(\"\\U0001F600\")\n",
    "print(\"\\U0001F618\")\n",
    "print(\"\\U0001F917\")\n",
    "print(\"\\U0001F62A\")\n",
    "print(\"\\U0001F637\")\n",
    "print(\"\\U0001F600\")\n",
    "print(\"\\U0001F923\")\n",
    "print(\"\\U0001F606\")\n",
    "print(\"\\U0001F612\")\n",
    "print(\"\\U0001F910\")\n",
    "print(\"\\U0001F607\")"
   ]
  },
  {
   "cell_type": "code",
   "execution_count": 6,
   "id": "dfd3a98e",
   "metadata": {},
   "outputs": [
    {
     "name": "stdout",
     "output_type": "stream",
     "text": [
      "enter a number5\n",
      "120\n"
     ]
    }
   ],
   "source": [
    "def fact(n):\n",
    "    if (n==0 or n==1):\n",
    "        return 1\n",
    "    else:\n",
    "        return n*fact(n-1)\n",
    "num=int(input(\"enter a number\"))\n",
    "#x=fact(num)\n",
    "print(fact(num))\n",
    "    "
   ]
  },
  {
   "cell_type": "code",
   "execution_count": 16,
   "id": "f8433b6e",
   "metadata": {},
   "outputs": [
    {
     "name": "stdout",
     "output_type": "stream",
     "text": [
      "good morning averyone.\"welcome to the world of 'python'\" happy reading\n"
     ]
    }
   ],
   "source": [
    "print('''good morning averyone.\"welcome to the world of 'python'\" happy reading''')"
   ]
  },
  {
   "cell_type": "code",
   "execution_count": 23,
   "id": "7f067119",
   "metadata": {},
   "outputs": [
    {
     "name": "stdout",
     "output_type": "stream",
     "text": [
      "[0, 1, 2, 3, 4, 6, 8, 9]\n"
     ]
    }
   ],
   "source": [
    "def bubble_sort(list):\n",
    "    for i in range (len(a)-1,0,-1):\n",
    "        for j in range(i):\n",
    "            if a[j]>a[j+1]:\n",
    "                a[j],a[j+1]=a[j+1],a[j]\n",
    "a=[2,6,9,4,3,8,1,0]\n",
    "bubble_sort(a)\n",
    "print(a)"
   ]
  },
  {
   "cell_type": "code",
   "execution_count": 37,
   "id": "35fc1dc3",
   "metadata": {},
   "outputs": [
    {
     "name": "stdout",
     "output_type": "stream",
     "text": [
      "\n",
      "*-\n",
      "*-*-\n",
      "*-*-*-\n",
      "*-*-*-*-\n",
      "*-*-*-*-*-\n",
      "*-*-*-*-*-*-\n"
     ]
    }
   ],
   "source": [
    "n=6\n",
    "for i in range(0,n+1):\n",
    "    for j in range(0,i):\n",
    "        print(\"*\" ,end=\" \")\n",
    "    print(\"\")"
   ]
  },
  {
   "cell_type": "code",
   "execution_count": 1,
   "id": "e89863b5",
   "metadata": {},
   "outputs": [
    {
     "name": "stdout",
     "output_type": "stream",
     "text": [
      "     \n",
      "     *\n",
      "    * *\n",
      "   * * *\n",
      "  * * * *\n",
      " * * * * *\n"
     ]
    }
   ],
   "source": [
    "n=5\n",
    "for i in range (0,n+1):\n",
    "    print(\" \"*(n-i)+ \" *\"*i)"
   ]
  },
  {
   "cell_type": "code",
   "execution_count": 44,
   "id": "0fa3d9f3",
   "metadata": {},
   "outputs": [
    {
     "name": "stdout",
     "output_type": "stream",
     "text": [
      "[1, 3, 5, 5, 6, 7, 8, 8, 9]\n"
     ]
    }
   ],
   "source": [
    "def selection_sort(list):\n",
    "    for i in range(len(a)-1):\n",
    "        minpos=i\n",
    "        for j in range(i,len(a)):\n",
    "            minpos=j\n",
    "            if a[i]>a[minpos]:\n",
    "                a[i],a[minpos]=a[minpos],a[i]\n",
    "a=[8,9,5,6,8,1,3,5,7]\n",
    "selection_sort(a)\n",
    "print(a)"
   ]
  },
  {
   "cell_type": "code",
   "execution_count": 45,
   "id": "8e2ea63e",
   "metadata": {},
   "outputs": [
    {
     "name": "stdout",
     "output_type": "stream",
     "text": [
      "[2, 3, 5, 5, 6, 6, 7, 9, 41]\n"
     ]
    }
   ],
   "source": [
    "def insertion_sort(list):\n",
    "    for i in range(1,len(a)):\n",
    "        j=i\n",
    "        while a[j-1]>a[j] and j>0:\n",
    "            a[j-1],a[j]=a[j],a[j-1]\n",
    "            j=j-1\n",
    "a=[5,6,9,2,7,3,5,41,6,]\n",
    "insertion_sort(a)\n",
    "print(a)"
   ]
  },
  {
   "cell_type": "code",
   "execution_count": 9,
   "id": "4de79cfc",
   "metadata": {},
   "outputs": [
    {
     "name": "stdout",
     "output_type": "stream",
     "text": [
      "enter first value1\n",
      "enter second value5\n",
      "enter third value4\n",
      "roots are real but diffrent\n"
     ]
    }
   ],
   "source": [
    "a=int(input(\"enter first value\"))\n",
    "b=int(input(\"enter second value\"))\n",
    "c=int(input(\"enter third value\"))\n",
    "delta=((b**2)-(4*a*c))**0.5\n",
    "root1=(-b+delta)/2\n",
    "root2=(-b-delta)/2\n",
    "if abs(delta)>0:\n",
    "    print(\"roots are real but diffrent\")\n",
    "elif abs(delta)==0:\n",
    "    print(\"roots are real but same \")\n",
    "elif abs(delta)<0:\n",
    "    print(\"roots are complex\")\n",
    "    "
   ]
  },
  {
   "cell_type": "code",
   "execution_count": 6,
   "id": "3f6a9679",
   "metadata": {},
   "outputs": [
    {
     "name": "stdout",
     "output_type": "stream",
     "text": [
      "enter a number5\n"
     ]
    }
   ],
   "source": [
    "n=int(input(\"enter a number\"))\n",
    "for i in range(2,n):\n",
    "    if n%i==0:\n",
    "        print(\"prime number\")"
   ]
  },
  {
   "cell_type": "code",
   "execution_count": 11,
   "id": "702c165e",
   "metadata": {},
   "outputs": [
    {
     "data": {
      "text/plain": [
       "2"
      ]
     },
     "execution_count": 11,
     "metadata": {},
     "output_type": "execute_result"
    }
   ],
   "source": [
    "def gcd(a,b):\n",
    "    if(a==0):\n",
    "        return b\n",
    "    if (b==0):\n",
    "        return a\n",
    "    if (a==b):\n",
    "        return a\n",
    "    if (a>b):\n",
    "        return gcd(a-b,b)\n",
    "    return gcd(a,b-a)\n",
    "y=12\n",
    "x=14\n",
    "gcd(y,x)"
   ]
  },
  {
   "cell_type": "code",
   "execution_count": 20,
   "id": "f626e0dc",
   "metadata": {},
   "outputs": [
    {
     "name": "stdout",
     "output_type": "stream",
     "text": [
      "enter first number11\n",
      "enter second number22\n",
      "hcf of given number is : 11\n"
     ]
    }
   ],
   "source": [
    "def hcf(x,y):\n",
    "    smaller=0\n",
    "    if (x<y):\n",
    "        smaller=x\n",
    "    else:\n",
    "        smaller=y\n",
    "    for i in range(1,smaller+1):\n",
    "        if (x%i==0) and (y%i==0):\n",
    "            hcf=i\n",
    "    return hcf\n",
    "a=int(input(\"enter first number\"))\n",
    "b=int(input(\"enter second number\"))\n",
    "print(\"hcf of given number is :\" ,hcf(a,b))"
   ]
  },
  {
   "cell_type": "code",
   "execution_count": 11,
   "id": "42c0aa64",
   "metadata": {},
   "outputs": [
    {
     "name": "stdout",
     "output_type": "stream",
     "text": [
      "[1, 2, 2, 4, 5, 6, 9]\n"
     ]
    }
   ],
   "source": [
    "def bubble_sort(list):\n",
    "    for i in range (len(a)-1,0,-1):\n",
    "        for j in range(i):\n",
    "            if a[j]>a[j+1]:\n",
    "                a[j],a[j+1]=a[j+1],a[j]\n",
    "a=[5,2,6,1,4,9,2]\n",
    "bubble_sort(a)\n",
    "print(a)"
   ]
  },
  {
   "cell_type": "code",
   "execution_count": 12,
   "id": "3c344f54",
   "metadata": {},
   "outputs": [
    {
     "name": "stdout",
     "output_type": "stream",
     "text": [
      "[1, 1, 4, 5, 6, 7, 8, 23, 94, 235]\n"
     ]
    }
   ],
   "source": [
    "def selection_sort(list):\n",
    "    for i in range(len(a)-1):\n",
    "        minpos=i\n",
    "        for j in range(i,len(a)):\n",
    "            minpos=j\n",
    "            if a[i]>a[minpos]:\n",
    "                a[i],a[minpos]=a[minpos],a[i]\n",
    "a=[6,5,1,23,7,8,94,1,235,4]\n",
    "selection_sort(a)\n",
    "print(a)\n",
    "            "
   ]
  },
  {
   "cell_type": "code",
   "execution_count": 13,
   "id": "c744e522",
   "metadata": {},
   "outputs": [
    {
     "name": "stdout",
     "output_type": "stream",
     "text": [
      "[1, 2, 2, 4, 4, 5, 5, 6, 34, 69, 87, 4122]\n"
     ]
    }
   ],
   "source": [
    "def insertion_sort(list):\n",
    "    for i in range(1,len(a)):\n",
    "        j=i\n",
    "        while a[j-1]>a[j] and j>0:\n",
    "            a[j-1],a[j]=a[j],a[j-1]\n",
    "            j=j-1\n",
    "a=[2,5,4,6,2,1,34,5,69,87,4122,4]\n",
    "insertion_sort(a)\n",
    "print(a)\n",
    "        "
   ]
  },
  {
   "cell_type": "code",
   "execution_count": 2,
   "id": "bffa4f05",
   "metadata": {},
   "outputs": [
    {
     "name": "stdout",
     "output_type": "stream",
     "text": [
      "[1, 2, 2, 4, 4, 5, 6]\n"
     ]
    }
   ],
   "source": [
    "def bubble_sort(list):\n",
    "    for i in range(len(a)-1,0,-1):\n",
    "        for j in range(i):\n",
    "            if a[j]>a[j+1]:\n",
    "                a[j+1],a[j]=a[j],a[j+1]\n",
    "a=[2,6,5,4,1,2,4]\n",
    "bubble_sort(a)\n",
    "print(a)"
   ]
  },
  {
   "cell_type": "code",
   "execution_count": 7,
   "id": "f4cd689e",
   "metadata": {},
   "outputs": [
    {
     "name": "stdout",
     "output_type": "stream",
     "text": [
      "[1, 1, 2, 3, 4, 4, 5, 5, 6]\n"
     ]
    }
   ],
   "source": [
    "def selection_sort(list):\n",
    "    for i in range(len(a)-1):\n",
    "        minpos=i\n",
    "        for j in range(i,len(a)):\n",
    "            minpos=j\n",
    "            if a[i]>a[minpos]:\n",
    "                a[i],a[minpos]=a[minpos],a[i]\n",
    "a=[4,2,5,1,6,3,5,4,1]\n",
    "selection_sort(a)\n",
    "print(a)"
   ]
  },
  {
   "cell_type": "code",
   "execution_count": 1,
   "id": "2469cba3",
   "metadata": {},
   "outputs": [
    {
     "name": "stdout",
     "output_type": "stream",
     "text": [
      "[1, 1, 2, 3, 4, 4, 5, 5, 6, 16, 42]\n"
     ]
    }
   ],
   "source": [
    "def insertion_sort(list):\n",
    "    for i in range(len(a)):\n",
    "        j=i\n",
    "        while a[j-1]>a[j] and j>0:\n",
    "            a[j-1],a[j]=a[j],a[j-1]\n",
    "            j=j-1\n",
    "a=[2,5,1,4,6,3,1,5,42,16,4]\n",
    "insertion_sort(a)\n",
    "print(a)\n",
    "    "
   ]
  },
  {
   "cell_type": "code",
   "execution_count": 11,
   "id": "abcbe9a4",
   "metadata": {},
   "outputs": [
    {
     "name": "stdout",
     "output_type": "stream",
     "text": [
      "[1, 1, 2, 2, 3, 4, 4, 5, 5, 22]\n"
     ]
    }
   ],
   "source": [
    "def bubble_sort(list):\n",
    "    for i in range(len(a)-1,0,-1):\n",
    "        for j in range(i):\n",
    "            if a[j]>a[j+1]:\n",
    "                a[j+1],a[j]=a[j],a[j+1]\n",
    "a=[22,3,5,1,4,5,4,1,2,2]\n",
    "bubble_sort(a)\n",
    "print(a)"
   ]
  },
  {
   "cell_type": "code",
   "execution_count": 7,
   "id": "d1a2a04f",
   "metadata": {},
   "outputs": [
    {
     "name": "stdout",
     "output_type": "stream",
     "text": [
      "[2, 2, 3, 5, 5, 11, 21, 23, 32, 41, 51, 54, 12311]\n"
     ]
    }
   ],
   "source": [
    "def selection_sort(list):\n",
    "    for i in range(len(a)-1):\n",
    "        minpos=i\n",
    "        for j in range(i+1,len(a)):\n",
    "            minpos=j\n",
    "            if a[i]>a[minpos]:\n",
    "                a[i],a[minpos]=a[minpos],a[i]\n",
    "a=[21,5,41,3,5,51,23,54,11,2,2,12311,32]\n",
    "selection_sort(a)\n",
    "print(a)"
   ]
  },
  {
   "cell_type": "code",
   "execution_count": 1,
   "id": "9c11de1b",
   "metadata": {},
   "outputs": [
    {
     "name": "stdout",
     "output_type": "stream",
     "text": [
      "{7: 2, 8: 3, 4: 2, 2: 2, 1: 3, 3: 1, 5: 1, 6: 1}\n"
     ]
    }
   ],
   "source": [
    "a=[7,8,4,8,7,4,8,2,1,3,2,1,5,6,1]\n",
    "count={}\n",
    "def count_duplicate(list):\n",
    "    for i in a:\n",
    "        if i in count:\n",
    "            count[i]+=1\n",
    "        else:\n",
    "            count[i]=1\n",
    "    return count\n",
    "count_duplicate(a)\n",
    "print(count)"
   ]
  },
  {
   "cell_type": "code",
   "execution_count": 14,
   "id": "7bcd4022",
   "metadata": {},
   "outputs": [
    {
     "name": "stdout",
     "output_type": "stream",
     "text": [
      "[2, 5, 1, 4, 7, 8, 36, 6]\n"
     ]
    }
   ],
   "source": [
    "a=[2,5,1,4,7,8,4,1,36,7,8,2,1,7,8,1,2,4,5,6,5,4,1,2,5]\n",
    "count=[]\n",
    "for i in a :\n",
    "    if i not in count:\n",
    "        count.append(i)\n",
    "print(count)"
   ]
  },
  {
   "cell_type": "code",
   "execution_count": 16,
   "id": "bf5ad18f",
   "metadata": {},
   "outputs": [
    {
     "name": "stdout",
     "output_type": "stream",
     "text": [
      "{2: 4, 5: 4, 1: 5, 4: 4, 7: 3, 8: 3, 36: 1, 6: 1}\n"
     ]
    }
   ],
   "source": [
    "a=[2,5,1,4,7,8,4,1,36,7,8,2,1,7,8,1,2,4,5,6,5,4,1,2,5]\n",
    "count={}\n",
    "for i in a :\n",
    "    if i in count:\n",
    "        count[i]+=1\n",
    "    else:\n",
    "        count[i]=1\n",
    "print(count)"
   ]
  },
  {
   "cell_type": "code",
   "execution_count": 18,
   "id": "0bfc1d52",
   "metadata": {},
   "outputs": [
    {
     "name": "stdout",
     "output_type": "stream",
     "text": [
      "[2, 5, 1, 4, 7, 8]\n"
     ]
    }
   ],
   "source": [
    "\n",
    "a=[2,5,1,4,7,8,4,1,36,7,8,2,1,7,8,1,2,4,5,6,5,4,1,2,5]\n",
    "b=[]\n",
    "for i in range (len(a)):\n",
    "    for j in range(i+1,len(a)):\n",
    "        if a[i]==a[j] and a[j] not in b:\n",
    "            b.append(a[i])\n",
    "print(b)"
   ]
  },
  {
   "cell_type": "code",
   "execution_count": 13,
   "id": "5f687a09",
   "metadata": {},
   "outputs": [
    {
     "name": "stdout",
     "output_type": "stream",
     "text": [
      "enter a number4\n",
      " *\n",
      " *\n",
      " *\n",
      " ***\n",
      " ***\n",
      " ***\n",
      " *****\n",
      " *****\n",
      " *****\n",
      " *******\n",
      " *******\n",
      " *******\n"
     ]
    }
   ],
   "source": [
    "n=int(input(\"enter a number\"))\n",
    "for i in range(1,n+1):\n",
    "    for j in range(n-1):\n",
    "        print(\" \",end=\"\")\n",
    "        for k in range(2*i-1):\n",
    "            print(\"*\",end=\"\")\n",
    "        print()"
   ]
  },
  {
   "cell_type": "code",
   "execution_count": 10,
   "id": "3e789644",
   "metadata": {},
   "outputs": [
    {
     "name": "stdout",
     "output_type": "stream",
     "text": [
      "enter a number5\n",
      "    *\n",
      "   ***\n",
      "  *****\n",
      " *******\n",
      "*********\n"
     ]
    }
   ],
   "source": [
    "n=int(input(\"enter a number\"))\n",
    "for i in range(1,n+1):\n",
    "    for j in range(n-i):\n",
    "        print(\" \",end=\"\")\n",
    "    for k in range(2*i-1):\n",
    "        print(\"*\",end=\"\")\n",
    "    print()"
   ]
  },
  {
   "cell_type": "code",
   "execution_count": 8,
   "id": "d5fa3053",
   "metadata": {},
   "outputs": [
    {
     "name": "stdout",
     "output_type": "stream",
     "text": [
      "what is basic salary2000\n",
      "2000.0\n",
      "400.0\n",
      "1000.0\n",
      "1300\n",
      "4480.0\n"
     ]
    }
   ],
   "source": [
    "salary=float(input(\"what is basic salary\"))\n",
    "hra=(salary*20)/100\n",
    "da=(salary*50)/100\n",
    "pf=(salary*11)/100\n",
    "if salary>10000:\n",
    "    allowance=1700\n",
    "elif salary>5000:\n",
    "    allowance=1500\n",
    "elif salary>2500:\n",
    "    allowance=1300\n",
    "gross_salary=salary+hra+da+allowance-pf\n",
    "print(salary)\n",
    "print(hra)\n",
    "print(da)\n",
    "print(allowance)\n",
    "print(gross_salary)\n",
    "        "
   ]
  },
  {
   "cell_type": "code",
   "execution_count": 10,
   "id": "e32494a4",
   "metadata": {},
   "outputs": [
    {
     "name": "stdout",
     "output_type": "stream",
     "text": [
      "enter your namerahul\n",
      "a\n",
      "u\n",
      "2\n"
     ]
    }
   ],
   "source": [
    "word=input(\"enter your name\")\n",
    "vowel=[\"a\",\"e\",\"i\",\"o\",\"u\"]\n",
    "count=0\n",
    "for i in word:\n",
    "    if i in vowel:\n",
    "        print(i)\n",
    "        count+=1    \n",
    "print(count)\n",
    "\n",
    "        "
   ]
  },
  {
   "cell_type": "code",
   "execution_count": 2,
   "id": "0201dc52",
   "metadata": {},
   "outputs": [
    {
     "name": "stdout",
     "output_type": "stream",
     "text": [
      "enter a number to find factorial5\n",
      "120\n"
     ]
    }
   ],
   "source": [
    "def factorial(n):\n",
    "    if n==1:\n",
    "        return n\n",
    "    else:\n",
    "        return n*factorial(n-1)\n",
    "n=int(input(\"enter a number to find factorial\"))\n",
    "if n<0:\n",
    "    print(\"the factorial doesnot exist in negative numbers\")\n",
    "if n==0:\n",
    "    print(\"the factorial of 0 is 1\")\n",
    "else:\n",
    "    print(factorial(n))"
   ]
  },
  {
   "cell_type": "code",
   "execution_count": 8,
   "id": "acb02bc2",
   "metadata": {},
   "outputs": [
    {
     "name": "stdout",
     "output_type": "stream",
     "text": [
      "enter a first number11\n",
      "enter second number22\n"
     ]
    },
    {
     "data": {
      "text/plain": [
       "11"
      ]
     },
     "execution_count": 8,
     "metadata": {},
     "output_type": "execute_result"
    }
   ],
   "source": [
    "x=int(input(\"enter a first number\"))\n",
    "y=int(input(\"enter second number\"))\n",
    "def hcf(x,y):\n",
    "    if x>y:\n",
    "        smaller=y\n",
    "    else:\n",
    "        smaller=x\n",
    "    for i in range(1,smaller+1):\n",
    "        if (x%i==0) and (y%i==0):\n",
    "            hcf=i\n",
    "    return hcf\n",
    "hcf(x,y)\n"
   ]
  },
  {
   "cell_type": "code",
   "execution_count": 24,
   "id": "6179656a",
   "metadata": {},
   "outputs": [
    {
     "name": "stdout",
     "output_type": "stream",
     "text": [
      "enter first value10\n",
      "enter second value9\n",
      "enter third value10\n",
      "roots are reala and diffrant\n",
      "(-0.4499999999999999+0.8930285549745876j)\n",
      "(-0.45000000000000007-0.8930285549745876j)\n"
     ]
    }
   ],
   "source": [
    "a=int(input(\"enter first value\"))\n",
    "b=int(input(\"enter second value\"))\n",
    "c=int(input(\"enter third value\"))\n",
    "delta=((b**2)-4*a*c)**(0.5)\n",
    "root1=(-b+delta)/(2*a)\n",
    "root2=(-b-delta)/(2*a)\n",
    "if abs(delta)>0:\n",
    "    print(\"roots are reala and diffrant\")\n",
    "    print(root1)\n",
    "    print(root2)\n",
    "elif abs(delta)==0:\n",
    "    print(\"roots are real but same\")\n",
    "    print(root1)\n",
    "    print(root2)\n",
    "elif abs(delta)<0:\n",
    "    print(\"roots are complex\")"
   ]
  },
  {
   "cell_type": "code",
   "execution_count": 1,
   "id": "7488b2fb",
   "metadata": {},
   "outputs": [
    {
     "name": "stdout",
     "output_type": "stream",
     "text": [
      "apple\n",
      "banana\n",
      "cherry\n"
     ]
    }
   ],
   "source": [
    "mytuple = (\"apple\", \"banana\", \"cherry\")\n",
    "myit = iter(mytuple)\n",
    "\n",
    "print(next(myit))\n",
    "print(next(myit))\n",
    "print(next(myit))\n"
   ]
  },
  {
   "cell_type": "code",
   "execution_count": 2,
   "id": "c58b8ddd",
   "metadata": {},
   "outputs": [
    {
     "name": "stdout",
     "output_type": "stream",
     "text": [
      "b\n",
      "a\n",
      "n\n",
      "a\n",
      "n\n",
      "a\n"
     ]
    }
   ],
   "source": [
    "mystr = \"banana\"\n",
    "myit = iter(mystr)\n",
    "\n",
    "print(next(myit))\n",
    "print(next(myit))\n",
    "print(next(myit))\n",
    "print(next(myit))\n",
    "print(next(myit))\n",
    "print(next(myit))"
   ]
  },
  {
   "cell_type": "code",
   "execution_count": 8,
   "id": "aea51a8f",
   "metadata": {},
   "outputs": [
    {
     "name": "stdout",
     "output_type": "stream",
     "text": [
      "the price is 49 dollar\n"
     ]
    }
   ],
   "source": [
    "price=49\n",
    "txt=\"the price is {} dollar\"\n",
    "print(txt.format(price))"
   ]
  },
  {
   "cell_type": "code",
   "execution_count": 6,
   "id": "e4d152db",
   "metadata": {},
   "outputs": [
    {
     "name": "stdout",
     "output_type": "stream",
     "text": [
      "[0, 1, 1, 1, 2, 2, 2, 3, 4, 4, 5, 5, 6, 8]\n"
     ]
    }
   ],
   "source": [
    "def bubble_sort(list):\n",
    "    l=len(a)\n",
    "    for i in range(l-1,0,-1):\n",
    "        for j in range (i):\n",
    "            if a[j+1]<a[j]:\n",
    "                a[j+1],a[j]=a[j],a[j+1]\n",
    "a=[2,2,5,1,4,8,6,3,1,0,2,1,4,5]\n",
    "bubble_sort(a)\n",
    "print(a)"
   ]
  },
  {
   "cell_type": "code",
   "execution_count": 15,
   "id": "072b5b24",
   "metadata": {},
   "outputs": [
    {
     "name": "stdout",
     "output_type": "stream",
     "text": [
      "[0, 1, 1, 1, 2, 2, 3, 4, 4, 5, 5, 5, 8]\n"
     ]
    }
   ],
   "source": [
    "def selection_sort(list):\n",
    "    l=len(a)\n",
    "    for i in range(l-1):\n",
    "        minpos=i\n",
    "        for j in range(i+1,l):\n",
    "            if a[minpos]>a[j]:\n",
    "                minpos=j\n",
    "        a[minpos],a[i]=a[i],a[minpos]\n",
    "a=[3,2,5,1,4,8,5,4,1,0,2,1,5]\n",
    "selection_sort(a)\n",
    "print(a)                "
   ]
  },
  {
   "cell_type": "code",
   "execution_count": 16,
   "id": "345782b1",
   "metadata": {},
   "outputs": [
    {
     "name": "stdout",
     "output_type": "stream",
     "text": [
      "[1, 1, 1, 2, 3, 4, 4, 5, 5, 6, 7, 8]\n"
     ]
    }
   ],
   "source": [
    "def insertion_sort(list):\n",
    "    for i in range(len(a)):\n",
    "        j=i\n",
    "        while a[j-1]>a[j]and j>0:\n",
    "            a[j-1],a[j]=a[j],a[j-1]\n",
    "            j=j-1\n",
    "a=[2,5,1,4,8,1,3,6,5,1,4,7]\n",
    "insertion_sort(a)\n",
    "print(a)"
   ]
  }
 ],
 "metadata": {
  "kernelspec": {
   "display_name": "Python 3 (ipykernel)",
   "language": "python",
   "name": "python3"
  },
  "language_info": {
   "codemirror_mode": {
    "name": "ipython",
    "version": 3
   },
   "file_extension": ".py",
   "mimetype": "text/x-python",
   "name": "python",
   "nbconvert_exporter": "python",
   "pygments_lexer": "ipython3",
   "version": "3.11.5"
  }
 },
 "nbformat": 4,
 "nbformat_minor": 5
}
