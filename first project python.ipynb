{
 "cells": [
  {
   "cell_type": "code",
   "execution_count": 1,
   "id": "39a15c37",
   "metadata": {},
   "outputs": [],
   "source": [
    "#PROJECT 1-anagrams"
   ]
  },
  {
   "cell_type": "code",
   "execution_count": 3,
   "id": "7d02168c",
   "metadata": {},
   "outputs": [
    {
     "name": "stdout",
     "output_type": "stream",
     "text": [
      "['b', 'o', 'a', 't']\n"
     ]
    }
   ],
   "source": [
    "#step:-1.change string into a list\n",
    "w=\"boat\"\n",
    "x=list(w)\n",
    "print(x)"
   ]
  },
  {
   "cell_type": "code",
   "execution_count": 4,
   "id": "2f2d3ec1",
   "metadata": {},
   "outputs": [
    {
     "name": "stdout",
     "output_type": "stream",
     "text": [
      "['a', 'o', 'b', 't']\n"
     ]
    }
   ],
   "source": [
    "#step:-2.swapping elements\n",
    "def swap(list,pos1,pos2):\n",
    "    list[pos1],list[pos2]=list[pos2],list[pos1]\n",
    "    return list\n",
    "w1=swap(x,0,2)\n",
    "print(w1)"
   ]
  },
  {
   "cell_type": "code",
   "execution_count": 16,
   "id": "2c2efdc9",
   "metadata": {},
   "outputs": [
    {
     "name": "stdout",
     "output_type": "stream",
     "text": [
      "aobt\n"
     ]
    }
   ],
   "source": [
    "#step:-3.change list into string\n",
    "str=\"\"\n",
    "w3=str.join(w1)\n",
    "print(w3)"
   ]
  },
  {
   "cell_type": "code",
   "execution_count": 17,
   "id": "5530f833",
   "metadata": {},
   "outputs": [
    {
     "name": "stdout",
     "output_type": "stream",
     "text": [
      "['c', 'r', 'e', 'a', 't', 'e']\n"
     ]
    }
   ],
   "source": [
    "#question=02\n",
    "x=\"create\"\n",
    "w=list(x)\n",
    "print(w)"
   ]
  },
  {
   "cell_type": "code",
   "execution_count": 23,
   "id": "9e7d65ca",
   "metadata": {},
   "outputs": [
    {
     "name": "stdout",
     "output_type": "stream",
     "text": [
      "['t', 'r', 'c', 'a', 'e', 'e']\n"
     ]
    }
   ],
   "source": [
    "def swap(list,pos1,pos2,pos3):\n",
    "    list[pos1],list[pos2],list[pos3]=list[pos3],list[pos1],list[pos2]\n",
    "    return list\n",
    "x1=swap(w,0,2,4)\n",
    "print(x1)"
   ]
  },
  {
   "cell_type": "code",
   "execution_count": 24,
   "id": "42db2a3f",
   "metadata": {},
   "outputs": [
    {
     "name": "stdout",
     "output_type": "stream",
     "text": [
      "trcaee\n"
     ]
    }
   ],
   "source": [
    "str=\"\"\n",
    "x2=str.join(x1)\n",
    "print(x2)"
   ]
  },
  {
   "cell_type": "code",
   "execution_count": 9,
   "id": "bf29fdec",
   "metadata": {},
   "outputs": [
    {
     "name": "stdout",
     "output_type": "stream",
     "text": [
      "['t', 'i', 'm', 'e']\n"
     ]
    }
   ],
   "source": [
    "t=\"time\"\n",
    "x=list(t)\n",
    "print(x)"
   ]
  },
  {
   "cell_type": "code",
   "execution_count": 15,
   "id": "1a522b7d",
   "metadata": {},
   "outputs": [
    {
     "name": "stdout",
     "output_type": "stream",
     "text": [
      "['e', 'i', 'm', 't']\n"
     ]
    }
   ],
   "source": [
    "def swap(list,pos1,pos2):\n",
    "    list[pos1],list[pos2]=list[pos2],list[pos1]\n",
    "    return list\n",
    "y=swap(x,0,3)\n",
    "print(y)"
   ]
  },
  {
   "cell_type": "code",
   "execution_count": 16,
   "id": "db490d9d",
   "metadata": {},
   "outputs": [
    {
     "name": "stdout",
     "output_type": "stream",
     "text": [
      "eimt\n"
     ]
    }
   ],
   "source": [
    "str=\"\"\n",
    "y1=str.join(y)\n",
    "print(y1)"
   ]
  },
  {
   "cell_type": "code",
   "execution_count": 10,
   "id": "97324b6e",
   "metadata": {},
   "outputs": [
    {
     "name": "stdout",
     "output_type": "stream",
     "text": [
      "enter a word :pathaksachin\n",
      "nathaksachip\n"
     ]
    }
   ],
   "source": [
    "# user input swap first and last latter\n",
    "x=input(\"enter a word :\")\n",
    "a=list(x)\n",
    "def anangram(list,pos1,pos2):\n",
    "    list[pos1],list[pos2]=list[pos2],list[pos1]\n",
    "    return list\n",
    "anangram(a,0,(len(x)-1))\n",
    "str=\"\"\n",
    "x1=str.join(a)\n",
    "print(x1)\n",
    "    "
   ]
  },
  {
   "cell_type": "code",
   "execution_count": 9,
   "id": "4e6953f2",
   "metadata": {},
   "outputs": [
    {
     "name": "stdout",
     "output_type": "stream",
     "text": [
      "harul\n"
     ]
    }
   ],
   "source": [
    "# swap first and last word\n",
    "x=\"rahul\"\n",
    "a=list(x)\n",
    "def anangram(list,pos1,pos2):\n",
    "    list[pos1],list[pos2]=list[pos2],list[pos1]\n",
    "    return list\n",
    "anangram(a,0,2)\n",
    "x1=str.join(a)\n",
    "str=\"\"\n",
    "print(x1)\n",
    "    "
   ]
  },
  {
   "cell_type": "code",
   "execution_count": 2,
   "id": "ef1a7757",
   "metadata": {},
   "outputs": [
    {
     "name": "stdout",
     "output_type": "stream",
     "text": [
      "they are anangram\n"
     ]
    }
   ],
   "source": [
    "world1=\"Ape\"\n",
    "world2=\"pea\"\n",
    "p=world1.upper()\n",
    "q=world2.upper()\n",
    "a=sorted(p)\n",
    "b=sorted(q)\n",
    "if a==b:\n",
    "    print(\"they are anangram\")\n",
    "else:\n",
    "    print(\"they are not anangram\")"
   ]
  },
  {
   "cell_type": "code",
   "execution_count": 55,
   "id": "6b832b82",
   "metadata": {},
   "outputs": [
    {
     "name": "stdout",
     "output_type": "stream",
     "text": [
      "they are anangram\n"
     ]
    }
   ],
   "source": [
    "world1=\"ape\"\n",
    "world2=\"pea\"\n",
    "a=sorted(p)\n",
    "b=sorted(q)\n",
    "if a==b:\n",
    "    print(\"they are anangram\")\n",
    "else:\n",
    "    print(\"they are not anangram\")"
   ]
  },
  {
   "cell_type": "code",
   "execution_count": 58,
   "id": "163bbfba",
   "metadata": {},
   "outputs": [
    {
     "name": "stdout",
     "output_type": "stream",
     "text": [
      "enter first word :rahul\n",
      "enter second word :hulra\n",
      "they are anangram\n"
     ]
    }
   ],
   "source": [
    "word1=input(\"enter first word :\")\n",
    "word2=input(\"enter second word :\")\n",
    "a=sorted(p)\n",
    "b=sorted(q)\n",
    "if a==b:\n",
    "    print(\"they are anangram\")\n",
    "else:\n",
    "    print(\"they are not anangram\")"
   ]
  },
  {
   "cell_type": "code",
   "execution_count": 1,
   "id": "92e97b05",
   "metadata": {},
   "outputs": [
    {
     "name": "stdout",
     "output_type": "stream",
     "text": [
      "enter first word :rahul\n",
      "enter second word :lahur\n",
      "enter third word :hurla\n",
      "both are anagram\n"
     ]
    }
   ],
   "source": [
    "word1=input(\"enter first word :\")\n",
    "word2=input(\"enter second word :\")\n",
    "word3=input(\"enter third word :\")\n",
    "a=sorted(word1)\n",
    "b=sorted(word2)\n",
    "c=sorted(word3)\n",
    "if a==b==c:\n",
    "    print(\"both are anagram\")\n",
    "elif a==b!=c:\n",
    "    print(\"a and b are anagram but c is not\")\n",
    "elif a!=b==c:\n",
    "    print(\"b and c are anagram but a is not\")\n",
    "elif a==c!=b:\n",
    "    print(\"a and a are anangram but b is not\")\n",
    "else:\n",
    "    print(\"there is no anagram word\")\n"
   ]
  },
  {
   "cell_type": "code",
   "execution_count": null,
   "id": "99505b7a",
   "metadata": {},
   "outputs": [],
   "source": []
  },
  {
   "cell_type": "code",
   "execution_count": null,
   "id": "323246c9",
   "metadata": {},
   "outputs": [],
   "source": []
  },
  {
   "cell_type": "code",
   "execution_count": 16,
   "id": "56664aaa",
   "metadata": {},
   "outputs": [
    {
     "name": "stdout",
     "output_type": "stream",
     "text": [
      "enter a key to search :6\n",
      "the key value is present in given array\n"
     ]
    }
   ],
   "source": [
    "#create a code for linear search algorithem \n",
    "a=[5,8,6,3,4,9,7]\n",
    "key=int(input(\"enter a key to search :\"))\n",
    "for i in range(len(a)):\n",
    "    if a[i]==key:\n",
    "        print(\"the key value is present in given array\")\n",
    "        break\n",
    "if a[i]!=key:\n",
    "    print(\"user has enter invalid key value\")"
   ]
  },
  {
   "cell_type": "code",
   "execution_count": 17,
   "id": "1b879cd6",
   "metadata": {},
   "outputs": [
    {
     "name": "stdout",
     "output_type": "stream",
     "text": [
      "enter a key to search :-10\n",
      "user has enter invalid key value\n"
     ]
    }
   ],
   "source": [
    "a=[5,8,6,3,4,9,7]\n",
    "key=int(input(\"enter a key to search :\"))\n",
    "for i in range(len(a)):\n",
    "    if a[i]==key:\n",
    "        print(\"the key value is present in given array\")\n",
    "        break\n",
    "else:\n",
    "    print(\"user has enter invalid key value\")"
   ]
  },
  {
   "cell_type": "code",
   "execution_count": 26,
   "id": "564a4cde",
   "metadata": {},
   "outputs": [
    {
     "name": "stdout",
     "output_type": "stream",
     "text": [
      "enter a key to search :6\n",
      "the key value is present in given array\n"
     ]
    }
   ],
   "source": [
    "def linear_search(n):\n",
    "    a=[5,8,6,3,4,9,7]\n",
    "    key=int(input(\"enter a key to search :\"))\n",
    "    for i in range(len(a)):\n",
    "        if a[i]==key:\n",
    "            print(\"the key value is present in given array\")\n",
    "            break\n",
    "    else:\n",
    "        print(\"user has enter invalid key value\")\n",
    "linear_search(key)"
   ]
  },
  {
   "cell_type": "code",
   "execution_count": 4,
   "id": "483d13b9",
   "metadata": {},
   "outputs": [
    {
     "name": "stdout",
     "output_type": "stream",
     "text": [
      "present\n"
     ]
    }
   ],
   "source": [
    "a=[8,6,9,54,5,1,3,9,4]\n",
    "def check(array,key):\n",
    "    for i in range(len(a)):\n",
    "        if a[i]==key:\n",
    "            return 1\n",
    "    return -1\n",
    "y=check(a,54)\n",
    "if y!=-1:\n",
    "    print(\"present\")\n",
    "else:\n",
    "    print(\"not present\")"
   ]
  },
  {
   "cell_type": "code",
   "execution_count": 46,
   "id": "c6c8b3e3",
   "metadata": {},
   "outputs": [
    {
     "data": {
      "text/plain": [
       "1"
      ]
     },
     "execution_count": 46,
     "metadata": {},
     "output_type": "execute_result"
    }
   ],
   "source": [
    "a=[2,6,9,5,4,7]\n",
    "key=int(input(\"enter a number to find\"))\n",
    "def search_linear(n):\n",
    "    for i in range(len(a)):\n",
    "        if a[i]==key:\n",
    "            return 1\n",
    "    else:\n",
    "        return -1\n",
    "search_linear(key)\n",
    "    "
   ]
  },
  {
   "cell_type": "code",
   "execution_count": null,
   "id": "928a8394",
   "metadata": {},
   "outputs": [],
   "source": []
  },
  {
   "cell_type": "code",
   "execution_count": null,
   "id": "fa51016b",
   "metadata": {},
   "outputs": [],
   "source": []
  }
 ],
 "metadata": {
  "kernelspec": {
   "display_name": "Python 3 (ipykernel)",
   "language": "python",
   "name": "python3"
  },
  "language_info": {
   "codemirror_mode": {
    "name": "ipython",
    "version": 3
   },
   "file_extension": ".py",
   "mimetype": "text/x-python",
   "name": "python",
   "nbconvert_exporter": "python",
   "pygments_lexer": "ipython3",
   "version": "3.11.5"
  }
 },
 "nbformat": 4,
 "nbformat_minor": 5
}
