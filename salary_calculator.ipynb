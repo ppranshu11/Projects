{
 "cells": [
  {
   "cell_type": "code",
   "execution_count": null,
   "id": "4ac5325b",
   "metadata": {},
   "outputs": [],
   "source": [
    "class Tax_calculator:\n",
    "    def __init__(self):\n",
    "        self.salary=float(input('enter your salary here:'))\n",
    "    def tax(self):\n",
    "        if self.salary<=250000:\n",
    "            return (\"bhai tu government se mang\")\n",
    "        elif self.salary>250000 or self.salary<=500000:\n",
    "            return (self.salary*5)/100\n",
    "        elif self.salary>500000 or self.salary<=1000000:\n",
    "            return (self.salary*20)/100\n",
    "        else:\n",
    "            return (self.salary*30)/100\n",
    "    def display(self):\n",
    "        tax=self.tax()\n",
    "        print(f'you have to pay ({tax}) tax in this year')\n",
    "        \n",
    "rahul=Tax_calculator()\n",
    "rahul.display()"
   ]
  },
  {
   "cell_type": "code",
   "execution_count": null,
   "id": "1d6f6378",
   "metadata": {},
   "outputs": [],
   "source": []
  },
  {
   "cell_type": "code",
   "execution_count": null,
   "id": "02a2a53e",
   "metadata": {},
   "outputs": [],
   "source": []
  }
 ],
 "metadata": {
  "kernelspec": {
   "display_name": "Python 3 (ipykernel)",
   "language": "python",
   "name": "python3"
  },
  "language_info": {
   "codemirror_mode": {
    "name": "ipython",
    "version": 3
   },
   "file_extension": ".py",
   "mimetype": "text/x-python",
   "name": "python",
   "nbconvert_exporter": "python",
   "pygments_lexer": "ipython3",
   "version": "3.11.5"
  }
 },
 "nbformat": 4,
 "nbformat_minor": 5
}
