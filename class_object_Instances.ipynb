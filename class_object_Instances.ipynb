{
 "cells": [
  {
   "cell_type": "code",
   "execution_count": 34,
   "id": "6148edf4",
   "metadata": {},
   "outputs": [
    {
     "name": "stdout",
     "output_type": "stream",
     "text": [
      "total is  282\n",
      "percent is  94.0\n",
      "grade is  A\n"
     ]
    }
   ],
   "source": [
    "class Result:\n",
    "    def __init__(self,m1,m2,m3):\n",
    "        self.m1=m1\n",
    "        self.m2=m2\n",
    "        self.m3=m3\n",
    "    def total(self):\n",
    "        return self.m1+self.m2+self.m3\n",
    "    def percent(self):\n",
    "        return (self.m1+self.m2+self.m3)/3\n",
    "        #total=self.total()\n",
    "        #return(total/3)\n",
    "    def grade(self):\n",
    "        percentage=self.percent()\n",
    "        #percentage=(self.m1+self.m2+self.m3)/3\n",
    "        if percentage >=90:\n",
    "            return 'A'\n",
    "        elif percentage>=75:\n",
    "            return \"B\"\n",
    "        elif percentage >=65:\n",
    "            return 'C'\n",
    "        else:\n",
    "            return \"D\"\n",
    "        \n",
    "    def display(self):    \n",
    "        print('total is ',self.total())\n",
    "        print('percent is ',self.percent())\n",
    "        print('grade is ',self.grade())\n",
    "        \n",
    "rahul=Result(92,94,96)\n",
    "rahul.display()"
   ]
  },
  {
   "cell_type": "code",
   "execution_count": null,
   "id": "d8e4e6f3",
   "metadata": {},
   "outputs": [],
   "source": []
  }
 ],
 "metadata": {
  "kernelspec": {
   "display_name": "Python 3 (ipykernel)",
   "language": "python",
   "name": "python3"
  },
  "language_info": {
   "codemirror_mode": {
    "name": "ipython",
    "version": 3
   },
   "file_extension": ".py",
   "mimetype": "text/x-python",
   "name": "python",
   "nbconvert_exporter": "python",
   "pygments_lexer": "ipython3",
   "version": "3.11.5"
  }
 },
 "nbformat": 4,
 "nbformat_minor": 5
}
