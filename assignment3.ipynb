{
 "cells": [
  {
   "cell_type": "code",
   "execution_count": 1,
   "id": "b078f241",
   "metadata": {},
   "outputs": [
    {
     "name": "stdout",
     "output_type": "stream",
     "text": [
      "<class 'array.array'>\n"
     ]
    }
   ],
   "source": [
    "#array\n",
    "import array\n",
    "from array import*\n",
    "arr=array('i',[1,2,3,4,5])\n",
    "print(type(arr))"
   ]
  },
  {
   "cell_type": "code",
   "execution_count": 4,
   "id": "122e17e2",
   "metadata": {},
   "outputs": [
    {
     "data": {
      "text/plain": [
       "array('i', [1, 2, 3, 4, 5, 6, 6])"
      ]
     },
     "execution_count": 4,
     "metadata": {},
     "output_type": "execute_result"
    }
   ],
   "source": [
    "arr[:]"
   ]
  },
  {
   "cell_type": "code",
   "execution_count": 8,
   "id": "70239203",
   "metadata": {},
   "outputs": [
    {
     "name": "stdout",
     "output_type": "stream",
     "text": [
      "array('i', [1, 2, -10, 3, 4, 5, 6, 6])\n"
     ]
    }
   ],
   "source": [
    "arr.insert(2,-10)\n",
    "print(arr)"
   ]
  },
  {
   "cell_type": "code",
   "execution_count": 20,
   "id": "5f50d767",
   "metadata": {},
   "outputs": [
    {
     "name": "stdout",
     "output_type": "stream",
     "text": [
      "6\n"
     ]
    }
   ],
   "source": [
    "l=len(arr)\n",
    "print(l)"
   ]
  },
  {
   "cell_type": "code",
   "execution_count": 9,
   "id": "23fb316e",
   "metadata": {},
   "outputs": [
    {
     "name": "stdout",
     "output_type": "stream",
     "text": [
      "array('i', [1, 2, -10, 4, 5, 6, 6])\n"
     ]
    }
   ],
   "source": [
    "arr.remove(3)\n",
    "print(arr)"
   ]
  },
  {
   "cell_type": "code",
   "execution_count": 25,
   "id": "0a819c8f",
   "metadata": {},
   "outputs": [
    {
     "name": "stdout",
     "output_type": "stream",
     "text": [
      "array('i', [2, -10, 4, 5, 6, 6])\n",
      "<class 'array.array'>\n"
     ]
    }
   ],
   "source": [
    "arr.remove(1)\n",
    "print(arr)\n",
    "print(type(arr))"
   ]
  },
  {
   "cell_type": "code",
   "execution_count": 17,
   "id": "cf829807",
   "metadata": {},
   "outputs": [
    {
     "name": "stdout",
     "output_type": "stream",
     "text": [
      "6\n"
     ]
    }
   ],
   "source": [
    "l=len(arr)\n",
    "print(l)\n"
   ]
  },
  {
   "cell_type": "code",
   "execution_count": 26,
   "id": "add60413",
   "metadata": {},
   "outputs": [
    {
     "name": "stdout",
     "output_type": "stream",
     "text": [
      "2\n",
      "1\n"
     ]
    }
   ],
   "source": [
    "#swaping\n",
    "x=1\n",
    "y=2\n",
    "x,y=y,x\n",
    "print(x)\n",
    "print(y)"
   ]
  },
  {
   "cell_type": "code",
   "execution_count": 27,
   "id": "8ef44c95",
   "metadata": {},
   "outputs": [
    {
     "name": "stdout",
     "output_type": "stream",
     "text": [
      "[38, 7, 24, 13]\n"
     ]
    }
   ],
   "source": [
    "l=[38,24,7,13,]\n",
    "l[1],l[2]=l[2],l[1]\n",
    "print(l)"
   ]
  },
  {
   "cell_type": "code",
   "execution_count": 30,
   "id": "37eb0383",
   "metadata": {},
   "outputs": [
    {
     "name": "stdout",
     "output_type": "stream",
     "text": [
      "array('i', [39, 13, 18, 47])\n",
      "<class 'array.array'>\n"
     ]
    }
   ],
   "source": [
    "a=array('i',[39,13,47,18])\n",
    "a[2],a[3]=a[3],a[2]\n",
    "print(a)\n",
    "print(type(a))"
   ]
  },
  {
   "cell_type": "code",
   "execution_count": null,
   "id": "8ebc353d",
   "metadata": {},
   "outputs": [],
   "source": [
    "a=array('i',[39])"
   ]
  },
  {
   "cell_type": "code",
   "execution_count": 2,
   "id": "1918b3ba",
   "metadata": {},
   "outputs": [
    {
     "name": "stdout",
     "output_type": "stream",
     "text": [
      "array('i', [34, 25, 12, 64])\n",
      "array('i', [25, 12, 34, 64])\n",
      "array('i', [12, 25, 34, 64])\n",
      "array('i', [12, 25, 34, 64])\n"
     ]
    }
   ],
   "source": [
    "#bubble sort programme\n",
    "from array import *\n",
    "def bubble_sort(array):\n",
    "    n=len(arr)\n",
    "    for i in range(0,n-1):\n",
    "        for j in range(0,n-i-1):\n",
    "            if arr[j]>arr[j+1]:\n",
    "                arr[j],arr[j+1]=arr[j+1],arr[j]\n",
    "        print(arr)\n",
    "arr=array('i',[64,34,25,12])\n",
    "bubble_sort(arr)\n",
    "print(arr)"
   ]
  },
  {
   "cell_type": "code",
   "execution_count": 9,
   "id": "fd93830a",
   "metadata": {},
   "outputs": [
    {
     "name": "stdout",
     "output_type": "stream",
     "text": [
      "array('i', [1, 4, 8, 9, 12, 16, 25, 25, 32, 34, 45, 45, 45, 56, 64, 65, 65, 78, 78, 87, 89, 89, 89, 98, 98, 104])\n"
     ]
    }
   ],
   "source": [
    "def bubble_sort(array):\n",
    "    n=len(arr)\n",
    "    for i in range(0,n-1):\n",
    "        for j in range(0,n-i-1):\n",
    "            if arr[j]>arr[j+1]:\n",
    "                arr[j],arr[j+1]=arr[j+1],arr[j]\n",
    "arr=array('i',[64,34,25,12,25,45,65,78,89,9,8,56,98,4,1,104,45,65,89,78,87,98,89,45,16,32,])\n",
    "bubble_sort(arr)\n",
    "print(arr)"
   ]
  },
  {
   "cell_type": "code",
   "execution_count": 20,
   "id": "21d68974",
   "metadata": {},
   "outputs": [
    {
     "name": "stdout",
     "output_type": "stream",
     "text": [
      "array('i', [12, 14, 2, 6, 8, 45])\n",
      "array('i', [9, 7, 65, 49, 23, 32])\n"
     ]
    }
   ],
   "source": [
    "# divide array with definr function\n",
    "arr=array('i',[12,14,2,6,8,45,9,7,65,49,23,32])\n",
    "def array_divide(array):\n",
    "    n=len(arr)\n",
    "    mid=n//2\n",
    "    part1=arr[: mid]\n",
    "    part2=arr[mid :]\n",
    "array_divide(arr)\n",
    "print(part1)\n",
    "print(part2)"
   ]
  },
  {
   "cell_type": "code",
   "execution_count": 19,
   "id": "f176e140",
   "metadata": {},
   "outputs": [
    {
     "name": "stdout",
     "output_type": "stream",
     "text": [
      "array('i', [12, 14, 2, 6, 8, 45])\n",
      "array('i', [9, 7, 65, 49, 23, 32])\n"
     ]
    }
   ],
   "source": [
    "# divide an array without def function\n",
    "arr=array('i',[12,14,2,6,8,45,9,7,65,49,23,32])\n",
    "n= len(arr)\n",
    "mid=n//2\n",
    "part1=arr[:mid]\n",
    "part2=arr[mid:]\n",
    "print(part1)\n",
    "print(part2)\n"
   ]
  },
  {
   "cell_type": "code",
   "execution_count": 21,
   "id": "933353b3",
   "metadata": {},
   "outputs": [
    {
     "name": "stdout",
     "output_type": "stream",
     "text": [
      "array('i', [12, 14, 2, 6, 8, 45])\n",
      "array('i', [9, 7, 65, 49, 23, 32])\n"
     ]
    }
   ],
   "source": [
    "arr=array('i',[12,14,2,6,8,45,9,7,65,49,23,32])\n",
    "def array_divide(array):\n",
    "    mid=(len(arr))//2\n",
    "    part1=arr[: mid]\n",
    "    part2=arr[mid :]\n",
    "array_divide(arr)\n",
    "print(part1)\n",
    "print(part2)"
   ]
  },
  {
   "cell_type": "code",
   "execution_count": 4,
   "id": "b84fe783",
   "metadata": {},
   "outputs": [
    {
     "name": "stdout",
     "output_type": "stream",
     "text": [
      "array('i', [1, 2, 3])\n",
      "array('i', [4, 5, 6])\n"
     ]
    }
   ],
   "source": [
    "part1=None\n",
    "part2=None\n",
    "def array_divide(array):\n",
    "    global part1,part2\n",
    "    mid=(len(a))//2\n",
    "    part1=a[:mid]\n",
    "    part2=a[mid:]\n",
    "a=array('i',[1,2,3,4,5,6])\n",
    "array_divide(arr)\n",
    "print(part1)\n",
    "print(part2)"
   ]
  },
  {
   "cell_type": "code",
   "execution_count": 7,
   "id": "347658bc",
   "metadata": {},
   "outputs": [
    {
     "name": "stdout",
     "output_type": "stream",
     "text": [
      "array('i', [12, 14, 2, 6])\n",
      "array('i', [8, 45, 9, 7])\n",
      "array('i', [65, 49, 23, 32])\n"
     ]
    }
   ],
   "source": [
    "arr=array('i',[12,14,2,6,8,45,9,7,65,49,23,32])\n",
    "part1=None\n",
    "part2=None\n",
    "part3=None\n",
    "def array_divide(array):\n",
    "    global part1,part2,part3\n",
    "    mid=(len(arr))//3\n",
    "    part1=arr[: mid]\n",
    "    part2=arr[mid : 2*mid]\n",
    "    part3=arr[2*mid:]\n",
    "array_divide(arr)\n",
    "print(part1)\n",
    "print(part2)\n",
    "print(part3)"
   ]
  },
  {
   "cell_type": "code",
   "execution_count": 21,
   "id": "a74ddac0",
   "metadata": {},
   "outputs": [
    {
     "name": "stdout",
     "output_type": "stream",
     "text": [
      "array('i', [12, 14, 2])\n",
      "array('i', [6, 8, 45])\n",
      "array('i', [9, 7, 65])\n",
      "array('i', [49, 23, 32])\n"
     ]
    }
   ],
   "source": [
    "arr=array('i',[12,14,2,6,8,45,9,7,65,49,23,32])\n",
    "part1=None\n",
    "part2=None\n",
    "part3=None\n",
    "part4=None\n",
    "def array_divide(array):\n",
    "    global part1,part2,part3,part4\n",
    "    mid=(len(arr))//4\n",
    "    part1=arr[: mid]\n",
    "    part2=arr[mid : 2*mid]\n",
    "    part3=arr[2*mid: 3*mid]\n",
    "    part4=arr[3*mid: ]\n",
    "array_divide(arr)\n",
    "print(part1)\n",
    "print(part2)\n",
    "print(part3)\n",
    "print(part4)"
   ]
  },
  {
   "cell_type": "code",
   "execution_count": 5,
   "id": "79c32307",
   "metadata": {},
   "outputs": [
    {
     "name": "stdout",
     "output_type": "stream",
     "text": [
      "array('i', [1, 2, 3, 4, 5, 6])\n"
     ]
    }
   ],
   "source": [
    "#selection sorting method\n",
    "def selection_sort(array):\n",
    "    n=len(arr)\n",
    "    for i in range (0,n-1):\n",
    "        min_value = i\n",
    "        for j in range (i+1,n):\n",
    "            if arr[min_value]>arr[j]:\n",
    "                min_value = j\n",
    "        arr[i],arr[min_value] = arr[min_value],arr[i]\n",
    "arr = array('i',[2,6,5,1,3,4])\n",
    "selection_sort(arr)\n",
    "print(arr)"
   ]
  },
  {
   "cell_type": "code",
   "execution_count": 3,
   "id": "a93120ec",
   "metadata": {},
   "outputs": [
    {
     "name": "stdout",
     "output_type": "stream",
     "text": [
      "array('i', [1, 2, 3, 4, 5, 6])\n"
     ]
    }
   ],
   "source": [
    "#insertion sorting method\n",
    "import array\n",
    "from array import *\n",
    "def insertion_sort(array):\n",
    "    n=len(arr)\n",
    "    for i in range(1,n):\n",
    "        j = i\n",
    "        while arr[j-1]>arr[j]and j>0:\n",
    "             arr[j-1],arr[j]=arr[j],arr[j-1]\n",
    "             j=j-1\n",
    "arr=array('i',[2,6,5,1,3,4])\n",
    "insertion_sort(arr)\n",
    "print(arr)\n",
    "            "
   ]
  },
  {
   "cell_type": "code",
   "execution_count": 17,
   "id": "ac6b7593",
   "metadata": {},
   "outputs": [
    {
     "name": "stdout",
     "output_type": "stream",
     "text": [
      "array('i', [1, 1, 2, 3, 4, 5, 5, 6, 11, 14, 15, 31, 32, 45, 54, 62, 78])\n"
     ]
    }
   ],
   "source": [
    "def insertion_sort(array):\n",
    "    n=len(arr)\n",
    "    for i in range(1,n):\n",
    "        j = i\n",
    "        while arr[j-1]>arr[j]and j>0:\n",
    "             arr[j-1],arr[j]=arr[j],arr[j-1]\n",
    "             j=j-1\n",
    "arr=array('i',[2,6,5,1,3,4,11,45,78,54,62,32,1,31,5,15,14])\n",
    "insertion_sort(arr)\n",
    "print(arr)"
   ]
  },
  {
   "cell_type": "code",
   "execution_count": 8,
   "id": "6303fdb8",
   "metadata": {},
   "outputs": [],
   "source": [
    "import array\n",
    "from array import *\n",
    "import numpy as np"
   ]
  },
  {
   "cell_type": "code",
   "execution_count": 24,
   "id": "0234a177",
   "metadata": {},
   "outputs": [
    {
     "name": "stdout",
     "output_type": "stream",
     "text": [
      "15\n",
      "1\n",
      "56\n"
     ]
    }
   ],
   "source": [
    "#sum,diffrence and multi of two hightest number of an array\n",
    "arr=array(\"i\",[2,3,5,8,7,4])\n",
    "a=max(arr)\n",
    "b=np.sort(arr)\n",
    "c=len(b)\n",
    "sum=b[c-1]+b[c-2]\n",
    "diffrence=b[c-1]-b[c-2]\n",
    "multi=b[c-1]*b[c-2]\n",
    "print(sum)\n",
    "print(diffrence)\n",
    "print(multi)"
   ]
  },
  {
   "cell_type": "code",
   "execution_count": 21,
   "id": "4a425382",
   "metadata": {},
   "outputs": [],
   "source": [
    "from array import *"
   ]
  },
  {
   "cell_type": "code",
   "execution_count": 7,
   "id": "2f7fc47f",
   "metadata": {},
   "outputs": [
    {
     "name": "stdout",
     "output_type": "stream",
     "text": [
      "array('i', [4, 5, 6])\n",
      "array('i', [1, 2, 3])\n",
      "array('i', [4, 5, 6, 0, 1, 2, 3])\n"
     ]
    }
   ],
   "source": [
    "part1=None\n",
    "part2=None\n",
    "def divide(array):\n",
    "    global part1,part2\n",
    "    mid=(len(arr))//2\n",
    "    part1=arr[mid:]\n",
    "    part2=arr[:mid]\n",
    "arr=array('i',[1,2,3,4,5,6])\n",
    "divide(arr)\n",
    "print(part1)\n",
    "print(part2)\n",
    "new_array=array('i',[0])\n",
    "joined_array = part1+new_array+part2\n",
    "print(joined_array)\n",
    "\n",
    "    "
   ]
  },
  {
   "cell_type": "code",
   "execution_count": 26,
   "id": "ebebdcca",
   "metadata": {},
   "outputs": [
    {
     "name": "stdout",
     "output_type": "stream",
     "text": [
      "[4, 5, 6, 8, 7, 9, 0, 4, 2, 3, 1, 7, 8]\n"
     ]
    }
   ],
   "source": [
    "a=array('i',[4,5,6,8,7,9,4,2,3,1,7,8])\n",
    "\n",
    "l=len(a)\n",
    "\n",
    "half_array=l//2\n",
    "half1=[]\n",
    "half2=[]\n",
    "new_element=[0]\n",
    "join_array=[]\n",
    "for i in range(0,half_array):\n",
    "    half1.append(a[i])\n",
    "for j in range(half_array,l):\n",
    "    half2.append(a[j])\n",
    "join_array=half1+new_element+half2\n",
    "print(join_array)\n",
    "\n"
   ]
  },
  {
   "cell_type": "code",
   "execution_count": 28,
   "id": "487d689e",
   "metadata": {},
   "outputs": [
    {
     "name": "stdout",
     "output_type": "stream",
     "text": [
      "enter basic salary20000\n",
      "33500.0\n"
     ]
    }
   ],
   "source": [
    "salary=float(input(\"enter basic salary\"))\n",
    "hra=(salary*20)/100\n",
    "da=(salary*50)/100\n",
    "pf=(salary*11)/100\n",
    "if salary>10000:\n",
    "    allowance=1700\n",
    "elif salary>5000:\n",
    "    allowance=1500\n",
    "elif salary>2500:\n",
    "    allowance=1300\n",
    "gross_salary=salary+hra+da+allowance-pf\n",
    "print(gross_salary)"
   ]
  },
  {
   "cell_type": "code",
   "execution_count": null,
   "id": "f6449c77",
   "metadata": {},
   "outputs": [
    {
     "name": "stdout",
     "output_type": "stream",
     "text": [
      "Please select operation -\n",
      "1. Add\n",
      "2. Subtract\n",
      "3. Multiply\n",
      "4. Divide\n",
      "\n"
     ]
    }
   ],
   "source": [
    "#Python program for simple calculator\n",
    "def add(num1, num2):\n",
    "    return num1 + num2\n",
    "def subtract(num1, num2):\n",
    "    return num1 - num2\n",
    "def multiply(num1, num2):\n",
    "    return num1 * num2\n",
    "def divide(num1, num2):\n",
    "    return num1 / num2\n",
    "print(\"Please select operation -\\n\" \\\n",
    "        \"1. Add\\n\" \\\n",
    "        \"2. Subtract\\n\" \\\n",
    "        \"3. Multiply\\n\" \\\n",
    "        \"4. Divide\\n\")\n",
    "select = int(input(\"Select operations form 1, 2, 3, 4 :\"))\n",
    "number_1 = int(input(\"Enter first number: \"))\n",
    "number_2 = int(input(\"Enter second number: \"))\n",
    "if select == 1:\n",
    "    print(number_1, \"+\", number_2, \"=\",\n",
    "                    add(number_1, number_2))\n",
    "elif select == 2:\n",
    "    print(number_1, \"-\", number_2, \"=\",\n",
    "                    subtract(number_1, number_2))\n",
    "elif select == 3:\n",
    "    print(number_1, \"*\", number_2, \"=\",\n",
    "\n",
    "                    multiply(number_1, number_2))\n",
    "elif select == 4:\n",
    "    print(number_1, \"/\", number_2, \"=\",\n",
    "                    divide(number_1, number_2))\n",
    "else:\n",
    "\n",
    "    print(\"Invalid input\")"
   ]
  },
  {
   "cell_type": "code",
   "execution_count": 5,
   "id": "2550c552",
   "metadata": {},
   "outputs": [],
   "source": [
    "import array \n",
    "from array import *"
   ]
  },
  {
   "cell_type": "code",
   "execution_count": 11,
   "id": "554e261c",
   "metadata": {},
   "outputs": [
    {
     "name": "stdout",
     "output_type": "stream",
     "text": [
      "[1, 5, 6, 4, 1, 54, 19, 0, 45, 12, 32, 54, 98, 48, 45]\n"
     ]
    }
   ],
   "source": [
    "a= array(\"i\",[1,5,6,4,1,54,19,45,12,32,54,98,48,45])\n",
    "l=len(a)\n",
    "mid=l//2\n",
    "half1=[]\n",
    "half2=[]\n",
    "new_element=[0]\n",
    "join_array=[]\n",
    "for i in range(0,mid):\n",
    "    half1.append(a[i])\n",
    "for j in range(mid,l):\n",
    "    half2.append(a[j])\n",
    "join_array=half1+new_element+half2\n",
    "print(join_array)"
   ]
  },
  {
   "cell_type": "code",
   "execution_count": 12,
   "id": "fb25f59b",
   "metadata": {},
   "outputs": [],
   "source": [
    "import calendar"
   ]
  },
  {
   "cell_type": "code",
   "execution_count": 14,
   "id": "ddb721a4",
   "metadata": {},
   "outputs": [
    {
     "name": "stdout",
     "output_type": "stream",
     "text": [
      "      July 23\n",
      "Mo Tu We Th Fr Sa Su\n",
      "                1  2\n",
      " 3  4  5  6  7  8  9\n",
      "10 11 12 13 14 15 16\n",
      "17 18 19 20 21 22 23\n",
      "24 25 26 27 28 29 30\n",
      "31\n",
      "\n"
     ]
    }
   ],
   "source": [
    "yy=2002\n",
    "dd=23\n",
    "mm=7\n",
    "print(calendar.month(dd,mm))"
   ]
  },
  {
   "cell_type": "code",
   "execution_count": 7,
   "id": "42962d41",
   "metadata": {},
   "outputs": [],
   "source": [
    "from array import *\n"
   ]
  },
  {
   "cell_type": "code",
   "execution_count": 9,
   "id": "2f0b6bfb",
   "metadata": {},
   "outputs": [
    {
     "data": {
      "text/plain": [
       "array.array"
      ]
     },
     "execution_count": 9,
     "metadata": {},
     "output_type": "execute_result"
    }
   ],
   "source": [
    "arr=array(\"i\",[2,5,4,6,4,5,4,1])\n",
    "type(arr)\n"
   ]
  },
  {
   "cell_type": "code",
   "execution_count": 3,
   "id": "01a7b85e",
   "metadata": {},
   "outputs": [
    {
     "name": "stdout",
     "output_type": "stream",
     "text": [
      "enter number a (-1 to exit)2\n",
      "enter number a (-1 to exit)4\n",
      "enter number a (-1 to exit)5\n",
      "enter number a (-1 to exit)1\n",
      "enter number a (-1 to exit)-1\n"
     ]
    }
   ],
   "source": [
    "i=0\n",
    "while (i!=-1):\n",
    "    a=int(input(\"enter number a (-1 to exit)\"))\n",
    "    i=a"
   ]
  },
  {
   "cell_type": "code",
   "execution_count": 4,
   "id": "688cc38b",
   "metadata": {},
   "outputs": [],
   "source": [
    "import calendar"
   ]
  },
  {
   "cell_type": "code",
   "execution_count": 9,
   "id": "442cdb4d",
   "metadata": {},
   "outputs": [
    {
     "name": "stdout",
     "output_type": "stream",
     "text": [
      "   November 2023\n",
      "Mo Tu We Th Fr Sa Su\n",
      "       1  2  3  4  5\n",
      " 6  7  8  9 10 11 12\n",
      "13 14 15 16 17 18 19\n",
      "20 21 22 23 24 25 26\n",
      "27 28 29 30\n",
      "\n"
     ]
    }
   ],
   "source": [
    "dd=27\n",
    "mm=11\n",
    "yy=2023\n",
    "print(calendar.month(yy,mm))"
   ]
  },
  {
   "cell_type": "code",
   "execution_count": 9,
   "id": "1de21e54",
   "metadata": {},
   "outputs": [
    {
     "name": "stdout",
     "output_type": "stream",
     "text": [
      "array('i', [2, 6])\n",
      "array('i', [8, 9])\n",
      "array('i', [3, 4])\n"
     ]
    }
   ],
   "source": [
    "part1=None\n",
    "part2=None\n",
    "part3=None\n",
    "def divide_arr(array):\n",
    "    global part1,part2,part3\n",
    "    mid=len(arr)//3\n",
    "    part1=a[:mid]\n",
    "    part2=a[mid:2*mid]\n",
    "    part3=a[2*mid:]\n",
    "arr=array(\"i\",[2,6,8,9,3,4])\n",
    "divide_arr(arr)\n",
    "print(part1)\n",
    "print(part2)\n",
    "print(part3)"
   ]
  },
  {
   "cell_type": "code",
   "execution_count": 5,
   "id": "2e7508db",
   "metadata": {},
   "outputs": [],
   "source": [
    "import array\n",
    "from array import *"
   ]
  },
  {
   "cell_type": "code",
   "execution_count": 10,
   "id": "a1bd90bf",
   "metadata": {},
   "outputs": [
    {
     "name": "stdout",
     "output_type": "stream",
     "text": [
      "array('i', [4, 6, 5])\n",
      "array('i', [2, 1, 3])\n"
     ]
    }
   ],
   "source": [
    "part1=None\n",
    "part=None\n",
    "def divide_array(array):\n",
    "    global part1,part2\n",
    "    mid=len(arr)//2\n",
    "    part1=arr[:mid]\n",
    "    part2=arr[mid:]\n",
    "arr=array(\"i\",[4,6,5,2,1,3])\n",
    "divide_array(arr)\n",
    "print(part1)\n",
    "print(part2)"
   ]
  },
  {
   "cell_type": "code",
   "execution_count": 12,
   "id": "791b4157",
   "metadata": {},
   "outputs": [
    {
     "name": "stdout",
     "output_type": "stream",
     "text": [
      "array('i', [4, 6, 2, 5, 1, 3])\n"
     ]
    }
   ],
   "source": [
    "def swap(array):\n",
    "    mid=len(a)//2\n",
    "    if a[mid-1]>a[mid]:\n",
    "        a[mid-1],a[mid]=a[mid],a[mid-1]\n",
    "a=array('i',[4,6,5,2,1,3])\n",
    "swap(a)\n",
    "print(a)"
   ]
  },
  {
   "cell_type": "code",
   "execution_count": 13,
   "id": "fac73992",
   "metadata": {},
   "outputs": [
    {
     "name": "stdout",
     "output_type": "stream",
     "text": [
      "array('i', [4, 2, 6, 1, 3])\n"
     ]
    }
   ],
   "source": [
    "def swap(array):\n",
    "    mid=len(a)//2\n",
    "    if a[mid-1]>a[mid]:\n",
    "        a[mid-1],a[mid]=a[mid],a[mid-1]\n",
    "a=array('i',[4,6,2,1,3])\n",
    "swap(a)\n",
    "print(a)"
   ]
  },
  {
   "cell_type": "code",
   "execution_count": 19,
   "id": "99b93f13",
   "metadata": {},
   "outputs": [
    {
     "name": "stdout",
     "output_type": "stream",
     "text": [
      "[8, 7, 6, 5, 4, 2]\n"
     ]
    }
   ],
   "source": [
    "l1=[2,6,5,4,7,8]\n",
    "l1.sort(reverse=True)\n",
    "print(l1)"
   ]
  },
  {
   "cell_type": "code",
   "execution_count": 10,
   "id": "3d9c4731",
   "metadata": {},
   "outputs": [
    {
     "name": "stdout",
     "output_type": "stream",
     "text": [
      "[2]\n",
      "[2, 6]\n",
      "[2, 6, 5]\n",
      "[2, 6, 5, 1]\n",
      "[2, 6, 5, 1, 3]\n",
      "[2, 6, 5, 1, 3]\n"
     ]
    }
   ],
   "source": [
    "a=[2,6,5,1,2,3,2]\n",
    "def remove_list(a):\n",
    "    new_list=[]\n",
    "    for i in a:\n",
    "        if i not in new_list:\n",
    "            new_list.append(i)\n",
    "            print(new_list)\n",
    "    return new_list\n",
    "print(remove_list(a))\n",
    "\n",
    "    "
   ]
  },
  {
   "cell_type": "code",
   "execution_count": 5,
   "id": "12d4d7ce",
   "metadata": {},
   "outputs": [
    {
     "name": "stdout",
     "output_type": "stream",
     "text": [
      "35\n"
     ]
    }
   ],
   "source": [
    "list=[3,5,9,4,6,8]\n",
    "sum=0\n",
    "for i in list:\n",
    "    sum=sum+i\n",
    "print(sum)\n",
    "\n"
   ]
  },
  {
   "cell_type": "code",
   "execution_count": 7,
   "id": "4a6d7eb9",
   "metadata": {},
   "outputs": [
    {
     "name": "stdout",
     "output_type": "stream",
     "text": [
      "[4, 4, 5, 6, 8, 9]\n"
     ]
    }
   ],
   "source": [
    "def bubble_sort(list):\n",
    "    for i in range(len(a)-1,0,-1):\n",
    "        for j in range(i):\n",
    "            if a[j]>a[j+1]:\n",
    "                a[j],a[j+1]=a[j+1],a[j]\n",
    "a=[4,6,9,5,4,8]\n",
    "bubble_sort(a)\n",
    "print(a)"
   ]
  },
  {
   "cell_type": "code",
   "execution_count": 13,
   "id": "644479fb",
   "metadata": {},
   "outputs": [
    {
     "name": "stdout",
     "output_type": "stream",
     "text": [
      "[5, 6, 9, 8, 4, 74, 7]\n"
     ]
    }
   ],
   "source": [
    "a=[5,6,9,5,8,6,9,5,8,6,9,5,8,4,5,6,4,5,4,74,7,4]\n",
    "def remove_duplicate(list):\n",
    "    new_list=[]\n",
    "    for i in a:\n",
    "        if i not in new_list:\n",
    "            new_list.append(i)\n",
    "    return new_list\n",
    "print(remove_duplicate(a))\n",
    "#print(a)"
   ]
  },
  {
   "cell_type": "code",
   "execution_count": 7,
   "id": "d36b5fb3",
   "metadata": {},
   "outputs": [
    {
     "name": "stdout",
     "output_type": "stream",
     "text": [
      "enter a number10\n",
      "0\n",
      "1\n",
      "1\n",
      "1\n",
      "2\n",
      "3\n",
      "5\n",
      "8\n",
      "13\n",
      "21\n",
      "34\n",
      "55\n"
     ]
    }
   ],
   "source": [
    "# wap to build fibonacci series\n",
    "n=int(input(\"enter a number\"))\n",
    "a=0\n",
    "b=1\n",
    "c=0\n",
    "print(a)\n",
    "print(b)\n",
    "for i in range(0,n):\n",
    "    a=b\n",
    "    b=c\n",
    "    c=a+b\n",
    "    print(c)"
   ]
  },
  {
   "cell_type": "code",
   "execution_count": 4,
   "id": "b91b6998",
   "metadata": {},
   "outputs": [
    {
     "name": "stdout",
     "output_type": "stream",
     "text": [
      "Please select operation -\n",
      "1. Add\n",
      "2. Subtract\n",
      "3. Multiply\n",
      "4. Divide\n",
      "\n",
      "Select operations form 1, 2, 3, 4 :1\n",
      "Enter first number: 2\n",
      "Enter second number: 3\n",
      "5\n"
     ]
    }
   ],
   "source": [
    "#Python program for simple calculator\n",
    "def add(num1, num2):\n",
    "    return num1 + num2\n",
    "def subtract(num1, num2):\n",
    "    return num1 - num2\n",
    "def multiply(num1, num2):\n",
    "    return num1 * num2\n",
    "def divide(num1, num2):\n",
    "    return num1 / num2\n",
    "print(\"Please select operation -\\n\" \\\n",
    "        \"1. Add\\n\" \\\n",
    "        \"2. Subtract\\n\" \\\n",
    "        \"3. Multiply\\n\" \\\n",
    "        \"4. Divide\\n\")\n",
    "select = int(input(\"Select operations form 1, 2, 3, 4 :\"))\n",
    "number_1 = int(input(\"Enter first number: \"))\n",
    "number_2 = int(input(\"Enter second number: \"))\n",
    "if select == 1:\n",
    "    print(add(number_1, number_2))\n",
    "elif select == 2:\n",
    "    print(subtract(number_1, number_2))\n",
    "elif select == 3:\n",
    "    print(multiply(number_1, number_2))\n",
    "elif select == 4:\n",
    "    print(divide(number_1, number_2))\n",
    "else:\n",
    "\n",
    "    print(\"Invalid input\")"
   ]
  },
  {
   "cell_type": "code",
   "execution_count": null,
   "id": "fd97e32c",
   "metadata": {},
   "outputs": [],
   "source": []
  }
 ],
 "metadata": {
  "kernelspec": {
   "display_name": "Python 3 (ipykernel)",
   "language": "python",
   "name": "python3"
  },
  "language_info": {
   "codemirror_mode": {
    "name": "ipython",
    "version": 3
   },
   "file_extension": ".py",
   "mimetype": "text/x-python",
   "name": "python",
   "nbconvert_exporter": "python",
   "pygments_lexer": "ipython3",
   "version": "3.11.5"
  }
 },
 "nbformat": 4,
 "nbformat_minor": 5
}
