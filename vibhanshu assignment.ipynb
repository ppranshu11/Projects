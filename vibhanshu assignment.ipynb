{
 "cells": [
  {
   "cell_type": "code",
   "execution_count": 1,
   "id": "2582ef94",
   "metadata": {},
   "outputs": [
    {
     "name": "stdout",
     "output_type": "stream",
     "text": [
      "enter marks56\n",
      "enter marks45\n",
      "enter marks48\n",
      "enter marks78\n",
      "enter marks49\n",
      "276\n",
      "236.8\n"
     ]
    }
   ],
   "source": [
    "#sum and average \n",
    "a=int(input(\"enter marks\"))\n",
    "b=int(input(\"enter marks\"))\n",
    "c=int(input(\"enter marks\"))\n",
    "d=int(input(\"enter marks\"))\n",
    "e=int(input(\"enter marks\"))\n",
    "sum=a+b+c+d+e\n",
    "average=a+b+c+d+e/5\n",
    "print(sum)\n",
    "print(average)"
   ]
  },
  {
   "cell_type": "code",
   "execution_count": 11,
   "id": "1f44b108",
   "metadata": {},
   "outputs": [
    {
     "name": "stdout",
     "output_type": "stream",
     "text": [
      "enter a number10\n",
      "55\n"
     ]
    }
   ],
   "source": [
    "#sum of natural number\n",
    "a=int(input(\"enter a number\"))\n",
    "sum=0\n",
    "for i in range(1,a+1):\n",
    "    sum=sum+i\n",
    "print(sum)"
   ]
  },
  {
   "cell_type": "code",
   "execution_count": 16,
   "id": "28e6ec8c",
   "metadata": {},
   "outputs": [
    {
     "name": "stdout",
     "output_type": "stream",
     "text": [
      "enter a number3\n",
      "6\n"
     ]
    }
   ],
   "source": [
    "#factoriyal\n",
    "a=int(input(\"enter a number\"))\n",
    "fact=1\n",
    "for i in range(1,a+1):\n",
    "    fact=fact*i\n",
    "print(fact)\n"
   ]
  },
  {
   "cell_type": "code",
   "execution_count": 5,
   "id": "303dc57b",
   "metadata": {},
   "outputs": [
    {
     "name": "stdout",
     "output_type": "stream",
     "text": [
      "1\n",
      "2\n",
      "3\n",
      "4\n",
      "5\n",
      "6\n",
      "7\n",
      "8\n",
      "9\n",
      "10\n"
     ]
    }
   ],
   "source": [
    "#while loop\n",
    "i=1\n",
    "while(i<=10):\n",
    "    print(i)\n",
    "    i=i+1\n",
    "    \n"
   ]
  },
  {
   "cell_type": "code",
   "execution_count": 6,
   "id": "a3d3266e",
   "metadata": {},
   "outputs": [
    {
     "name": "stdout",
     "output_type": "stream",
     "text": [
      "10\n",
      "9\n",
      "8\n",
      "7\n",
      "6\n",
      "5\n",
      "4\n",
      "3\n",
      "2\n",
      "1\n"
     ]
    }
   ],
   "source": [
    "i=10\n",
    "while (i!=0):\n",
    "    print(i)\n",
    "    i=i-1"
   ]
  },
  {
   "cell_type": "code",
   "execution_count": 3,
   "id": "2563ce41",
   "metadata": {},
   "outputs": [
    {
     "name": "stdout",
     "output_type": "stream",
     "text": [
      "enter a number2\n",
      "enter table till10\n",
      "2\n",
      "4\n",
      "6\n",
      "8\n",
      "10\n",
      "12\n",
      "14\n",
      "16\n",
      "18\n",
      "20\n"
     ]
    }
   ],
   "source": [
    "n=int(input(\"enter a number\"))\n",
    "i=int(input(\"enter table till\"))\n",
    "j=1\n",
    "while (j<=i):\n",
    "    print(n*j)\n",
    "    j=j+1\n",
    "    \n",
    "    \n",
    "    \n",
    "    \n",
    "    \n",
    "    "
   ]
  },
  {
   "cell_type": "code",
   "execution_count": 6,
   "id": "ae528487",
   "metadata": {},
   "outputs": [
    {
     "name": "stdout",
     "output_type": "stream",
     "text": [
      "11\n"
     ]
    }
   ],
   "source": [
    "def add():\n",
    "    a=5\n",
    "    b=6\n",
    "    c=a+b\n",
    "    print(c)\n",
    "add()"
   ]
  },
  {
   "cell_type": "code",
   "execution_count": 10,
   "id": "d28b1adc",
   "metadata": {},
   "outputs": [
    {
     "name": "stdout",
     "output_type": "stream",
     "text": [
      "enter a number6\n",
      "enter a number9\n",
      "-3\n"
     ]
    }
   ],
   "source": [
    "def sub():\n",
    "    a=int(input(\"enter a number\"))\n",
    "    b=int(input(\"enter a number\"))\n",
    "    c=a-b\n",
    "    print(c)\n",
    "sub()"
   ]
  },
  {
   "cell_type": "code",
   "execution_count": 11,
   "id": "e36cd46b",
   "metadata": {},
   "outputs": [
    {
     "name": "stdout",
     "output_type": "stream",
     "text": [
      "8\n"
     ]
    }
   ],
   "source": [
    "def add(a,b):\n",
    "    print(a+b)\n",
    "add(5,3)"
   ]
  },
  {
   "cell_type": "code",
   "execution_count": 14,
   "id": "d5ae106c",
   "metadata": {
    "scrolled": true
   },
   "outputs": [
    {
     "name": "stdout",
     "output_type": "stream",
     "text": [
      "enter a number 5\n",
      "enter a number 65\n",
      "70\n"
     ]
    }
   ],
   "source": [
    "c=int(input(\"enter a number \"))\n",
    "d=int(input(\"enter a number \"))\n",
    "def add(a,b):\n",
    "    print(a+b)\n",
    "add(c,d)"
   ]
  },
  {
   "cell_type": "code",
   "execution_count": 19,
   "id": "a502ec21",
   "metadata": {},
   "outputs": [
    {
     "name": "stdout",
     "output_type": "stream",
     "text": [
      "11\n",
      "3\n"
     ]
    }
   ],
   "source": [
    "def sum(a,b):\n",
    "    a=5\n",
    "    b=6\n",
    "    print(a+b)\n",
    "def add(a,b):\n",
    "    a=6\n",
    "    b=3\n",
    "    print(a-b)\n",
    "def disp():\n",
    "    sum(a,b)\n",
    "    add(a,b)\n",
    "\n",
    "disp()"
   ]
  },
  {
   "cell_type": "code",
   "execution_count": 7,
   "id": "d42e2024",
   "metadata": {},
   "outputs": [
    {
     "name": "stdout",
     "output_type": "stream",
     "text": [
      "enter radius of circle7\n",
      "147\n",
      "44.0\n"
     ]
    }
   ],
   "source": [
    "r=int(input(\"enter radius of circle\"))\n",
    "area=(22//7)*(r)**2\n",
    "circum=2*(22/7)*r\n",
    "print(area)\n",
    "print(circum)"
   ]
  },
  {
   "cell_type": "code",
   "execution_count": 3,
   "id": "1155e4bd",
   "metadata": {},
   "outputs": [
    {
     "name": "stdout",
     "output_type": "stream",
     "text": [
      "temperature of today 50\n",
      "122.0\n"
     ]
    }
   ],
   "source": [
    "c=float(input(\"temperature of today \"))\n",
    "f=c*(9/5)+32\n",
    "print(f)"
   ]
  },
  {
   "cell_type": "code",
   "execution_count": 18,
   "id": "b0a9dbf2",
   "metadata": {},
   "outputs": [
    {
     "name": "stdout",
     "output_type": "stream",
     "text": [
      "enter principal amount 2000\n",
      "enter rate of intrest 5\n",
      "enter time for intrest 2\n",
      "200.0\n"
     ]
    }
   ],
   "source": [
    "p=int(input(\"enter principal amount \"))\n",
    "r=float(input(\"enter rate of intrest \"))\n",
    "t=int(input(\"enter time for intrest \"))\n",
    "s=(p*r*t)/100\n",
    "print(s)\n"
   ]
  },
  {
   "cell_type": "code",
   "execution_count": 19,
   "id": "6d9a3297",
   "metadata": {},
   "outputs": [
    {
     "name": "stdout",
     "output_type": "stream",
     "text": [
      "enter principal amount 2000\n",
      "enter rate of intrest 5\n",
      "enter time for intrest 2\n",
      "205.0\n"
     ]
    }
   ],
   "source": [
    "p=int(input(\"enter principal amount \"))\n",
    "r=float(input(\"enter rate of intrest \"))\n",
    "t=int(input(\"enter time for intrest \"))\n",
    "s=p*((1+r/100)**t)-p\n",
    "print(s)"
   ]
  },
  {
   "cell_type": "code",
   "execution_count": 2,
   "id": "3554ea5e",
   "metadata": {},
   "outputs": [
    {
     "name": "stdout",
     "output_type": "stream",
     "text": [
      "enter first no.98\n",
      "enter second no.56\n",
      "enter third no.45\n",
      "enter fourth no.23\n",
      "greatest number is : 98.0\n"
     ]
    }
   ],
   "source": [
    "a=float(input(\"enter first no.\"))\n",
    "b=float(input(\"enter second no.\"))\n",
    "c=float(input(\"enter third no.\"))\n",
    "d=float(input(\"enter fourth no.\"))\n",
    "if (a>b and a>c and a>d):\n",
    "    print(\"greatest number is :\" , a)\n",
    "elif (b>c and b>d):\n",
    "    print(\"greatest numbe is :\", b)\n",
    "elif(c>d):\n",
    "    print(\"greatest number is :\", c)\n",
    "elif(d>c):\n",
    "    print(\"greatest number is :\", d)\n",
    "else:\n",
    "    print(\"either all value is equal\")\n"
   ]
  },
  {
   "cell_type": "code",
   "execution_count": 4,
   "id": "a8a8f09c",
   "metadata": {},
   "outputs": [
    {
     "name": "stdout",
     "output_type": "stream",
     "text": [
      "enter your age 26\n",
      "mature\n"
     ]
    }
   ],
   "source": [
    "y=int(input(\"enter your age \"))\n",
    "if (y>5 and y<12):\n",
    "    print(\"kid\")\n",
    "elif (y>=12 and y<18):\n",
    "    print(\"teenager\")\n",
    "elif (y>=18 and y<25):\n",
    "    print(\"younger\")\n",
    "elif (y>=25 and y<35):\n",
    "    print(\"mature\")\n",
    "elif (y>=35 and y<50):\n",
    "    print(\"old\")\n",
    "else:\n",
    "    print(\"senior citizen\")"
   ]
  },
  {
   "cell_type": "code",
   "execution_count": 6,
   "id": "d09eeab6",
   "metadata": {},
   "outputs": [
    {
     "name": "stdout",
     "output_type": "stream",
     "text": [
      "enter limit 12\n",
      "the sum is 66\n"
     ]
    }
   ],
   "source": [
    "n=int(input(\"enter limit \"))\n",
    "s=0\n",
    "for i in range(1,n):\n",
    "    s=i+s\n",
    "print(\"the sum is\",s)"
   ]
  },
  {
   "cell_type": "code",
   "execution_count": 7,
   "id": "e40a2b69",
   "metadata": {},
   "outputs": [
    {
     "name": "stdout",
     "output_type": "stream",
     "text": [
      "enter a number5\n",
      "the factorial of 5 is 120\n"
     ]
    }
   ],
   "source": [
    "a=int(input(\"enter a number\"))\n",
    "factorial=1\n",
    "if a<0:\n",
    "    print(\"sorry factorial does not exit for negative number\")\n",
    "elif a==0:\n",
    "    print(\"factorial of 0 is 1\")\n",
    "else:\n",
    "    for i in range(1,a+1):\n",
    "        factorial=factorial*i\n",
    "    print(\"the factorial of\",a,\"is\",factorial)"
   ]
  },
  {
   "cell_type": "code",
   "execution_count": 11,
   "id": "00da2eb1",
   "metadata": {},
   "outputs": [
    {
     "name": "stdout",
     "output_type": "stream",
     "text": [
      "enter a multiplication number2\n",
      "2\n",
      "4\n",
      "6\n",
      "8\n",
      "10\n",
      "12\n",
      "14\n",
      "16\n",
      "18\n",
      "20\n"
     ]
    }
   ],
   "source": [
    "a=int(input(\"enter a multiplication number\"))\n",
    "i=0\n",
    "for i in range(1,11):\n",
    "    i=a*i\n",
    "    print(i)"
   ]
  },
  {
   "cell_type": "code",
   "execution_count": 4,
   "id": "04faf499",
   "metadata": {},
   "outputs": [
    {
     "name": "stdout",
     "output_type": "stream",
     "text": [
      "enter the number 5\n",
      "* \n",
      "* * \n",
      "* * * \n",
      "* * * * \n",
      "* * * * * \n"
     ]
    }
   ],
   "source": [
    "n=int(input(\"enter the number \"))\n",
    "for i in range(n):\n",
    "    for j in range (i+1):\n",
    "        print(\"*\",end=\" \")\n",
    "    print()"
   ]
  },
  {
   "cell_type": "code",
   "execution_count": 5,
   "id": "5df3adf9",
   "metadata": {},
   "outputs": [
    {
     "name": "stdout",
     "output_type": "stream",
     "text": [
      "enter the number 5\n",
      "* * * * * \n",
      "* * * * \n",
      "* * * \n",
      "* * \n",
      "* \n"
     ]
    }
   ],
   "source": [
    "n=int(input(\"enter the number \"))\n",
    "for i in range(n,0,-1):\n",
    "    for j in range (0,i):\n",
    "        print(\"*\",end=\" \")\n",
    "    print()"
   ]
  },
  {
   "cell_type": "code",
   "execution_count": 1,
   "id": "6e6c4efd",
   "metadata": {},
   "outputs": [
    {
     "name": "stdout",
     "output_type": "stream",
     "text": [
      "enter a number10\n",
      "1\n",
      "2\n",
      "3\n",
      "4\n",
      "5\n",
      "6\n",
      "7\n",
      "8\n",
      "9\n"
     ]
    }
   ],
   "source": [
    "#1\n",
    "n= int(input(\"enter a number\"))\n",
    "for i in range(1,n):\n",
    "    print(i)"
   ]
  },
  {
   "cell_type": "code",
   "execution_count": 6,
   "id": "22eec46c",
   "metadata": {},
   "outputs": [
    {
     "name": "stdout",
     "output_type": "stream",
     "text": [
      "enter number of list to start20\n",
      "[0, 1, 2, 3, 4, 5, 6, 7, 8, 9, 10, 11, 12, 13, 14, 15, 16, 17, 18, 19]\n"
     ]
    }
   ],
   "source": [
    "#2\n",
    "l=[]\n",
    "n = int(input(\"enter number of list to start\"))\n",
    "for i in range (0,n):\n",
    "    l.append(i)\n",
    "print(l)\n"
   ]
  },
  {
   "cell_type": "code",
   "execution_count": 8,
   "id": "527f6ae0",
   "metadata": {},
   "outputs": [
    {
     "name": "stdout",
     "output_type": "stream",
     "text": [
      "[6, 2, 3, 4, 5, 1]\n"
     ]
    }
   ],
   "source": [
    "#3\n",
    "l=[1,2,3,4,5,6]\n",
    "a=l[0],l[5]=l[5],l[0]\n",
    "print(l)"
   ]
  },
  {
   "cell_type": "code",
   "execution_count": 10,
   "id": "c0bdc23f",
   "metadata": {},
   "outputs": [
    {
     "name": "stdout",
     "output_type": "stream",
     "text": [
      "enter a number10\n",
      "enter a number20\n",
      "10 != 20\n"
     ]
    }
   ],
   "source": [
    "#4\n",
    "a=int(input(\"enter a number\"))\n",
    "b=int(input(\"enter a number\"))\n",
    "if a==b:\n",
    "    print(a ,\"=\", b)\n",
    "else:\n",
    "    print(a, \"!=\", b )"
   ]
  },
  {
   "cell_type": "code",
   "execution_count": 8,
   "id": "4adba947",
   "metadata": {},
   "outputs": [
    {
     "name": "stdout",
     "output_type": "stream",
     "text": [
      "65  b is largest value\n"
     ]
    }
   ],
   "source": [
    "#5\n",
    "a=56\n",
    "b=65\n",
    "c=45\n",
    "if a>b and a>c:\n",
    "    print(a,\" a is largest value\")\n",
    "elif b>c:\n",
    "    print(b,\" b is largest value\")\n",
    "else:\n",
    "    print(c,\" c is largest value\")"
   ]
  },
  {
   "cell_type": "code",
   "execution_count": 18,
   "id": "5f696e98",
   "metadata": {},
   "outputs": [
    {
     "name": "stdout",
     "output_type": "stream",
     "text": [
      "enter year 2020\n",
      "congrats it's a leap year\n"
     ]
    }
   ],
   "source": [
    "#6\n",
    "year=int(input(\"enter year \"))\n",
    "if year%4==0 and (year%400==0 or year%100!=0):\n",
    "    print(\"congrats it's a leap year\")\n",
    "else:\n",
    "    print(\"it's not a leap year\")"
   ]
  },
  {
   "cell_type": "code",
   "execution_count": 2,
   "id": "5f531f8d",
   "metadata": {},
   "outputs": [
    {
     "name": "stdout",
     "output_type": "stream",
     "text": [
      "enter first student marks80\n",
      "enter second student marks80\n",
      "enter third student marks80\n",
      "enter fourth student marks8\n",
      "enter fivth student marks85\n",
      "66.6\n",
      "C\n"
     ]
    }
   ],
   "source": [
    "#7\n",
    "a=int(input(\"enter first student marks\"))\n",
    "b=int(input(\"enter second student marks\"))\n",
    "c=int(input(\"enter third student marks\"))\n",
    "d=int(input(\"enter fourth student marks\"))\n",
    "e=int(input(\"enter fivth student marks\"))\n",
    "p=(a+b+c+d+e)/5\n",
    "print(p)\n",
    "if p>90 and p<=100:\n",
    "    print(\"A\")\n",
    "elif p>80 and p<90:\n",
    "    print(\"B\")\n",
    "elif p>60 and p<80:\n",
    "    print(\"C\")\n",
    "else:\n",
    "    print(\"D\")"
   ]
  },
  {
   "cell_type": "code",
   "execution_count": 19,
   "id": "ea4e8fa9",
   "metadata": {},
   "outputs": [
    {
     "name": "stdout",
     "output_type": "stream",
     "text": [
      "enter a number45\n",
      "error\n"
     ]
    }
   ],
   "source": [
    "#8\n",
    "a=45\n",
    "b=int(input(\"enter a number\"))\n",
    "if a<b:\n",
    "    print(\"a is less than b\")\n",
    "elif b<a:\n",
    "    print(\"b is less than a\")\n",
    "else:\n",
    "    print(\"error\")"
   ]
  },
  {
   "cell_type": "code",
   "execution_count": 8,
   "id": "cefec61c",
   "metadata": {},
   "outputs": [
    {
     "name": "stdout",
     "output_type": "stream",
     "text": [
      "enter a number till print even number10\n",
      "2\n",
      "4\n",
      "6\n",
      "8\n",
      "10\n"
     ]
    }
   ],
   "source": [
    "#9\n",
    "a=int(input(\"enter a number till print even number\"))\n",
    "for i in range (2,a+1,2):\n",
    "    print(i)"
   ]
  },
  {
   "cell_type": "code",
   "execution_count": 5,
   "id": "20b45732",
   "metadata": {},
   "outputs": [
    {
     "name": "stdout",
     "output_type": "stream",
     "text": [
      "enter number till find sum20\n",
      "110\n"
     ]
    }
   ],
   "source": [
    "#10 even number sum\n",
    "n=int(input(\"enter number till find sum\"))\n",
    "sum=0\n",
    "for i in range (0,n+1,2):\n",
    "    sum=sum+i\n",
    "    i=i+sum\n",
    "print(sum)"
   ]
  },
  {
   "cell_type": "code",
   "execution_count": 7,
   "id": "b5231f8a",
   "metadata": {},
   "outputs": [
    {
     "name": "stdout",
     "output_type": "stream",
     "text": [
      "enter number till find sum10\n",
      "25\n"
     ]
    }
   ],
   "source": [
    "# odd number sum\n",
    "n=int(input(\"enter number till find sum\"))\n",
    "sum=0\n",
    "for i in range (1,n+1,2):\n",
    "    sum=sum+i\n",
    "    i=i+sum\n",
    "print(sum)"
   ]
  },
  {
   "cell_type": "code",
   "execution_count": 6,
   "id": "1b7f9846",
   "metadata": {},
   "outputs": [
    {
     "name": "stdout",
     "output_type": "stream",
     "text": [
      "enter a number for fibonacci series10\n",
      "1\n",
      "2\n",
      "3\n",
      "5\n",
      "8\n",
      "13\n",
      "21\n",
      "34\n",
      "55\n",
      "89\n",
      "144\n"
     ]
    }
   ],
   "source": [
    "#10 fibonacci series\n",
    "n=int(input(\"enter a number for fibonacci series\"))\n",
    "first_value=0\n",
    "second_value=1\n",
    "for i in range (0,n+1):\n",
    "    if n<=1:\n",
    "        next=n\n",
    "    else:\n",
    "        next=first_value+second_value\n",
    "        first_value=second_value\n",
    "        second_value=next\n",
    "    print(next)"
   ]
  },
  {
   "cell_type": "code",
   "execution_count": 10,
   "id": "e1f8b1ee",
   "metadata": {},
   "outputs": [
    {
     "name": "stdout",
     "output_type": "stream",
     "text": [
      "enter a number to check prime number10\n",
      "10 is not a prime number\n"
     ]
    }
   ],
   "source": [
    "# check prime number\n",
    "a=int(input(\"enter a number to check prime number\"))\n",
    "limit=int(a/2)+1\n",
    "for i in range(2,limit):\n",
    "    b=a%i\n",
    "    if b%i==0:\n",
    "        print(a,\"is not a prime number\")\n",
    "        break\n",
    "else:\n",
    "    (a,\"is a prime number\")"
   ]
  },
  {
   "cell_type": "code",
   "execution_count": 17,
   "id": "8ca1e8e8",
   "metadata": {},
   "outputs": [
    {
     "name": "stdout",
     "output_type": "stream",
     "text": [
      "35\n"
     ]
    }
   ],
   "source": [
    "# sum of digits given number\n",
    "a=9723554\n",
    "def getsum(a):\n",
    "    sum=0\n",
    "    for digit in str(a):\n",
    "        sum+=int(digit)\n",
    "    return sum \n",
    "print(getsum(a))"
   ]
  },
  {
   "cell_type": "code",
   "execution_count": 19,
   "id": "f604371f",
   "metadata": {},
   "outputs": [
    {
     "name": "stdout",
     "output_type": "stream",
     "text": [
      "enter a number123456\n",
      "654321\n"
     ]
    }
   ],
   "source": [
    "#revers a number\n",
    "n=int(input(\"enter a number\"))\n",
    "a=n\n",
    "r=0\n",
    "while n>0:\n",
    "    d=n%10\n",
    "    r=r*10+d\n",
    "    n=n//10\n",
    "print(r)"
   ]
  },
  {
   "cell_type": "code",
   "execution_count": 9,
   "id": "c442fcf5",
   "metadata": {},
   "outputs": [
    {
     "name": "stdout",
     "output_type": "stream",
     "text": [
      "enter a number to start100\n",
      "enter a number to end2000\n"
     ]
    }
   ],
   "source": [
    "#14 armstrong numbers\n",
    "lower=int(input(\"enter a number to start \"))\n",
    "upper=int(input(\"enter a number to end \"))\n",
    "for num in range (lower,upper+1):\n",
    "    order = len(str(num))\n",
    "    sum=0\n",
    "    power=num\n",
    "    while power>0:\n",
    "        digit= power%10\n",
    "        sum+=digit**power\n",
    "        power//=10\n",
    "    if num==sum:\n",
    "        print(num)"
   ]
  },
  {
   "cell_type": "code",
   "execution_count": 14,
   "id": "ea1005b9",
   "metadata": {},
   "outputs": [
    {
     "name": "stdout",
     "output_type": "stream",
     "text": [
      "enter a binary number: 10\n",
      "2\n"
     ]
    }
   ],
   "source": [
    "# change into binary to decimal\n",
    "a= input(\"enter a binary number: \")\n",
    "def binarytodecimal(a):\n",
    "    decimal=0\n",
    "    for i in a:\n",
    "        decimal=decimal*2+int(i)\n",
    "    print(decimal)\n",
    "binarytodecimal(a)"
   ]
  },
  {
   "cell_type": "code",
   "execution_count": 24,
   "id": "da3ff22d",
   "metadata": {},
   "outputs": [],
   "source": [
    "import array\n",
    "from array import*"
   ]
  },
  {
   "cell_type": "code",
   "execution_count": 17,
   "id": "76e6d0c1",
   "metadata": {},
   "outputs": [
    {
     "name": "stdout",
     "output_type": "stream",
     "text": [
      "enter elements of array4\n",
      "5\n",
      "6\n",
      "4\n",
      "8\n",
      "array = [5, 6, 4, 8]\n"
     ]
    }
   ],
   "source": [
    "array = []\n",
    "n = int(input(\"enter elements of array\"))\n",
    "for i in range (0,n):\n",
    "    l=int(input())\n",
    "    array.append(l)\n",
    "print(\"array =\",array)"
   ]
  },
  {
   "cell_type": "code",
   "execution_count": 18,
   "id": "d3f5adfd",
   "metadata": {},
   "outputs": [
    {
     "data": {
      "text/plain": [
       "[5, 6, 4, 8]"
      ]
     },
     "execution_count": 18,
     "metadata": {},
     "output_type": "execute_result"
    }
   ],
   "source": [
    "array"
   ]
  },
  {
   "cell_type": "code",
   "execution_count": 22,
   "id": "b15b5c4c",
   "metadata": {},
   "outputs": [
    {
     "name": "stdout",
     "output_type": "stream",
     "text": [
      "23\n"
     ]
    }
   ],
   "source": [
    "# sum of array\n",
    "def sum (array):\n",
    "    sum=0\n",
    "    for i in array:\n",
    "        sum=sum+i\n",
    "    print(sum)\n",
    "sum(array)"
   ]
  },
  {
   "cell_type": "code",
   "execution_count": 23,
   "id": "1d559dea",
   "metadata": {},
   "outputs": [
    {
     "name": "stdout",
     "output_type": "stream",
     "text": [
      "enter the number of elements6\n",
      "enter elements of arr12\n",
      "enter elements of arr16\n",
      "enter elements of arr18\n",
      "enter elements of arr19\n",
      "enter elements of arr17\n",
      "enter elements of arr13\n",
      "[2, 6, 8, 9, 7, 3]\n"
     ]
    }
   ],
   "source": [
    "# sum of two array\n",
    "arr1=[]\n",
    "n=int(input(\"enter the number of elements\"))\n",
    "for i in range(0,n):\n",
    "    elements=int(input(\"enter elements of arr1\"))\n",
    "    arr1.append(elements)\n",
    "print(arr1)"
   ]
  },
  {
   "cell_type": "code",
   "execution_count": 24,
   "id": "7aecb6c2",
   "metadata": {},
   "outputs": [
    {
     "name": "stdout",
     "output_type": "stream",
     "text": [
      "enter the number of elements6\n",
      "enter elements of arr15\n",
      "enter elements of arr18\n",
      "enter elements of arr19\n",
      "enter elements of arr17\n",
      "enter elements of arr14\n",
      "enter elements of arr13\n",
      "[5, 8, 9, 7, 4, 3]\n"
     ]
    }
   ],
   "source": [
    "arr2=[]\n",
    "n=int(input(\"enter the number of elements\"))\n",
    "for i in range(0,n):\n",
    "    elements=int(input(\"enter elements of arr1\"))\n",
    "    arr2.append(elements)\n",
    "print(arr2)"
   ]
  },
  {
   "cell_type": "code",
   "execution_count": 26,
   "id": "ef67972c",
   "metadata": {},
   "outputs": [
    {
     "data": {
      "text/plain": [
       "[2, 6, 8, 9, 7, 3]"
      ]
     },
     "execution_count": 26,
     "metadata": {},
     "output_type": "execute_result"
    }
   ],
   "source": [
    "arr1"
   ]
  },
  {
   "cell_type": "code",
   "execution_count": 27,
   "id": "3361c7a4",
   "metadata": {},
   "outputs": [
    {
     "data": {
      "text/plain": [
       "[5, 8, 9, 7, 4, 3]"
      ]
     },
     "execution_count": 27,
     "metadata": {},
     "output_type": "execute_result"
    }
   ],
   "source": [
    "arr2"
   ]
  },
  {
   "cell_type": "code",
   "execution_count": 29,
   "id": "d8bda0fc",
   "metadata": {},
   "outputs": [],
   "source": [
    "arr3=arr1+arr2"
   ]
  },
  {
   "cell_type": "code",
   "execution_count": 30,
   "id": "7f2a270e",
   "metadata": {},
   "outputs": [
    {
     "name": "stdout",
     "output_type": "stream",
     "text": [
      "[2, 6, 8, 9, 7, 3, 5, 8, 9, 7, 4, 3]\n"
     ]
    }
   ],
   "source": [
    "print(arr3)"
   ]
  },
  {
   "cell_type": "code",
   "execution_count": 31,
   "id": "8c977253",
   "metadata": {},
   "outputs": [
    {
     "data": {
      "text/plain": [
       "[2, 6, 8, 9, 7, 3, 5, 8, 9, 7, 4, 3]"
      ]
     },
     "execution_count": 31,
     "metadata": {},
     "output_type": "execute_result"
    }
   ],
   "source": [
    "#maximum element\n",
    "arr3"
   ]
  },
  {
   "cell_type": "code",
   "execution_count": 32,
   "id": "f45b9f5a",
   "metadata": {},
   "outputs": [
    {
     "data": {
      "text/plain": [
       "9"
      ]
     },
     "execution_count": 32,
     "metadata": {},
     "output_type": "execute_result"
    }
   ],
   "source": [
    "max(arr3)"
   ]
  },
  {
   "cell_type": "code",
   "execution_count": 34,
   "id": "20fcb7f9",
   "metadata": {},
   "outputs": [
    {
     "data": {
      "text/plain": [
       "2"
      ]
     },
     "execution_count": 34,
     "metadata": {},
     "output_type": "execute_result"
    }
   ],
   "source": [
    "min(arr3)"
   ]
  },
  {
   "cell_type": "code",
   "execution_count": 16,
   "id": "44c9f143",
   "metadata": {},
   "outputs": [
    {
     "ename": "NameError",
     "evalue": "name 'i' is not defined",
     "output_type": "error",
     "traceback": [
      "\u001b[1;31m---------------------------------------------------------------------------\u001b[0m",
      "\u001b[1;31mNameError\u001b[0m                                 Traceback (most recent call last)",
      "Cell \u001b[1;32mIn[16], line 8\u001b[0m\n\u001b[0;32m      6\u001b[0m             \u001b[38;5;28;01mreturn\u001b[39;00m i\n\u001b[0;32m      7\u001b[0m     \u001b[38;5;28;01mreturn\u001b[39;00m \u001b[38;5;241m-\u001b[39m\u001b[38;5;241m1\u001b[39m\n\u001b[1;32m----> 8\u001b[0m \u001b[38;5;28mprint\u001b[39m(i)\n\u001b[0;32m      9\u001b[0m search(arr3)\n",
      "\u001b[1;31mNameError\u001b[0m: name 'i' is not defined"
     ]
    }
   ],
   "source": [
    "# linear search\n",
    "arr3 = [2,6,8,9,7,3,5,8,9,7,4,3]\n",
    "def search(arr3):\n",
    "    for i in range(len(arr3)):\n",
    "        if arr[i] == 9:\n",
    "            return i\n",
    "    return -1\n",
    "print(i)\n",
    "search(arr3)"
   ]
  },
  {
   "cell_type": "code",
   "execution_count": 26,
   "id": "8f5f4b03",
   "metadata": {},
   "outputs": [
    {
     "name": "stdout",
     "output_type": "stream",
     "text": [
      "array('i', [2, 14, 14, 16, 32, 45, 45, 47, 48, 48, 53, 65, 74, 95])\n"
     ]
    }
   ],
   "source": [
    "# bubble sort in array\n",
    "arr=array('i',[14,2,53,14,45,16,45,65,48,32,48,95,47,74])\n",
    "def bubble_sort(arr):\n",
    "    n=len(arr)\n",
    "    for i in range (0,n):\n",
    "        for j in range (0,n-i-1):\n",
    "            if arr[j]>arr[j+1]:\n",
    "                arr[j],arr[j+1]=arr[j+1],arr[j]\n",
    "bubble_sort(arr)\n",
    "print(arr)"
   ]
  },
  {
   "cell_type": "code",
   "execution_count": 27,
   "id": "40505c10",
   "metadata": {},
   "outputs": [],
   "source": [
    "import numpy as np"
   ]
  },
  {
   "cell_type": "code",
   "execution_count": 30,
   "id": "61e4de23",
   "metadata": {},
   "outputs": [
    {
     "name": "stdout",
     "output_type": "stream",
     "text": [
      "[114 160  60  27]\n",
      "[74 97 73 14]\n",
      "[119 157 112  23]\n"
     ]
    }
   ],
   "source": [
    "# multiply two matrix\n",
    "a = [[12,7,3],\n",
    "    [4,5,6],\n",
    "    [7,8,9]]\n",
    "b = [[5,8,1,2],\n",
    "    [6,7,3,0],\n",
    "    [4,5,9,1]]\n",
    "result = [[0,0,0,0],\n",
    "         [0,0,0,0],\n",
    "         [0,0,0,0]]\n",
    "result = np.dot(a,b)\n",
    "for i in result:\n",
    "    print(i)"
   ]
  },
  {
   "cell_type": "code",
   "execution_count": 41,
   "id": "e98fda68",
   "metadata": {},
   "outputs": [
    {
     "name": "stdout",
     "output_type": "stream",
     "text": [
      "[17, 15, 4]\n",
      "[10, 12, 9]\n",
      "[11, 13, 18]\n"
     ]
    }
   ],
   "source": [
    "#sum of matrix\n",
    "a = [[12,7,3],\n",
    "    [4,5,6],\n",
    "    [7,8,9]]\n",
    "b = [[5,8,1,2],\n",
    "    [6,7,3,0],\n",
    "    [4,5,9,1]]\n",
    "result = [[a[i][j]+b[i][j]for j in range(len(a[0]))] for i in range(len(a))]\n",
    "for r in result:\n",
    "    print(r)"
   ]
  },
  {
   "cell_type": "code",
   "execution_count": 46,
   "id": "62746ba6",
   "metadata": {},
   "outputs": [
    {
     "name": "stdout",
     "output_type": "stream",
     "text": [
      "3\n",
      "2 raised to the power  1 is 1\n",
      "2 raised to the power  2 is 2\n",
      "2 raised to the power  3 is 4\n"
     ]
    }
   ],
   "source": [
    "#power of 2\n",
    "total =  int(input())\n",
    "for i in range(total):\n",
    "    print(\"2 raised to the power \",i,\"is\",2**i)"
   ]
  },
  {
   "cell_type": "code",
   "execution_count": 49,
   "id": "43a7dd33",
   "metadata": {},
   "outputs": [
    {
     "name": "stdout",
     "output_type": "stream",
     "text": [
      "enter the number jisse divide krna hai5\n",
      "enter the number jisko divide krna hai20\n",
      "the number is divible\n"
     ]
    }
   ],
   "source": [
    "#number divisible by another number\n",
    "num=int(input(\"enter the number jisse divide krna hai\"))\n",
    "div=int(input(\"enter the number jisko divide krna hai\"))\n",
    "if num%div:\n",
    "    print(\"the number is divible\")\n",
    "else:\n",
    "    print(\"the number is not divible\")"
   ]
  },
  {
   "cell_type": "code",
   "execution_count": 2,
   "id": "8b9ca18e",
   "metadata": {},
   "outputs": [
    {
     "name": "stdout",
     "output_type": "stream",
     "text": [
      "enter a characters\n",
      "115\n"
     ]
    }
   ],
   "source": [
    "#asc value of character\n",
    "a=input(\"enter a character\")\n",
    "result=ord(a)\n",
    "print(result)"
   ]
  },
  {
   "cell_type": "code",
   "execution_count": 3,
   "id": "ca0c74b1",
   "metadata": {},
   "outputs": [
    {
     "name": "stdout",
     "output_type": "stream",
     "text": [
      "the decimal value of  564 is:\n",
      "0b1000110100 in binary.\n",
      "0o1064 in octal.\n",
      "0x234 in hexadecimal.\n"
     ]
    }
   ],
   "source": [
    "# convert decimal to binary,octal,hexadecimal\n",
    "dec=564\n",
    "print(\"the decimal value of \",dec,\"is:\")\n",
    "print(bin(dec),\"in binary.\")\n",
    "print(oct(dec),\"in octal.\")\n",
    "print(hex(dec),\"in hexadecimal.\")"
   ]
  },
  {
   "cell_type": "code",
   "execution_count": 10,
   "id": "764da883",
   "metadata": {},
   "outputs": [
    {
     "name": "stdout",
     "output_type": "stream",
     "text": [
      "enter a number to print fibbonacci10\n",
      "1\n",
      "1\n",
      "2\n",
      "3\n",
      "5\n",
      "8\n",
      "13\n",
      "21\n",
      "34\n",
      "55\n"
     ]
    }
   ],
   "source": [
    "n=int(input('enter a number to print fibbonacci'))\n",
    "a=1\n",
    "b=0\n",
    "c=0\n",
    "for i in range(0,n):\n",
    "    c=a+b\n",
    "    a=b\n",
    "    b=c\n",
    "    print(c)"
   ]
  },
  {
   "cell_type": "code",
   "execution_count": null,
   "id": "f45bb013",
   "metadata": {},
   "outputs": [],
   "source": []
  },
  {
   "cell_type": "code",
   "execution_count": null,
   "id": "ff269590",
   "metadata": {},
   "outputs": [],
   "source": []
  }
 ],
 "metadata": {
  "kernelspec": {
   "display_name": "Python 3 (ipykernel)",
   "language": "python",
   "name": "python3"
  },
  "language_info": {
   "codemirror_mode": {
    "name": "ipython",
    "version": 3
   },
   "file_extension": ".py",
   "mimetype": "text/x-python",
   "name": "python",
   "nbconvert_exporter": "python",
   "pygments_lexer": "ipython3",
   "version": "3.11.5"
  }
 },
 "nbformat": 4,
 "nbformat_minor": 5
}
