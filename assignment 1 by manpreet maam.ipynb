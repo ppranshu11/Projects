{
 "cells": [
  {
   "cell_type": "code",
   "execution_count": 2,
   "id": "f74605f6",
   "metadata": {},
   "outputs": [],
   "source": [
    "import array\n",
    "from array import *"
   ]
  },
  {
   "cell_type": "code",
   "execution_count": 4,
   "id": "8be1fcdb",
   "metadata": {},
   "outputs": [
    {
     "data": {
      "text/plain": [
       "array.array"
      ]
     },
     "execution_count": 4,
     "metadata": {},
     "output_type": "execute_result"
    }
   ],
   "source": [
    "type(number)"
   ]
  },
  {
   "cell_type": "code",
   "execution_count": 3,
   "id": "dc4f2254",
   "metadata": {},
   "outputs": [],
   "source": [
    "#question1\n",
    "#a. create an array named numbers containing 10 values\n",
    "number = array('i',[1,3,5,7,8,4,6,9,2,7])"
   ]
  },
  {
   "cell_type": "code",
   "execution_count": 4,
   "id": "922e815e",
   "metadata": {},
   "outputs": [
    {
     "data": {
      "text/plain": [
       "52"
      ]
     },
     "execution_count": 4,
     "metadata": {},
     "output_type": "execute_result"
    }
   ],
   "source": [
    "#b.display sum of all the number\n",
    "sum(number)"
   ]
  },
  {
   "cell_type": "code",
   "execution_count": 6,
   "id": "efcfc90e",
   "metadata": {},
   "outputs": [
    {
     "name": "stdout",
     "output_type": "stream",
     "text": [
      "5.2\n"
     ]
    }
   ],
   "source": [
    "#c.display average of numbers\n",
    "avg=sum(number)/len(number)\n",
    "print(avg)"
   ]
  },
  {
   "cell_type": "code",
   "execution_count": 6,
   "id": "63177c77",
   "metadata": {},
   "outputs": [
    {
     "name": "stdout",
     "output_type": "stream",
     "text": [
      "9\n",
      "1\n"
     ]
    }
   ],
   "source": [
    "#d.display maximum and minimum values in the array\n",
    "a=max(number)\n",
    "b=min(number)\n",
    "print(a)\n",
    "print(b)"
   ]
  },
  {
   "cell_type": "code",
   "execution_count": 8,
   "id": "e117aeba",
   "metadata": {},
   "outputs": [],
   "source": [
    "#question2 \n",
    "#a.create an array of 8 names\n",
    "name = [\"rahul\",\"shivam\",\"suraj\",\"vibhanshu\",\"gaurav\",\"sachin\",\"sanu\",\"aaditya\"]"
   ]
  },
  {
   "cell_type": "code",
   "execution_count": 9,
   "id": "02f5dfad",
   "metadata": {},
   "outputs": [
    {
     "name": "stdout",
     "output_type": "stream",
     "text": [
      "['rahul', 'shivam', 'suraj', 'vibhanshu', 'gaurav', 'sachin', 'sanu', 'aaditya', 'shiva', 'prafull']\n"
     ]
    }
   ],
   "source": [
    "#b add two more names in array\n",
    "name.append(\"shiva\")\n",
    "name.append(\"prafull\")\n",
    "print(name)"
   ]
  },
  {
   "cell_type": "code",
   "execution_count": 10,
   "id": "2a04d464",
   "metadata": {},
   "outputs": [
    {
     "name": "stdout",
     "output_type": "stream",
     "text": [
      "['rahul', 'shivam', 'suraj', 'shivanshu', 'gaurav', 'sachin', 'sanu', 'aaditya', 'shiva', 'prafull']\n"
     ]
    }
   ],
   "source": [
    "#c replace the 4th name in array with a new name\n",
    "name[3]=\"shivanshu\"\n",
    "print(name)"
   ]
  },
  {
   "cell_type": "code",
   "execution_count": 20,
   "id": "f7f33dd1",
   "metadata": {},
   "outputs": [
    {
     "name": "stdout",
     "output_type": "stream",
     "text": [
      "['rahul', 'shivam', 'suraj', 'shivanshu', 'gaurav', 'sachin', 'sanu', 'aaditya']\n"
     ]
    }
   ],
   "source": [
    "#d remove the last name from array\n",
    "name.pop()\n",
    "print(name)"
   ]
  },
  {
   "cell_type": "code",
   "execution_count": 11,
   "id": "eda3af73",
   "metadata": {},
   "outputs": [
    {
     "name": "stdout",
     "output_type": "stream",
     "text": [
      "['rahul', 'shivam', 'suraj', 'shivanshu', 'gaurav', 'sachin', 'sanu', 'aaditya', 'shiva', 'prafull']\n"
     ]
    }
   ],
   "source": [
    "#e display the final arrray of names\n",
    "print(name)"
   ]
  },
  {
   "cell_type": "code",
   "execution_count": 12,
   "id": "bcad0522",
   "metadata": {},
   "outputs": [
    {
     "name": "stdout",
     "output_type": "stream",
     "text": [
      "enter a number for find in a array54\n",
      "true\n"
     ]
    }
   ],
   "source": [
    "#question3\n",
    "#a create an array of 15 random integers\n",
    "#b prompt the user to enter a number to search for in the array\n",
    "#cinput exits in the array and display an apporopriate message\n",
    "a=array('i',[12,13,25,45,56,52,25,35,45,16,24,65,78,54,98])\n",
    "b=int(input(\"enter a number for find in a array\"))\n",
    "if b in a:\n",
    "    print(\"true\")\n",
    "else:\n",
    "     print(\"not available number that u want\")"
   ]
  },
  {
   "cell_type": "code",
   "execution_count": 13,
   "id": "b5bdc6b0",
   "metadata": {},
   "outputs": [
    {
     "name": "stdout",
     "output_type": "stream",
     "text": [
      "[53, 12, 32, 72, 74, 89, 98, 78, 56, 65, 45, 23]\n",
      "[23, 45, 65, 56, 78, 98, 89, 74, 72, 32, 12, 53]\n"
     ]
    }
   ],
   "source": [
    "#question4\n",
    "#a.create an array of 12 integers in random order \n",
    "#b.arrange the array in reverse order\n",
    "#c.display both the array\n",
    "list=[23,45,65,56,78,98,89,74,72,32,12,53]\n",
    "def reverse(list):\n",
    "    a=list[::-1]\n",
    "    return a\n",
    "print(reverse(list))\n",
    "print(list)\n"
   ]
  },
  {
   "cell_type": "code",
   "execution_count": 27,
   "id": "afdbd768",
   "metadata": {},
   "outputs": [
    {
     "name": "stdout",
     "output_type": "stream",
     "text": [
      "{'get': 'countries', 'parameters': [], 'errors': [], 'results': 231, 'response': ['Afghanistan', 'Albania', 'Algeria', 'Andorra', 'Angola', 'Anguilla', 'Antigua-and-Barbuda', 'Argentina', 'Armenia', 'Aruba', 'Australia', 'Austria', 'Azerbaijan', 'Bahamas', 'Bahrain', 'Bangladesh', 'Barbados', 'Belarus', 'Belgium', 'Belize', 'Benin', 'Bermuda', 'Bhutan', 'Bolivia', 'Bosnia-and-Herzegovina', 'Botswana', 'Brazil', 'British-Virgin-Islands', 'Brunei', 'Bulgaria', 'Burkina-Faso', 'Burundi', 'Cabo-Verde', 'Cambodia', 'Cameroon', 'Canada', 'CAR', 'Caribbean-Netherlands', 'Cayman-Islands', 'Chad', 'Channel-Islands', 'Chile', 'China', 'Colombia', 'Comoros', 'Congo', 'Cook-Islands', 'Costa-Rica', 'Croatia', 'Cuba', 'Cura&ccedil;ao', 'Cyprus', 'Czechia', 'Denmark', 'Diamond-Princess', 'Djibouti', 'Dominica', 'Dominican-Republic', 'DPRK', 'DRC', 'Ecuador', 'Egypt', 'El-Salvador', 'Equatorial-Guinea', 'Eritrea', 'Estonia', 'Eswatini', 'Ethiopia', 'Faeroe-Islands', 'Falkland-Islands', 'Fiji', 'Finland', 'France', 'French-Guiana', 'French-Polynesia', 'Gabon', 'Gambia', 'Georgia', 'Germany', 'Ghana', 'Gibraltar', 'Greece', 'Greenland', 'Grenada', 'Guadeloupe', 'Guatemala', 'Guinea', 'Guinea-Bissau', 'Guyana', 'Haiti', 'Honduras', 'Hong-Kong', 'Hungary', 'Iceland', 'India', 'Indonesia', 'Iran', 'Iraq', 'Ireland', 'Isle-of-Man', 'Israel', 'Italy', 'Ivory-Coast', 'Jamaica', 'Japan', 'Jordan', 'Kazakhstan', 'Kenya', 'Kiribati', 'Kuwait', 'Kyrgyzstan', 'Laos', 'Latvia', 'Lebanon', 'Lesotho', 'Liberia', 'Libya', 'Liechtenstein', 'Lithuania', 'Luxembourg', 'Macao', 'Madagascar', 'Malawi', 'Malaysia', 'Maldives', 'Mali', 'Malta', 'Marshall-Islands', 'Martinique', 'Mauritania', 'Mauritius', 'Mayotte', 'Mexico', 'Micronesia', 'Moldova', 'Monaco', 'Mongolia', 'Montenegro', 'Montserrat', 'Morocco', 'Mozambique', 'MS-Zaandam', 'Myanmar', 'Namibia', 'Nauru', 'Nepal', 'Netherlands', 'New-Caledonia', 'New-Zealand', 'Nicaragua', 'Niger', 'Nigeria', 'Niue', 'North-Macedonia', 'Norway', 'Oman', 'Pakistan', 'Palau', 'Palestine', 'Panama', 'Papua-New-Guinea', 'Paraguay', 'Peru', 'Philippines', 'Poland', 'Portugal', 'Qatar', 'R&eacute;union', 'Romania', 'Russia', 'Rwanda', 'S-Korea', 'Saint-Helena', 'Saint-Kitts-and-Nevis', 'Saint-Lucia', 'Saint-Martin', 'Saint-Pierre-Miquelon', 'Samoa', 'San-Marino', 'Sao-Tome-and-Principe', 'Saudi-Arabia', 'Senegal', 'Serbia', 'Seychelles', 'Sierra-Leone', 'Singapore', 'Sint-Maarten', 'Slovakia', 'Slovenia', 'Solomon-Islands', 'Somalia', 'South-Africa', 'South-Sudan', 'Spain', 'Sri-Lanka', 'St-Barth', 'St-Vincent-Grenadines', 'Sudan', 'Suriname', 'Sweden', 'Switzerland', 'Syria', 'Taiwan', 'Tajikistan', 'Tanzania', 'Thailand', 'Timor-Leste', 'Togo', 'Tokelau', 'Tonga', 'Trinidad-and-Tobago', 'Tunisia', 'Turkey', 'Turks-and-Caicos', 'Tuvalu', 'UAE', 'Uganda', 'UK', 'Ukraine', 'Uruguay', 'USA', 'Uzbekistan', 'Vanuatu', 'Vatican-City', 'Venezuela', 'Vietnam', 'Wallis-and-Futuna', 'Western-Sahara', 'Yemen', 'Zambia', 'Zimbabwe']}\n"
     ]
    }
   ],
   "source": [
    "import requests\n",
    "\n",
    "url = \"https://covid-193.p.rapidapi.com/countries\"\n",
    "\n",
    "headers = {\"X-RapidAPI-Key\": \"c2292c9811msh2a25d0609010e67p1f321cjsn864716c3b4ad\",\n",
    "           \"X-RapidAPI-Host\": \"covid-193.p.rapidapi.com\"\n",
    "           }\n",
    "\n",
    "response = requests.get(url, headers=headers)\n",
    "\n",
    "print(response.json())"
   ]
  },
  {
   "cell_type": "code",
   "execution_count": 4,
   "id": "6f25b69d",
   "metadata": {},
   "outputs": [
    {
     "name": "stdout",
     "output_type": "stream",
     "text": [
      "{'get': 'statistics', 'parameters': [], 'errors': [], 'results': 238, 'response': [{'continent': 'Africa', 'country': 'Saint-Helena', 'population': 6115, 'cases': {'new': None, 'active': 2164, 'critical': None, 'recovered': 2, '1M_pop': '354211', 'total': 2166}, 'deaths': {'new': None, '1M_pop': None, 'total': None}, 'tests': {'1M_pop': None, 'total': None}, 'day': '2024-03-07', 'time': '2024-03-07T05:30:10+00:00'}, {'continent': 'South-America', 'country': 'Falkland-Islands', 'population': 3539, 'cases': {'new': None, 'active': 0, 'critical': None, 'recovered': 1930, '1M_pop': '545352', 'total': 1930}, 'deaths': {'new': None, '1M_pop': None, 'total': None}, 'tests': {'1M_pop': '2439107', 'total': 8632}, 'day': '2024-03-07', 'time': '2024-03-07T05:30:10+00:00'}, {'continent': 'North-America', 'country': 'Montserrat', 'population': 4965, 'cases': {'new': None, 'active': 19, 'critical': None, 'recovered': 1376, '1M_pop': '282578', 'total': 1403}, 'deaths': {'new': None, '1M_pop': '1611', 'total': 8}, 'tests': {'1M_pop': '3577442', 'total': 17762}, 'day': '2024-03-07', 'time': '2024-03-07T05:30:10+00:00'}, {'continent': None, 'country': 'Diamond-Princess', 'population': None, 'cases': {'new': None, 'active': 0, 'critical': None, 'recovered': 699, '1M_pop': None, 'total': 712}, 'deaths': {'new': None, '1M_pop': None, 'total': 13}, 'tests': {'1M_pop': None, 'total': None}, 'day': '2024-03-07', 'time': '2024-03-07T05:30:10+00:00'}, {'continent': 'Europe', 'country': 'Vatican-City', 'population': 799, 'cases': {'new': None, 'active': 0, 'critical': None, 'recovered': 29, '1M_pop': '36295', 'total': 29}, 'deaths': {'new': None, '1M_pop': None, 'total': None}, 'tests': {'1M_pop': None, 'total': None}, 'day': '2024-03-07', 'time': '2024-03-07T05:30:10+00:00'}, {'continent': 'Africa', 'country': 'Western-Sahara', 'population': 626161, 'cases': {'new': None, 'active': 0, 'critical': None, 'recovered': 9, '1M_pop': '16', 'total': 10}, 'deaths': {'new': None, '1M_pop': '2', 'total': 1}, 'tests': {'1M_pop': None, 'total': None}, 'day': '2024-03-07', 'time': '2024-03-07T05:30:10+00:00'}, {'continent': None, 'country': 'MS-Zaandam', 'population': None, 'cases': {'new': None, 'active': 0, 'critical': None, 'recovered': 7, '1M_pop': None, 'total': 9}, 'deaths': {'new': None, '1M_pop': None, 'total': 2}, 'tests': {'1M_pop': None, 'total': None}, 'day': '2024-03-07', 'time': '2024-03-07T05:30:10+00:00'}, {'continent': 'Asia', 'country': 'China', 'population': 1448471400, 'cases': {'new': None, 'active': 118977, 'critical': None, 'recovered': 379053, '1M_pop': '347', 'total': 503302}, 'deaths': {'new': None, '1M_pop': '4', 'total': 5272}, 'tests': {'1M_pop': '110461', 'total': 160000000}, 'day': '2024-03-07', 'time': '2024-03-07T05:30:10+00:00'}, {'continent': 'Africa', 'country': 'Liberia', 'population': 5305117, 'cases': {'new': None, 'active': 12, 'critical': 2, 'recovered': 7783, '1M_pop': '1525', 'total': 8090}, 'deaths': {'new': None, '1M_pop': '56', 'total': 295}, 'tests': {'1M_pop': '26356', 'total': 139824}, 'day': '2024-03-07', 'time': '2024-03-07T05:30:10+00:00'}, {'continent': 'Oceania', 'country': 'Nauru', 'population': 10903, 'cases': {'new': None, 'active': 45, 'critical': None, 'recovered': 5347, '1M_pop': '494635', 'total': 5393}, 'deaths': {'new': None, '1M_pop': '92', 'total': 1}, 'tests': {'1M_pop': '1881042', 'total': 20509}, 'day': '2024-03-07', 'time': '2024-03-07T05:30:10+00:00'}, {'continent': 'Africa', 'country': 'Comoros', 'population': 907419, 'cases': {'new': None, 'active': 9, 'critical': None, 'recovered': 8939, '1M_pop': '10038', 'total': 9109}, 'deaths': {'new': None, '1M_pop': '177', 'total': 161}, 'tests': {'1M_pop': None, 'total': None}, 'day': '2024-03-07', 'time': '2024-03-07T05:30:10+00:00'}, {'continent': 'Africa', 'country': 'Guinea-Bissau', 'population': 2063367, 'cases': {'new': None, 'active': 508, 'critical': 6, 'recovered': 8929, '1M_pop': '4659', 'total': 9614}, 'deaths': {'new': None, '1M_pop': '86', 'total': 177}, 'tests': {'1M_pop': '70385', 'total': 145231}, 'day': '2024-03-07', 'time': '2024-03-07T05:30:10+00:00'}, {'continent': 'Africa', 'country': 'Chad', 'population': 17413580, 'cases': {'new': None, 'active': 2633, 'critical': None, 'recovered': 4874, '1M_pop': '442', 'total': 7701}, 'deaths': {'new': None, '1M_pop': '11', 'total': 194}, 'tests': {'1M_pop': '10988', 'total': 191341}, 'day': '2024-03-07', 'time': '2024-03-07T05:30:10+00:00'}, {'continent': 'Oceania', 'country': 'Wallis-and-Futuna', 'population': 10982, 'cases': {'new': None, 'active': 3104, 'critical': None, 'recovered': 438, '1M_pop': '323256', 'total': 3550}, 'deaths': {'new': None, '1M_pop': '728', 'total': 8}, 'tests': {'1M_pop': '1867419', 'total': 20508}, 'day': '2024-03-07', 'time': '2024-03-07T05:30:10+00:00'}, {'continent': 'North-America', 'country': 'St-Barth', 'population': 9945, 'cases': {'new': None, 'active': None, 'critical': None, 'recovered': None, '1M_pop': '553746', 'total': 5507}, 'deaths': {'new': None, '1M_pop': '603', 'total': 6}, 'tests': {'1M_pop': '7908095', 'total': 78646}, 'day': '2024-03-07', 'time': '2024-03-07T05:30:10+00:00'}, {'continent': 'North-America', 'country': 'Saint-Kitts-and-Nevis', 'population': 53871, 'cases': {'new': None, 'active': 0, 'critical': None, 'recovered': 6559, '1M_pop': '122645', 'total': 6607}, 'deaths': {'new': None, '1M_pop': '891', 'total': 48}, 'tests': {'1M_pop': '2356704', 'total': 126958}, 'day': '2024-03-07', 'time': '2024-03-07T05:30:10+00:00'}, {'continent': 'Oceania', 'country': 'Tokelau', 'population': 1378, 'cases': {'new': None, 'active': 80, 'critical': None, 'recovered': None, '1M_pop': '58055', 'total': 80}, 'deaths': {'new': None, '1M_pop': None, 'total': None}, 'tests': {'1M_pop': None, 'total': None}, 'day': '2024-03-07', 'time': '2024-03-07T05:30:10+00:00'}, {'continent': 'Oceania', 'country': 'Kiribati', 'population': 123419, 'cases': {'new': None, 'active': 2358, 'critical': 3, 'recovered': 2703, '1M_pop': '41201', 'total': 5085}, 'deaths': {'new': None, '1M_pop': '194', 'total': 24}, 'tests': {'1M_pop': None, 'total': None}, 'day': '2024-03-07', 'time': '2024-03-07T05:30:10+00:00'}, {'continent': 'North-America', 'country': 'Anguilla', 'population': 15230, 'cases': {'new': None, 'active': None, 'critical': None, 'recovered': None, '1M_pop': '256336', 'total': 3904}, 'deaths': {'new': None, '1M_pop': '788', 'total': 12}, 'tests': {'1M_pop': '3373736', 'total': 51382}, 'day': '2024-03-07', 'time': '2024-03-07T05:30:10+00:00'}, {'continent': 'North-America', 'country': 'Saint-Pierre-Miquelon', 'population': 5759, 'cases': {'new': None, 'active': 1001, 'critical': None, 'recovered': 2449, '1M_pop': '599410', 'total': 3452}, 'deaths': {'new': None, '1M_pop': '347', 'total': 2}, 'tests': {'1M_pop': '4410488', 'total': 25400}, 'day': '2024-03-07', 'time': '2024-03-07T05:30:10+00:00'}, {'continent': 'North-America', 'country': 'Antigua-and-Barbuda', 'population': 99509, 'cases': {'new': None, 'active': 6, 'critical': None, 'recovered': 8954, '1M_pop': '91509', 'total': 9106}, 'deaths': {'new': None, '1M_pop': '1467', 'total': 146}, 'tests': {'1M_pop': '189943', 'total': 18901}, 'day': '2024-03-07', 'time': '2024-03-07T05:30:10+00:00'}, {'continent': 'Oceania', 'country': 'Tuvalu', 'population': 12066, 'cases': {'new': None, 'active': None, 'critical': None, 'recovered': None, '1M_pop': '243909', 'total': 2943}, 'deaths': {'new': None, '1M_pop': '83', 'total': 1}, 'tests': {'1M_pop': None, 'total': None}, 'day': '2024-03-07', 'time': '2024-03-07T05:30:10+00:00'}, {'continent': 'North-America', 'country': 'British-Virgin-Islands', 'population': 30596, 'cases': {'new': None, 'active': None, 'critical': None, 'recovered': None, '1M_pop': '241600', 'total': 7392}, 'deaths': {'new': None, '1M_pop': '2092', 'total': 64}, 'tests': {'1M_pop': '3508269', 'total': 107339}, 'day': '2024-03-07', 'time': '2024-03-07T05:30:10+00:00'}, {'continent': 'Oceania', 'country': 'Cook-Islands', 'population': 17571, 'cases': {'new': None, 'active': 51, 'critical': None, 'recovered': 7150, '1M_pop': '409937', 'total': 7203}, 'deaths': {'new': None, '1M_pop': '114', 'total': 2}, 'tests': {'1M_pop': '1120596', 'total': 19690}, 'day': '2024-03-07', 'time': '2024-03-07T05:30:10+00:00'}, {'continent': 'Africa', 'country': 'Sierra-Leone', 'population': 8306436, 'cases': {'new': None, 'active': None, 'critical': None, 'recovered': None, '1M_pop': '937', 'total': 7779}, 'deaths': {'new': None, '1M_pop': '15', 'total': 126}, 'tests': {'1M_pop': '31296', 'total': 259958}, 'day': '2024-03-07', 'time': '2024-03-07T05:30:10+00:00'}, {'continent': 'Oceania', 'country': 'Palau', 'population': 18233, 'cases': {'new': None, 'active': 1, 'critical': None, 'recovered': 6268, '1M_pop': '344376', 'total': 6279}, 'deaths': {'new': None, '1M_pop': '548', 'total': 10}, 'tests': {'1M_pop': '3909395', 'total': 71280}, 'day': '2024-03-07', 'time': '2024-03-07T05:30:10+00:00'}, {'continent': 'Oceania', 'country': 'Niue', 'population': 1622, 'cases': {'new': None, 'active': 3, 'critical': None, 'recovered': 1056, '1M_pop': '652898', 'total': 1059}, 'deaths': {'new': None, '1M_pop': None, 'total': None}, 'tests': {'1M_pop': None, 'total': None}, 'day': '2024-03-07', 'time': '2024-03-07T05:30:10+00:00'}, {'continent': 'North-America', 'country': 'Turks-and-Caicos', 'population': 39741, 'cases': {'new': None, 'active': 16, 'critical': 4, 'recovered': 6693, '1M_pop': '169825', 'total': 6749}, 'deaths': {'new': None, '1M_pop': '1007', 'total': 40}, 'tests': {'1M_pop': '15517929', 'total': 616698}, 'day': '2024-03-07', 'time': '2024-03-07T05:30:10+00:00'}, {'continent': 'Africa', 'country': 'Sao-Tome-and-Principe', 'population': 227679, 'cases': {'new': None, 'active': 0, 'critical': None, 'recovered': 6672, '1M_pop': '29656', 'total': 6752}, 'deaths': {'new': None, '1M_pop': '351', 'total': 80}, 'tests': {'1M_pop': '130008', 'total': 29600}, 'day': '2024-03-07', 'time': '2024-03-07T05:30:10+00:00'}, {'continent': 'Africa', 'country': 'Congo', 'population': 5797805, 'cases': {'new': None, 'active': 983, 'critical': None, 'recovered': 24006, '1M_pop': '4377', 'total': 25375}, 'deaths': {'new': None, '1M_pop': '67', 'total': 386}, 'tests': {'1M_pop': '59991', 'total': 347815}, 'day': '2024-03-07', 'time': '2024-03-07T05:30:09+00:00'}, {'continent': 'North-America', 'country': 'Nicaragua', 'population': 6779100, 'cases': {'new': None, 'active': 14041, 'critical': None, 'recovered': 4225, '1M_pop': '2728', 'total': 18491}, 'deaths': {'new': None, '1M_pop': '33', 'total': 225}, 'tests': {'1M_pop': None, 'total': None}, 'day': '2024-03-07', 'time': '2024-03-07T05:30:09+00:00'}, {'continent': 'Asia', 'country': 'Tajikistan', 'population': 9957464, 'cases': {'new': None, 'active': 397, 'critical': None, 'recovered': 17264, '1M_pop': '1786', 'total': 17786}, 'deaths': {'new': None, '1M_pop': '13', 'total': 125}, 'tests': {'1M_pop': None, 'total': None}, 'day': '2024-03-07', 'time': '2024-03-07T05:30:09+00:00'}, {'continent': 'Africa', 'country': 'Djibouti', 'population': 1016097, 'cases': {'new': None, 'active': 74, 'critical': None, 'recovered': 15427, '1M_pop': '15441', 'total': 15690}, 'deaths': {'new': None, '1M_pop': '186', 'total': 189}, 'tests': {'1M_pop': '301094', 'total': 305941}, 'day': '2024-03-07', 'time': '2024-03-07T05:30:09+00:00'}, {'continent': 'North-America', 'country': 'Greenland', 'population': 56973, 'cases': {'new': None, 'active': 9189, 'critical': 4, 'recovered': 2761, '1M_pop': '210117', 'total': 11971}, 'deaths': {'new': None, '1M_pop': '369', 'total': 21}, 'tests': {'1M_pop': '2894810', 'total': 164926}, 'day': '2024-03-07', 'time': '2024-03-07T05:30:09+00:00'}, {'continent': 'Africa', 'country': 'Eritrea', 'population': 3662244, 'cases': {'new': None, 'active': 0, 'critical': None, 'recovered': 10086, '1M_pop': '2782', 'total': 10189}, 'deaths': {'new': None, '1M_pop': '28', 'total': 103}, 'tests': {'1M_pop': '6470', 'total': 23693}, 'day': '2024-03-07', 'time': '2024-03-07T05:30:09+00:00'}, {'continent': 'Africa', 'country': 'Niger', 'population': 26083660, 'cases': {'new': None, 'active': 729, 'critical': 1, 'recovered': 8890, '1M_pop': '381', 'total': 9931}, 'deaths': {'new': None, '1M_pop': '12', 'total': 312}, 'tests': {'1M_pop': '9759', 'total': 254538}, 'day': '2024-03-07', 'time': '2024-03-07T05:30:09+00:00'}, {'continent': 'Africa', 'country': 'Equatorial-Guinea', 'population': 1496662, 'cases': {'new': '+7', 'active': 139, 'critical': 5, 'recovered': 16907, '1M_pop': '11512', 'total': 17229}, 'deaths': {'new': None, '1M_pop': '122', 'total': 183}, 'tests': {'1M_pop': '244342', 'total': 365697}, 'day': '2024-03-07', 'time': '2024-03-07T05:30:09+00:00'}, {'continent': 'North-America', 'country': 'Caribbean-Netherlands', 'population': 26647, 'cases': {'new': '+3', 'active': 1168, 'critical': None, 'recovered': 10476, '1M_pop': '438398', 'total': 11682}, 'deaths': {'new': None, '1M_pop': '1426', 'total': 38}, 'tests': {'1M_pop': '1130559', 'total': 30126}, 'day': '2024-03-07', 'time': '2024-03-07T05:30:09+00:00'}, {'continent': 'Africa', 'country': 'Somalia', 'population': 16841795, 'cases': {'new': '+10', 'active': 12791, 'critical': None, 'recovered': 13182, '1M_pop': '1623', 'total': 27334}, 'deaths': {'new': None, '1M_pop': '81', 'total': 1361}, 'tests': {'1M_pop': '23778', 'total': 400466}, 'day': '2024-03-07', 'time': '2024-03-07T05:30:09+00:00'}, {'continent': 'North-America', 'country': 'Bermuda', 'population': 61939, 'cases': {'new': '+11', 'active': 10, 'critical': None, 'recovered': 18685, '1M_pop': '304493', 'total': 18860}, 'deaths': {'new': '+2', '1M_pop': '2664', 'total': 165}, 'tests': {'1M_pop': '16622128', 'total': 1029558}, 'day': '2024-03-07', 'time': '2024-03-07T05:30:09+00:00'}, {'continent': 'Africa', 'country': 'Gambia', 'population': 2558482, 'cases': {'new': '+28', 'active': 65, 'critical': None, 'recovered': 12189, '1M_pop': '4935', 'total': 12626}, 'deaths': {'new': None, '1M_pop': '145', 'total': 372}, 'tests': {'1M_pop': '60851', 'total': 155686}, 'day': '2024-03-07', 'time': '2024-03-07T05:30:09+00:00'}, {'continent': 'North-America', 'country': 'Grenada', 'population': 113475, 'cases': {'new': '+10', 'active': 97, 'critical': 4, 'recovered': 19358, '1M_pop': '173545', 'total': 19693}, 'deaths': {'new': None, '1M_pop': '2097', 'total': 238}, 'tests': {'1M_pop': '1612523', 'total': 182981}, 'day': '2024-03-07', 'time': '2024-03-07T05:30:09+00:00'}, {'continent': 'Oceania', 'country': 'Vanuatu', 'population': 321832, 'cases': {'new': None, 'active': 29, 'critical': None, 'recovered': 11976, '1M_pop': '37346', 'total': 12019}, 'deaths': {'new': None, '1M_pop': '44', 'total': 14}, 'tests': {'1M_pop': '77606', 'total': 24976}, 'day': '2024-03-07', 'time': '2024-03-07T05:30:09+00:00'}, {'continent': 'North-America', 'country': 'Sint-Maarten', 'population': 43966, 'cases': {'new': None, 'active': 54, 'critical': None, 'recovered': 10905, '1M_pop': '251353', 'total': 11051}, 'deaths': {'new': None, '1M_pop': '2093', 'total': 92}, 'tests': {'1M_pop': '1411454', 'total': 62056}, 'day': '2024-03-07', 'time': '2024-03-07T05:30:09+00:00'}, {'continent': 'Asia', 'country': 'Timor-Leste', 'population': 1369429, 'cases': {'new': None, 'active': 220, 'critical': None, 'recovered': 23102, '1M_pop': '17131', 'total': 23460}, 'deaths': {'new': None, '1M_pop': '101', 'total': 138}, 'tests': {'1M_pop': '203391', 'total': 278529}, 'day': '2024-03-07', 'time': '2024-03-07T05:30:09+00:00'}, {'continent': 'Africa', 'country': 'Benin', 'population': 12784726, 'cases': {'new': None, 'active': 26, 'critical': None, 'recovered': 27847, '1M_pop': '2193', 'total': 28036}, 'deaths': {'new': None, '1M_pop': '13', 'total': 163}, 'tests': {'1M_pop': '47268', 'total': 604310}, 'day': '2024-03-07', 'time': '2024-03-07T05:30:09+00:00'}, {'continent': 'Oceania', 'country': 'Marshall-Islands', 'population': 60057, 'cases': {'new': None, 'active': 0, 'critical': None, 'recovered': 16121, '1M_pop': '268711', 'total': 16138}, 'deaths': {'new': None, '1M_pop': '283', 'total': 17}, 'tests': {'1M_pop': None, 'total': None}, 'day': '2024-03-07', 'time': '2024-03-07T05:30:09+00:00'}, {'continent': 'Europe', 'country': 'Gibraltar', 'population': 33704, 'cases': {'new': None, 'active': None, 'critical': None, 'recovered': None, '1M_pop': '609720', 'total': 20550}, 'deaths': {'new': None, '1M_pop': '3353', 'total': 113}, 'tests': {'1M_pop': '15852213', 'total': 534283}, 'day': '2024-03-07', 'time': '2024-03-07T05:30:09+00:00'}, {'continent': 'North-America', 'country': 'Saint-Martin', 'population': 39730, 'cases': {'new': None, 'active': None, 'critical': None, 'recovered': None, '1M_pop': '310194', 'total': 12324}, 'deaths': {'new': None, '1M_pop': '1586', 'total': 63}, 'tests': {'1M_pop': '2828643', 'total': 112382}, 'day': '2024-03-07', 'time': '2024-03-07T05:30:09+00:00'}, {'continent': 'Asia', 'country': 'Yemen', 'population': 31154867, 'cases': {'new': None, 'active': 662, 'critical': None, 'recovered': 9124, '1M_pop': '383', 'total': 11945}, 'deaths': {'new': None, '1M_pop': '69', 'total': 2159}, 'tests': {'1M_pop': '10579', 'total': 329592}, 'day': '2024-03-07', 'time': '2024-03-07T05:30:09+00:00'}, {'continent': 'Oceania', 'country': 'Micronesia', 'population': 117489, 'cases': {'new': None, 'active': None, 'critical': None, 'recovered': None, '1M_pop': '225953', 'total': 26547}, 'deaths': {'new': None, '1M_pop': '553', 'total': 65}, 'tests': {'1M_pop': '701598', 'total': 82430}, 'day': '2024-03-07', 'time': '2024-03-07T05:30:09+00:00'}, {'continent': 'Oceania', 'country': 'Solomon-Islands', 'population': 721159, 'cases': {'new': None, 'active': None, 'critical': None, 'recovered': None, '1M_pop': '35989', 'total': 25954}, 'deaths': {'new': None, '1M_pop': '276', 'total': 199}, 'tests': {'1M_pop': None, 'total': None}, 'day': '2024-03-07', 'time': '2024-03-07T05:30:09+00:00'}, {'continent': 'Europe', 'country': 'Monaco', 'population': 39783, 'cases': {'new': None, 'active': None, 'critical': None, 'recovered': None, '1M_pop': '431868', 'total': 17181}, 'deaths': {'new': None, '1M_pop': '1684', 'total': 67}, 'tests': {'1M_pop': '1976875', 'total': 78646}, 'day': '2024-03-07', 'time': '2024-03-07T05:30:09+00:00'}, {'continent': 'North-America', 'country': 'St-Vincent-Grenadines', 'population': 111551, 'cases': {'new': None, 'active': 57, 'critical': None, 'recovered': 9493, '1M_pop': '86723', 'total': 9674}, 'deaths': {'new': None, '1M_pop': '1112', 'total': 124}, 'tests': {'1M_pop': '1023720', 'total': 114197}, 'day': '2024-03-07', 'time': '2024-03-07T05:30:09+00:00'}, {'continent': 'Africa', 'country': 'CAR', 'population': 5016678, 'cases': {'new': None, 'active': 127, 'critical': 2, 'recovered': 15200, '1M_pop': '3078', 'total': 15440}, 'deaths': {'new': None, '1M_pop': '23', 'total': 113}, 'tests': {'1M_pop': '16205', 'total': 81294}, 'day': '2024-03-07', 'time': '2024-03-07T05:30:09+00:00'}, {'continent': 'North-America', 'country': 'Dominica', 'population': 72344, 'cases': {'new': None, 'active': 0, 'critical': None, 'recovered': 15964, '1M_pop': '221691', 'total': 16038}, 'deaths': {'new': None, '1M_pop': '1023', 'total': 74}, 'tests': {'1M_pop': '3170187', 'total': 229344}, 'day': '2024-03-07', 'time': '2024-03-07T05:30:09+00:00'}, {'continent': 'Europe', 'country': 'San-Marino', 'population': 34085, 'cases': {'new': None, 'active': 46, 'critical': None, 'recovered': 26011, '1M_pop': '768226', 'total': 26185}, 'deaths': {'new': None, '1M_pop': '3755', 'total': 128}, 'tests': {'1M_pop': '5775414', 'total': 196855}, 'day': '2024-03-07', 'time': '2024-03-07T05:30:09+00:00'}, {'continent': 'Africa', 'country': 'Burkina-Faso', 'population': 22102838, 'cases': {'new': None, 'active': 113, 'critical': None, 'recovered': 21596, '1M_pop': '1000', 'total': 22109}, 'deaths': {'new': None, '1M_pop': '18', 'total': 400}, 'tests': {'1M_pop': '11265', 'total': 248995}, 'day': '2024-03-07', 'time': '2024-03-07T05:30:09+00:00'}, {'continent': 'Oceania', 'country': 'Samoa', 'population': 202239, 'cases': {'new': None, 'active': 15370, 'critical': None, 'recovered': 1605, '1M_pop': '84089', 'total': 17006}, 'deaths': {'new': None, '1M_pop': '153', 'total': 31}, 'tests': {'1M_pop': '926612', 'total': 187397}, 'day': '2024-03-07', 'time': '2024-03-07T05:30:09+00:00'}, {'continent': 'Africa', 'country': 'South-Sudan', 'population': 11618511, 'cases': {'new': None, 'active': 557, 'critical': 1, 'recovered': 18115, '1M_pop': '1620', 'total': 18819}, 'deaths': {'new': None, '1M_pop': '13', 'total': 147}, 'tests': {'1M_pop': '35313', 'total': 410280}, 'day': '2024-03-07', 'time': '2024-03-07T05:30:09+00:00'}, {'continent': 'Oceania', 'country': 'Tonga', 'population': 107749, 'cases': {'new': None, 'active': 1299, 'critical': None, 'recovered': 15638, '1M_pop': '157310', 'total': 16950}, 'deaths': {'new': None, '1M_pop': '121', 'total': 13}, 'tests': {'1M_pop': '4965327', 'total': 535009}, 'day': '2024-03-07', 'time': '2024-03-07T05:30:09+00:00'}, {'continent': 'Asia', 'country': 'Macao', 'population': 667490, 'cases': {'new': '+1097', 'active': 20193, 'critical': None, 'recovered': 3487, '1M_pop': '35660', 'total': 23803}, 'deaths': {'new': None, '1M_pop': '184', 'total': 123}, 'tests': {'1M_pop': '11760', 'total': 7850}, 'day': '2024-03-07', 'time': '2024-03-07T05:30:09+00:00'}, {'continent': 'Europe', 'country': 'Liechtenstein', 'population': 38387, 'cases': {'new': None, 'active': None, 'critical': None, 'recovered': None, '1M_pop': '561987', 'total': 21573}, 'deaths': {'new': None, '1M_pop': '2449', 'total': 94}, 'tests': {'1M_pop': '2929559', 'total': 112457}, 'day': '2024-03-07', 'time': '2024-03-07T05:30:09+00:00'}, {'continent': 'North-America', 'country': 'Saint-Lucia', 'population': 185113, 'cases': {'new': None, 'active': 0, 'critical': None, 'recovered': 29805, '1M_pop': '163225', 'total': 30215}, 'deaths': {'new': None, '1M_pop': '2215', 'total': 410}, 'tests': {'1M_pop': '1139752', 'total': 210983}, 'day': '2024-03-07', 'time': '2024-03-07T05:30:09+00:00'}, {'continent': 'North-America', 'country': 'Cura&ccedil;ao', 'population': 165529, 'cases': {'new': None, 'active': 971, 'critical': 3, 'recovered': 44720, '1M_pop': '277812', 'total': 45986}, 'deaths': {'new': None, '1M_pop': '1782', 'total': 295}, 'tests': {'1M_pop': '3000640', 'total': 496693}, 'day': '2024-03-07', 'time': '2024-03-07T05:30:08+00:00'}, {'continent': 'Europe', 'country': 'Isle-of-Man', 'population': 85732, 'cases': {'new': None, 'active': None, 'critical': None, 'recovered': None, '1M_pop': '443335', 'total': 38008}, 'deaths': {'new': None, '1M_pop': '1353', 'total': 116}, 'tests': {'1M_pop': '1758422', 'total': 150753}, 'day': '2024-03-07', 'time': '2024-03-07T05:30:08+00:00'}, {'continent': 'North-America', 'country': 'Cayman-Islands', 'population': 67277, 'cases': {'new': None, 'active': 22882, 'critical': 1, 'recovered': 8553, '1M_pop': '467797', 'total': 31472}, 'deaths': {'new': None, '1M_pop': '550', 'total': 37}, 'tests': {'1M_pop': '3311280', 'total': 222773}, 'day': '2024-03-07', 'time': '2024-03-07T05:30:08+00:00'}, {'continent': 'Africa', 'country': 'Mayotte', 'population': 286259, 'cases': {'new': '+19', 'active': None, 'critical': None, 'recovered': None, '1M_pop': '146815', 'total': 42027}, 'deaths': {'new': None, '1M_pop': '657', 'total': 188}, 'tests': {'1M_pop': '618038', 'total': 176919}, 'day': '2024-03-07', 'time': '2024-03-07T05:30:08+00:00'}, {'continent': 'North-America', 'country': 'Bahamas', 'population': 400516, 'cases': {'new': None, 'active': 874, 'critical': 1, 'recovered': 36366, '1M_pop': '95087', 'total': 38084}, 'deaths': {'new': None, '1M_pop': '2107', 'total': 844}, 'tests': {'1M_pop': '643767', 'total': 257839}, 'day': '2024-03-07', 'time': '2024-03-07T05:30:08+00:00'}, {'continent': 'Oceania', 'country': 'Fiji', 'population': 909466, 'cases': {'new': None, 'active': 1006, 'critical': None, 'recovered': 67226, '1M_pop': '75997', 'total': 69117}, 'deaths': {'new': None, '1M_pop': '973', 'total': 885}, 'tests': {'1M_pop': '739866', 'total': 672883}, 'day': '2024-03-07', 'time': '2024-03-07T05:30:08+00:00'}, {'continent': 'South-America', 'country': 'Suriname', 'population': 596831, 'cases': {'new': None, 'active': None, 'critical': None, 'recovered': None, '1M_pop': '138378', 'total': 82588}, 'deaths': {'new': None, '1M_pop': '2359', 'total': 1408}, 'tests': {'1M_pop': '405822', 'total': 242207}, 'day': '2024-03-07', 'time': '2024-03-07T05:30:08+00:00'}, {'continent': 'North-America', 'country': 'Aruba', 'population': 107609, 'cases': {'new': None, 'active': 1494, 'critical': 2, 'recovered': 42438, '1M_pop': '410969', 'total': 44224}, 'deaths': {'new': None, '1M_pop': '2714', 'total': 292}, 'tests': {'1M_pop': '1653068', 'total': 177885}, 'day': '2024-03-07', 'time': '2024-03-07T05:30:08+00:00'}, {'continent': 'Africa', 'country': 'Sudan', 'population': 45992020, 'cases': {'new': None, 'active': 0, 'critical': None, 'recovered': 58947, '1M_pop': '1391', 'total': 63993}, 'deaths': {'new': None, '1M_pop': '110', 'total': 5046}, 'tests': {'1M_pop': '12240', 'total': 562941}, 'day': '2024-03-07', 'time': '2024-03-07T05:30:08+00:00'}, {'continent': 'Asia', 'country': 'Syria', 'population': 19364809, 'cases': {'new': '+7', 'active': 0, 'critical': None, 'recovered': 54578, '1M_pop': '2982', 'total': 57743}, 'deaths': {'new': None, '1M_pop': '163', 'total': 3165}, 'tests': {'1M_pop': '7553', 'total': 146269}, 'day': '2024-03-07', 'time': '2024-03-07T05:30:08+00:00'}, {'continent': 'Asia', 'country': 'Bhutan', 'population': 787941, 'cases': {'new': '+3', 'active': 1112, 'critical': None, 'recovered': 61564, '1M_pop': '79571', 'total': 62697}, 'deaths': {'new': None, '1M_pop': '27', 'total': 21}, 'tests': {'1M_pop': '2923739', 'total': 2303734}, 'day': '2024-03-07', 'time': '2024-03-07T05:30:08+00:00'}, {'continent': 'Africa', 'country': 'Mauritius', 'population': 1274727, 'cases': {'new': None, 'active': 696, 'critical': None, 'recovered': 41278, '1M_pop': '33752', 'total': 43025}, 'deaths': {'new': None, '1M_pop': '824', 'total': 1051}, 'tests': {'1M_pop': '281374', 'total': 358675}, 'day': '2024-03-07', 'time': '2024-03-07T05:30:08+00:00'}, {'continent': 'Africa', 'country': 'Burundi', 'population': 12624840, 'cases': {'new': None, 'active': 1114, 'critical': None, 'recovered': 53569, '1M_pop': '4334', 'total': 54721}, 'deaths': {'new': None, '1M_pop': '3', 'total': 38}, 'tests': {'1M_pop': '27386', 'total': 345742}, 'day': '2024-03-07', 'time': '2024-03-07T05:30:08+00:00'}, {'continent': 'Africa', 'country': 'Cabo-Verde', 'population': 567678, 'cases': {'new': None, 'active': 305, 'critical': 23, 'recovered': 63755, '1M_pop': '113580', 'total': 64477}, 'deaths': {'new': None, '1M_pop': '735', 'total': 417}, 'tests': {'1M_pop': '707482', 'total': 401622}, 'day': '2024-03-07', 'time': '2024-03-07T05:30:08+00:00'}, {'continent': 'Oceania', 'country': 'New-Caledonia', 'population': 290915, 'cases': {'new': None, 'active': None, 'critical': None, 'recovered': None, '1M_pop': '275214', 'total': 80064}, 'deaths': {'new': None, '1M_pop': '1079', 'total': 314}, 'tests': {'1M_pop': '340182', 'total': 98964}, 'day': '2024-03-07', 'time': '2024-03-07T05:30:08+00:00'}, {'continent': 'Oceania', 'country': 'Papua-New-Guinea', 'population': 9292169, 'cases': {'new': None, 'active': 26, 'critical': None, 'recovered': 46168, '1M_pop': '5043', 'total': 46864}, 'deaths': {'new': None, '1M_pop': '72', 'total': 670}, 'tests': {'1M_pop': '26813', 'total': 249149}, 'day': '2024-03-07', 'time': '2024-03-07T05:30:08+00:00'}, {'continent': 'Europe', 'country': 'Andorra', 'population': 77463, 'cases': {'new': None, 'active': None, 'critical': None, 'recovered': None, '1M_pop': '619844', 'total': 48015}, 'deaths': {'new': None, '1M_pop': '2130', 'total': 165}, 'tests': {'1M_pop': '3225256', 'total': 249838}, 'day': '2024-03-07', 'time': '2024-03-07T05:30:08+00:00'}, {'continent': 'Europe', 'country': 'Faeroe-Islands', 'population': 49233, 'cases': {'new': None, 'active': None, 'critical': None, 'recovered': None, '1M_pop': '703959', 'total': 34658}, 'deaths': {'new': None, '1M_pop': '569', 'total': 28}, 'tests': {'1M_pop': '15802409', 'total': 778000}, 'day': '2024-03-07', 'time': '2024-03-07T05:30:08+00:00'}, {'continent': 'Africa', 'country': 'Gabon', 'population': 2331533, 'cases': {'new': None, 'active': 70, 'critical': None, 'recovered': 48674, '1M_pop': '21038', 'total': 49051}, 'deaths': {'new': None, '1M_pop': '132', 'total': 307}, 'tests': {'1M_pop': '695641', 'total': 1621909}, 'day': '2024-03-07', 'time': '2024-03-07T05:30:08+00:00'}, {'continent': 'Africa', 'country': 'Guinea', 'population': 13865691, 'cases': {'new': None, 'active': 347, 'critical': None, 'recovered': 37757, '1M_pop': '2782', 'total': 38572}, 'deaths': {'new': None, '1M_pop': '34', 'total': 468}, 'tests': {'1M_pop': '47607', 'total': 660107}, 'day': '2024-03-07', 'time': '2024-03-07T05:30:08+00:00'}, {'continent': 'Africa', 'country': 'Seychelles', 'population': 99426, 'cases': {'new': None, 'active': 0, 'critical': None, 'recovered': 51048, '1M_pop': '515157', 'total': 51220}, 'deaths': {'new': None, '1M_pop': '1730', 'total': 172}, 'tests': {'1M_pop': None, 'total': None}, 'day': '2024-03-07', 'time': '2024-03-07T05:30:08+00:00'}, {'continent': 'Africa', 'country': 'Tanzania', 'population': 63298550, 'cases': {'new': None, 'active': None, 'critical': None, 'recovered': None, '1M_pop': '683', 'total': 43223}, 'deaths': {'new': None, '1M_pop': '13', 'total': 846}, 'tests': {'1M_pop': None, 'total': None}, 'day': '2024-03-07', 'time': '2024-03-07T05:30:08+00:00'}, {'continent': 'Africa', 'country': 'Mali', 'population': 21473764, 'cases': {'new': None, 'active': 89, 'critical': None, 'recovered': 32332, '1M_pop': '1544', 'total': 33164}, 'deaths': {'new': None, '1M_pop': '35', 'total': 743}, 'tests': {'1M_pop': '37483', 'total': 804909}, 'day': '2024-03-07', 'time': '2024-03-07T05:30:08+00:00'}, {'continent': 'Africa', 'country': 'Eswatini', 'population': 1184817, 'cases': {'new': None, 'active': 648, 'critical': None, 'recovered': 73116, '1M_pop': '63462', 'total': 75191}, 'deaths': {'new': None, '1M_pop': '1204', 'total': 1427}, 'tests': {'1M_pop': '885119', 'total': 1048704}, 'day': '2024-03-07', 'time': '2024-03-07T05:30:08+00:00'}, {'continent': 'Africa', 'country': 'Ivory-Coast', 'population': 27742298, 'cases': {'new': None, 'active': 52, 'critical': None, 'recovered': 87497, '1M_pop': '3186', 'total': 88384}, 'deaths': {'new': None, '1M_pop': '30', 'total': 835}, 'tests': {'1M_pop': '60951', 'total': 1690934}, 'day': '2024-03-07', 'time': '2024-03-07T05:30:08+00:00'}, {'continent': 'South-America', 'country': 'Guyana', 'population': 794045, 'cases': {'new': None, 'active': 824, 'critical': None, 'recovered': 72013, '1M_pop': '93366', 'total': 74137}, 'deaths': {'new': None, '1M_pop': '1637', 'total': 1300}, 'tests': {'1M_pop': '923396', 'total': 733218}, 'day': '2024-03-07', 'time': '2024-03-07T05:30:08+00:00'}, {'continent': 'Africa', 'country': 'Senegal', 'population': 17653671, 'cases': {'new': None, 'active': 58, 'critical': None, 'recovered': 87024, '1M_pop': '5044', 'total': 89053}, 'deaths': {'new': None, '1M_pop': '112', 'total': 1971}, 'tests': {'1M_pop': '64946', 'total': 1146543}, 'day': '2024-03-07', 'time': '2024-03-07T05:30:08+00:00'}, {'continent': 'Oceania', 'country': 'French-Polynesia', 'population': 284164, 'cases': {'new': None, 'active': None, 'critical': None, 'recovered': None, '1M_pop': '278902', 'total': 79254}, 'deaths': {'new': None, '1M_pop': '2287', 'total': 650}, 'tests': {'1M_pop': None, 'total': None}, 'day': '2024-03-07', 'time': '2024-03-07T05:30:08+00:00'}, {'continent': 'Africa', 'country': 'Madagascar', 'population': 29178077, 'cases': {'new': None, 'active': 198, 'critical': None, 'recovered': 66862, '1M_pop': '2347', 'total': 68486}, 'deaths': {'new': None, '1M_pop': '49', 'total': 1426}, 'tests': {'1M_pop': '18210', 'total': 531329}, 'day': '2024-03-07', 'time': '2024-03-07T05:30:08+00:00'}, {'continent': 'North-America', 'country': 'Belize', 'population': 412190, 'cases': {'new': None, 'active': None, 'critical': None, 'recovered': None, '1M_pop': '173175', 'total': 71381}, 'deaths': {'new': None, '1M_pop': '1669', 'total': 688}, 'tests': {'1M_pop': '1397453', 'total': 576016}, 'day': '2024-03-07', 'time': '2024-03-07T05:30:08+00:00'}, {'continent': 'Africa', 'country': 'Lesotho', 'population': 2175699, 'cases': {'new': None, 'active': 9435, 'critical': None, 'recovered': 25980, '1M_pop': '16610', 'total': 36138}, 'deaths': {'new': None, '1M_pop': '332', 'total': 723}, 'tests': {'1M_pop': '198199', 'total': 431221}, 'day': '2024-03-07', 'time': '2024-03-07T05:30:08+00:00'}, {'continent': 'North-America', 'country': 'Haiti', 'population': 11680283, 'cases': {'new': None, 'active': 73, 'critical': None, 'recovered': 33734, '1M_pop': '2968', 'total': 34667}, 'deaths': {'new': None, '1M_pop': '74', 'total': 860}, 'tests': {'1M_pop': '11337', 'total': 132422}, 'day': '2024-03-07', 'time': '2024-03-07T05:30:08+00:00'}, {'continent': 'Africa', 'country': 'Malawi', 'population': 20180839, 'cases': {'new': None, 'active': None, 'critical': None, 'recovered': None, '1M_pop': '4437', 'total': 89535}, 'deaths': {'new': None, '1M_pop': '133', 'total': 2686}, 'tests': {'1M_pop': '30959', 'total': 624784}, 'day': '2024-03-07', 'time': '2024-03-07T05:30:08+00:00'}, {'continent': 'Africa', 'country': 'Mauritania', 'population': 4901981, 'cases': {'new': None, 'active': 371, 'critical': None, 'recovered': 62471, '1M_pop': '13023', 'total': 63839}, 'deaths': {'new': None, '1M_pop': '203', 'total': 997}, 'tests': {'1M_pop': '206030', 'total': 1009957}, 'day': '2024-03-07', 'time': '2024-03-07T05:30:08+00:00'}, {'continent': 'Africa', 'country': 'Togo', 'population': 8680837, 'cases': {'new': None, 'active': 2, 'critical': None, 'recovered': 39277, '1M_pop': '4558', 'total': 39569}, 'deaths': {'new': None, '1M_pop': '33', 'total': 290}, 'tests': {'1M_pop': '93895', 'total': 815088}, 'day': '2024-03-07', 'time': '2024-03-07T05:30:08+00:00'}, {'continent': 'South-America', 'country': 'French-Guiana', 'population': 314169, 'cases': {'new': '+13', 'active': 86367, 'critical': 6, 'recovered': 11254, '1M_pop': '312065', 'total': 98041}, 'deaths': {'new': None, '1M_pop': '1337', 'total': 420}, 'tests': {'1M_pop': '2072951', 'total': 651257}, 'day': '2024-03-07', 'time': '2024-03-07T05:30:07+00:00'}, {'continent': 'Europe', 'country': 'Channel-Islands', 'population': 176463, 'cases': {'new': '+91', 'active': 168, 'critical': None, 'recovered': 101321, '1M_pop': '576421', 'total': 101717}, 'deaths': {'new': None, '1M_pop': '1292', 'total': 228}, 'tests': {'1M_pop': '7099551', 'total': 1252808}, 'day': '2024-03-07', 'time': '2024-03-07T05:30:07+00:00'}, {'continent': 'Asia', 'country': 'Uzbekistan', 'population': 34382084, 'cases': {'new': '+136', 'active': 10539, 'critical': 23, 'recovered': 241486, '1M_pop': '7378', 'total': 253662}, 'deaths': {'new': None, '1M_pop': '48', 'total': 1637}, 'tests': {'1M_pop': '40077', 'total': 1377915}, 'day': '2024-03-07', 'time': '2024-03-07T05:30:07+00:00'}, {'continent': 'Asia', 'country': 'Kyrgyzstan', 'population': 6728271, 'cases': {'new': '+7', 'active': 7500, 'critical': 131, 'recovered': 196406, '1M_pop': '30750', 'total': 206897}, 'deaths': {'new': None, '1M_pop': '445', 'total': 2991}, 'tests': {'1M_pop': '283460', 'total': 1907195}, 'day': '2024-03-07', 'time': '2024-03-07T05:30:07+00:00'}, {'continent': 'Asia', 'country': 'Maldives', 'population': 540985, 'cases': {'new': None, 'active': 22691, 'critical': 25, 'recovered': 163687, '1M_pop': '345100', 'total': 186694}, 'deaths': {'new': None, '1M_pop': '584', 'total': 316}, 'tests': {'1M_pop': '4092223', 'total': 2213831}, 'day': '2024-03-07', 'time': '2024-03-07T05:30:07+00:00'}, {'continent': 'Africa', 'country': 'Rwanda', 'population': 13600464, 'cases': {'new': None, 'active': 11, 'critical': None, 'recovered': 132039, '1M_pop': '9817', 'total': 133518}, 'deaths': {'new': None, '1M_pop': '108', 'total': 1468}, 'tests': {'1M_pop': '442778', 'total': 6021981}, 'day': '2024-03-07', 'time': '2024-03-07T05:30:07+00:00'}, {'continent': 'Africa', 'country': 'Kenya', 'population': 56215221, 'cases': {'new': None, 'active': 1132, 'critical': None, 'recovered': 337309, '1M_pop': '6122', 'total': 344130}, 'deaths': {'new': None, '1M_pop': '101', 'total': 5689}, 'tests': {'1M_pop': '70569', 'total': 3967062}, 'day': '2024-03-07', 'time': '2024-03-07T05:30:07+00:00'}, {'continent': 'North-America', 'country': 'Trinidad-and-Tobago', 'population': 1406585, 'cases': {'new': None, 'active': 28, 'critical': None, 'recovered': 187078, '1M_pop': '136143', 'total': 191496}, 'deaths': {'new': None, '1M_pop': '3121', 'total': 4390}, 'tests': {'1M_pop': '649295', 'total': 913289}, 'day': '2024-03-07', 'time': '2024-03-07T05:30:07+00:00'}, {'continent': 'Africa', 'country': 'Uganda', 'population': 48432863, 'cases': {'new': None, 'active': 67920, 'critical': None, 'recovered': 100431, '1M_pop': '3551', 'total': 171983}, 'deaths': {'new': None, '1M_pop': '75', 'total': 3632}, 'tests': {'1M_pop': '62198', 'total': 3012408}, 'day': '2024-03-07', 'time': '2024-03-07T05:30:07+00:00'}, {'continent': 'North-America', 'country': 'Martinique', 'population': 374087, 'cases': {'new': None, 'active': None, 'critical': None, 'recovered': None, '1M_pop': '615777', 'total': 230354}, 'deaths': {'new': None, '1M_pop': '2946', 'total': 1102}, 'tests': {'1M_pop': '2215870', 'total': 828928}, 'day': '2024-03-07', 'time': '2024-03-07T05:30:07+00:00'}, {'continent': 'North-America', 'country': 'Guadeloupe', 'population': 399794, 'cases': {'new': None, 'active': None, 'critical': None, 'recovered': None, '1M_pop': '508349', 'total': 203235}, 'deaths': {'new': None, '1M_pop': '2554', 'total': 1021}, 'tests': {'1M_pop': '2346306', 'total': 938039}, 'day': '2024-03-07', 'time': '2024-03-07T05:30:07+00:00'}, {'continent': 'Africa', 'country': 'Algeria', 'population': 45350148, 'cases': {'new': None, 'active': 82068, 'critical': None, 'recovered': 183061, '1M_pop': '5998', 'total': 272010}, 'deaths': {'new': None, '1M_pop': '152', 'total': 6881}, 'tests': {'1M_pop': '5093', 'total': 230960}, 'day': '2024-03-07', 'time': '2024-03-07T05:30:07+00:00'}, {'continent': 'Africa', 'country': 'Mozambique', 'population': 33089461, 'cases': {'new': None, 'active': 2676, 'critical': 11, 'recovered': 228805, '1M_pop': '7064', 'total': 233731}, 'deaths': {'new': None, '1M_pop': '68', 'total': 2250}, 'tests': {'1M_pop': '41437', 'total': 1371127}, 'day': '2024-03-07', 'time': '2024-03-07T05:30:07+00:00'}, {'continent': 'Africa', 'country': 'Zambia', 'population': 19470234, 'cases': {'new': None, 'active': 3919, 'critical': None, 'recovered': 341316, '1M_pop': '17940', 'total': 349304}, 'deaths': {'new': None, '1M_pop': '209', 'total': 4069}, 'tests': {'1M_pop': '211244', 'total': 4112961}, 'day': '2024-03-07', 'time': '2024-03-07T05:30:07+00:00'}, {'continent': 'Africa', 'country': 'Ghana', 'population': 32395450, 'cases': {'new': None, 'active': 2, 'critical': None, 'recovered': 170425, '1M_pop': '5306', 'total': 171889}, 'deaths': {'new': None, '1M_pop': '45', 'total': 1462}, 'tests': {'1M_pop': '78456', 'total': 2541625}, 'day': '2024-03-07', 'time': '2024-03-07T05:30:07+00:00'}, {'continent': 'Africa', 'country': 'DRC', 'population': 95240792, 'cases': {'new': None, 'active': 13381, 'critical': None, 'recovered': 84489, '1M_pop': '1043', 'total': 99338}, 'deaths': {'new': None, '1M_pop': '15', 'total': 1468}, 'tests': {'1M_pop': '8890', 'total': 846704}, 'day': '2024-03-07', 'time': '2024-03-07T05:30:07+00:00'}, {'continent': 'North-America', 'country': 'El-Salvador', 'population': 6550389, 'cases': {'new': None, 'active': 18215, 'critical': None, 'recovered': 179410, '1M_pop': '30816', 'total': 201855}, 'deaths': {'new': None, '1M_pop': '646', 'total': 4230}, 'tests': {'1M_pop': '398467', 'total': 2610114}, 'day': '2024-03-07', 'time': '2024-03-07T05:30:07+00:00'}, {'continent': 'Africa', 'country': 'Botswana', 'population': 2441162, 'cases': {'new': None, 'active': 592, 'critical': 1, 'recovered': 327049, '1M_pop': '135363', 'total': 330442}, 'deaths': {'new': None, '1M_pop': '1147', 'total': 2801}, 'tests': {'1M_pop': '830300', 'total': 2026898}, 'day': '2024-03-07', 'time': '2024-03-07T05:30:07+00:00'}, {'continent': 'Europe', 'country': 'Albania', 'population': 2866374, 'cases': {'new': None, 'active': 1025, 'critical': None, 'recovered': 330233, '1M_pop': '116825', 'total': 334863}, 'deaths': {'new': None, '1M_pop': '1258', 'total': 3605}, 'tests': {'1M_pop': '677173', 'total': 1941032}, 'day': '2024-03-07', 'time': '2024-03-07T05:30:07+00:00'}, {'continent': 'Africa', 'country': 'Namibia', 'population': 2633874, 'cases': {'new': None, 'active': 1078, 'critical': None, 'recovered': 167099, '1M_pop': '65409', 'total': 172280}, 'deaths': {'new': None, '1M_pop': '1558', 'total': 4103}, 'tests': {'1M_pop': '403460', 'total': 1062663}, 'day': '2024-03-07', 'time': '2024-03-07T05:30:07+00:00'}, {'continent': 'Africa', 'country': 'Nigeria', 'population': 216746934, 'cases': {'new': None, 'active': 4080, 'critical': 11, 'recovered': 259953, '1M_pop': '1233', 'total': 267188}, 'deaths': {'new': None, '1M_pop': '15', 'total': 3155}, 'tests': {'1M_pop': '26339', 'total': 5708974}, 'day': '2024-03-07', 'time': '2024-03-07T05:30:07+00:00'}, {'continent': 'North-America', 'country': 'Barbados', 'population': 288023, 'cases': {'new': None, 'active': 1280, 'critical': None, 'recovered': 108647, '1M_pop': '383910', 'total': 110575}, 'deaths': {'new': None, '1M_pop': '2250', 'total': 648}, 'tests': {'1M_pop': '2826715', 'total': 814159}, 'day': '2024-03-07', 'time': '2024-03-07T05:30:07+00:00'}, {'continent': 'Africa', 'country': 'Cameroon', 'population': 27911548, 'cases': {'new': None, 'active': 125, 'critical': None, 'recovered': 123280, '1M_pop': '4492', 'total': 125379}, 'deaths': {'new': None, '1M_pop': '71', 'total': 1974}, 'tests': {'1M_pop': '62762', 'total': 1751774}, 'day': '2024-03-07', 'time': '2024-03-07T05:30:07+00:00'}, {'continent': 'Africa', 'country': 'Angola', 'population': 35027343, 'cases': {'new': None, 'active': 1967, 'critical': None, 'recovered': 103419, '1M_pop': '3064', 'total': 107323}, 'deaths': {'new': None, '1M_pop': '55', 'total': 1937}, 'tests': {'1M_pop': '42818', 'total': 1499795}, 'day': '2024-03-07', 'time': '2024-03-07T05:30:07+00:00'}, {'continent': 'Asia', 'country': 'Brunei', 'population': 445431, 'cases': {'new': None, 'active': 99249, 'critical': 3, 'recovered': 243601, '1M_pop': '770209', 'total': 343075}, 'deaths': {'new': None, '1M_pop': '505', 'total': 225}, 'tests': {'1M_pop': '1611437', 'total': 717784}, 'day': '2024-03-07', 'time': '2024-03-07T05:30:07+00:00'}, {'continent': 'Europe', 'country': 'Iceland', 'population': 345393, 'cases': {'new': None, 'active': None, 'critical': None, 'recovered': None, '1M_pop': '607682', 'total': 209889}, 'deaths': {'new': None, '1M_pop': '663', 'total': 229}, 'tests': {'1M_pop': '5780036', 'total': 1996384}, 'day': '2024-03-07', 'time': '2024-03-07T05:30:07+00:00'}, {'continent': 'Europe', 'country': 'North-Macedonia', 'population': 2081304, 'cases': {'new': None, 'active': 3481, 'critical': None, 'recovered': 337068, '1M_pop': '168414', 'total': 350520}, 'deaths': {'new': None, '1M_pop': '4791', 'total': 9971}, 'tests': {'1M_pop': '1069626', 'total': 2226216}, 'day': '2024-03-07', 'time': '2024-03-07T05:30:07+00:00'}, {'continent': 'Africa', 'country': 'Zimbabwe', 'population': 15331428, 'cases': {'new': None, 'active': 1703, 'critical': 12, 'recovered': 258888, '1M_pop': '17371', 'total': 266328}, 'deaths': {'new': None, '1M_pop': '374', 'total': 5737}, 'tests': {'1M_pop': '164744', 'total': 2525756}, 'day': '2024-03-07', 'time': '2024-03-07T05:30:07+00:00'}, {'continent': 'North-America', 'country': 'Jamaica', 'population': 2985094, 'cases': {'new': None, 'active': None, 'critical': None, 'recovered': None, '1M_pop': '52547', 'total': 156857}, 'deaths': {'new': None, '1M_pop': '1256', 'total': 3748}, 'tests': {'1M_pop': '396633', 'total': 1183986}, 'day': '2024-03-07', 'time': '2024-03-07T05:30:07+00:00'}, {'continent': 'Europe', 'country': 'Montenegro', 'population': 627950, 'cases': {'new': None, 'active': 1852, 'critical': None, 'recovered': 291794, '1M_pop': '472159', 'total': 296492}, 'deaths': {'new': None, '1M_pop': '4532', 'total': 2846}, 'tests': {'1M_pop': '4410034', 'total': 2769281}, 'day': '2024-03-07', 'time': '2024-03-07T05:30:07+00:00'}, {'continent': 'Asia', 'country': 'Cambodia', 'population': 17168639, 'cases': {'new': '+1', 'active': 2, 'critical': None, 'recovered': 136037, '1M_pop': '8102', 'total': 139095}, 'deaths': {'new': None, '1M_pop': '178', 'total': 3056}, 'tests': {'1M_pop': '180062', 'total': 3091420}, 'day': '2024-03-07', 'time': '2024-03-07T05:30:07+00:00'}, {'continent': 'Asia', 'country': 'Afghanistan', 'population': 40754388, 'cases': {'new': '+1', 'active': 13921, 'critical': None, 'recovered': 210069, '1M_pop': '5692', 'total': 231975}, 'deaths': {'new': None, '1M_pop': '196', 'total': 7985}, 'tests': {'1M_pop': '33468', 'total': 1363981}, 'day': '2024-03-07', 'time': '2024-03-07T05:30:07+00:00'}, {'continent': 'Europe', 'country': 'Luxembourg', 'population': 642371, 'cases': {'new': None, 'active': None, 'critical': None, 'recovered': None, '1M_pop': '608865', 'total': 391117}, 'deaths': {'new': None, '1M_pop': '1918', 'total': 1232}, 'tests': {'1M_pop': '7140959', 'total': 4587145}, 'day': '2024-03-07', 'time': '2024-03-07T05:30:07+00:00'}, {'continent': 'Europe', 'country': 'Malta', 'population': 444033, 'cases': {'new': '+5', 'active': 392, 'critical': None, 'recovered': 120133, '1M_pop': '273426', 'total': 121410}, 'deaths': {'new': '+2', '1M_pop': '1993', 'total': 885}, 'tests': {'1M_pop': '4884297', 'total': 2168789}, 'day': '2024-03-07', 'time': '2024-03-07T05:30:07+00:00'}, {'continent': 'Asia', 'country': 'Laos', 'population': 7481023, 'cases': {'new': '+1', 'active': None, 'critical': None, 'recovered': None, '1M_pop': '29268', 'total': 218951}, 'deaths': {'new': None, '1M_pop': '101', 'total': 758}, 'tests': {'1M_pop': '164845', 'total': 1233207}, 'day': '2024-03-07', 'time': '2024-03-07T05:30:07+00:00'}, {'continent': 'Europe', 'country': 'Belarus', 'population': 9432800, 'cases': {'new': None, 'active': 1327, 'critical': None, 'recovered': 985592, '1M_pop': '105381', 'total': 994037}, 'deaths': {'new': None, '1M_pop': '755', 'total': 7118}, 'tests': {'1M_pop': '1446722', 'total': 13646641}, 'day': '2024-03-07', 'time': '2024-03-07T05:30:06+00:00'}, {'continent': 'South-America', 'country': 'Venezuela', 'population': 29266991, 'cases': {'new': '+10', 'active': 302, 'critical': 31, 'recovered': 546537, '1M_pop': '18885', 'total': 552695}, 'deaths': {'new': None, '1M_pop': '200', 'total': 5856}, 'tests': {'1M_pop': '114771', 'total': 3359014}, 'day': '2024-03-07', 'time': '2024-03-07T05:30:06+00:00'}, {'continent': 'Africa', 'country': 'Egypt', 'population': 106156692, 'cases': {'new': None, 'active': 49228, 'critical': 122, 'recovered': 442182, '1M_pop': '4861', 'total': 516023}, 'deaths': {'new': None, '1M_pop': '232', 'total': 24613}, 'tests': {'1M_pop': '34792', 'total': 3693367}, 'day': '2024-03-07', 'time': '2024-03-07T05:30:06+00:00'}, {'continent': 'Asia', 'country': 'Qatar', 'population': 2979915, 'cases': {'new': '+28', 'active': 147, 'critical': 16, 'recovered': 513687, '1M_pop': '172664', 'total': 514524}, 'deaths': {'new': None, '1M_pop': '232', 'total': 690}, 'tests': {'1M_pop': '1364257', 'total': 4065369}, 'day': '2024-03-07', 'time': '2024-03-07T05:30:06+00:00'}, {'continent': 'Africa', 'country': 'Libya', 'population': 7040745, 'cases': {'new': '+4', 'active': 2, 'critical': None, 'recovered': 500835, '1M_pop': '72048', 'total': 507274}, 'deaths': {'new': None, '1M_pop': '914', 'total': 6437}, 'tests': {'1M_pop': '352782', 'total': 2483848}, 'day': '2024-03-07', 'time': '2024-03-07T05:30:06+00:00'}, {'continent': 'Asia', 'country': 'Nepal', 'population': 30225582, 'cases': {'new': None, 'active': 97, 'critical': None, 'recovered': 991322, '1M_pop': '33199', 'total': 1003450}, 'deaths': {'new': None, '1M_pop': '398', 'total': 12031}, 'tests': {'1M_pop': '200088', 'total': 6047766}, 'day': '2024-03-07', 'time': '2024-03-07T05:30:06+00:00'}, {'continent': 'North-America', 'country': 'Costa-Rica', 'population': 5182354, 'cases': {'new': None, 'active': None, 'critical': None, 'recovered': None, '1M_pop': '239058', 'total': 1238883}, 'deaths': {'new': None, '1M_pop': '1819', 'total': 9428}, 'tests': {'1M_pop': '899158', 'total': 4659757}, 'day': '2024-03-07', 'time': '2024-03-07T05:30:06+00:00'}, {'continent': 'Africa', 'country': 'Tunisia', 'population': 12046656, 'cases': {'new': None, 'active': None, 'critical': None, 'recovered': None, '1M_pop': '95741', 'total': 1153361}, 'deaths': {'new': None, '1M_pop': '2442', 'total': 29423}, 'tests': {'1M_pop': '416164', 'total': 5013383}, 'day': '2024-03-07', 'time': '2024-03-07T05:30:06+00:00'}, {'continent': 'Asia', 'country': 'Saudi-Arabia', 'population': 35844909, 'cases': {'new': None, 'active': None, 'critical': None, 'recovered': None, '1M_pop': '23475', 'total': 841469}, 'deaths': {'new': None, '1M_pop': '269', 'total': 9646}, 'tests': {'1M_pop': '1268848', 'total': 45481735}, 'day': '2024-03-07', 'time': '2024-03-07T05:30:06+00:00'}, {'continent': 'Asia', 'country': 'Palestine', 'population': 5345541, 'cases': {'new': None, 'active': 159, 'critical': None, 'recovered': 615445, '1M_pop': '116173', 'total': 621008}, 'deaths': {'new': None, '1M_pop': '1011', 'total': 5404}, 'tests': {'1M_pop': '575907', 'total': 3078533}, 'day': '2024-03-07', 'time': '2024-03-07T05:30:06+00:00'}, {'continent': 'Asia', 'country': 'Oman', 'population': 5323993, 'cases': {'new': None, 'active': None, 'critical': None, 'recovered': None, '1M_pop': '75028', 'total': 399449}, 'deaths': {'new': None, '1M_pop': '869', 'total': 4628}, 'tests': {'1M_pop': '4695724', 'total': 25000000}, 'day': '2024-03-07', 'time': '2024-03-07T05:30:06+00:00'}, {'continent': 'North-America', 'country': 'Honduras', 'population': 10221247, 'cases': {'new': None, 'active': None, 'critical': None, 'recovered': None, '1M_pop': '46432', 'total': 474590}, 'deaths': {'new': None, '1M_pop': '1092', 'total': 11165}, 'tests': {'1M_pop': '162472', 'total': 1660662}, 'day': '2024-03-07', 'time': '2024-03-07T05:30:06+00:00'}, {'continent': 'Asia', 'country': 'UAE', 'population': 10081785, 'cases': {'new': None, 'active': None, 'critical': None, 'recovered': None, '1M_pop': '105837', 'total': 1067030}, 'deaths': {'new': None, '1M_pop': '233', 'total': 2349}, 'tests': {'1M_pop': '19910389', 'total': 200732262}, 'day': '2024-03-07', 'time': '2024-03-07T05:30:06+00:00'}, {'continent': 'Asia', 'country': 'Bahrain', 'population': 1783983, 'cases': {'new': None, 'active': 60, 'critical': None, 'recovered': 727915, '1M_pop': '408944', 'total': 729549}, 'deaths': {'new': None, '1M_pop': '882', 'total': 1574}, 'tests': {'1M_pop': '6137138', 'total': 10948549}, 'day': '2024-03-07', 'time': '2024-03-07T05:30:06+00:00'}, {'continent': 'Africa', 'country': 'R&eacute;union', 'population': 908061, 'cases': {'new': None, 'active': None, 'critical': None, 'recovered': None, '1M_pop': '544672', 'total': 494595}, 'deaths': {'new': None, '1M_pop': '1014', 'total': 921}, 'tests': {'1M_pop': '1766027', 'total': 1603660}, 'day': '2024-03-07', 'time': '2024-03-07T05:30:06+00:00'}, {'continent': 'Africa', 'country': 'Ethiopia', 'population': 120812698, 'cases': {'new': None, 'active': 5372, 'critical': None, 'recovered': 488171, '1M_pop': '4148', 'total': 501117}, 'deaths': {'new': None, '1M_pop': '63', 'total': 7574}, 'tests': {'1M_pop': '46066', 'total': 5565340}, 'day': '2024-03-07', 'time': '2024-03-07T05:30:06+00:00'}, {'continent': 'South-America', 'country': 'Uruguay', 'population': 3496016, 'cases': {'new': None, 'active': 2503, 'critical': 18, 'recovered': 1030944, '1M_pop': '297799', 'total': 1041111}, 'deaths': {'new': None, '1M_pop': '2192', 'total': 7664}, 'tests': {'1M_pop': '1749083', 'total': 6114822}, 'day': '2024-03-07', 'time': '2024-03-07T05:30:06+00:00'}, {'continent': 'South-America', 'country': 'Bolivia', 'population': 11992656, 'cases': {'new': None, 'active': 12164, 'critical': 220, 'recovered': 1177145, '1M_pop': '101038', 'total': 1211716}, 'deaths': {'new': None, '1M_pop': '1868', 'total': 22407}, 'tests': {'1M_pop': '225993', 'total': 2710261}, 'day': '2024-03-07', 'time': '2024-03-07T05:30:06+00:00'}, {'continent': 'Asia', 'country': 'Armenia', 'population': 2971966, 'cases': {'new': None, 'active': 7488, 'critical': None, 'recovered': 435162, '1M_pop': '151895', 'total': 451426}, 'deaths': {'new': None, '1M_pop': '2953', 'total': 8776}, 'tests': {'1M_pop': '1091164', 'total': 3242901}, 'day': '2024-03-07', 'time': '2024-03-07T05:30:06+00:00'}, {'continent': 'Asia', 'country': 'Cyprus', 'population': 1223387, 'cases': {'new': None, 'active': 0, 'critical': None, 'recovered': 679745, '1M_pop': '556741', 'total': 681110}, 'deaths': {'new': None, '1M_pop': '1116', 'total': 1365}, 'tests': {'1M_pop': '7879860', 'total': 9640118}, 'day': '2024-03-07', 'time': '2024-03-07T05:30:06+00:00'}, {'continent': 'South-America', 'country': 'Ecuador', 'population': 18113361, 'cases': {'new': None, 'active': 0, 'critical': None, 'recovered': 1034145, '1M_pop': '59083', 'total': 1070188}, 'deaths': {'new': None, '1M_pop': '1990', 'total': 36043}, 'tests': {'1M_pop': '170173', 'total': 3082403}, 'day': '2024-03-07', 'time': '2024-03-07T05:30:06+00:00'}, {'continent': 'North-America', 'country': 'Dominican-Republic', 'population': 11056370, 'cases': {'new': None, 'active': 190, 'critical': 4, 'recovered': 671316, '1M_pop': '61131', 'total': 675890}, 'deaths': {'new': None, '1M_pop': '397', 'total': 4384}, 'tests': {'1M_pop': '338350', 'total': 3740928}, 'day': '2024-03-07', 'time': '2024-03-07T05:30:06+00:00'}, {'continent': 'South-America', 'country': 'Paraguay', 'population': 7305843, 'cases': {'new': None, 'active': None, 'critical': None, 'recovered': None, '1M_pop': '114648', 'total': 837602}, 'deaths': {'new': None, '1M_pop': '2759', 'total': 20155}, 'tests': {'1M_pop': '363751', 'total': 2657506}, 'day': '2024-03-07', 'time': '2024-03-07T05:30:06+00:00'}, {'continent': 'Asia', 'country': 'Azerbaijan', 'population': 10300205, 'cases': {'new': None, 'active': 160, 'critical': None, 'recovered': 824089, '1M_pop': '81032', 'total': 834649}, 'deaths': {'new': None, '1M_pop': '1010', 'total': 10400}, 'tests': {'1M_pop': '752223', 'total': 7748050}, 'day': '2024-03-07', 'time': '2024-03-07T05:30:06+00:00'}, {'continent': 'Europe', 'country': 'Bosnia-and-Herzegovina', 'population': 3249317, 'cases': {'new': None, 'active': 8116, 'critical': None, 'recovered': 379084, '1M_pop': '124206', 'total': 403585}, 'deaths': {'new': None, '1M_pop': '5043', 'total': 16385}, 'tests': {'1M_pop': '580036', 'total': 1884721}, 'day': '2024-03-07', 'time': '2024-03-07T05:30:06+00:00'}, {'continent': 'Asia', 'country': 'Kuwait', 'population': 4380326, 'cases': {'new': None, 'active': None, 'critical': None, 'recovered': None, '1M_pop': '152293', 'total': 667094}, 'deaths': {'new': None, '1M_pop': '587', 'total': 2570}, 'tests': {'1M_pop': '1930391', 'total': 8455743}, 'day': '2024-03-07', 'time': '2024-03-07T05:30:06+00:00'}, {'continent': 'Europe', 'country': 'Moldova', 'population': 4013171, 'cases': {'new': None, 'active': None, 'critical': None, 'recovered': None, '1M_pop': '158106', 'total': 634508}, 'deaths': {'new': None, '1M_pop': '3041', 'total': 12206}, 'tests': {'1M_pop': '801437', 'total': 3216305}, 'day': '2024-03-07', 'time': '2024-03-07T05:30:06+00:00'}, {'continent': 'Europe', 'country': 'Estonia', 'population': 1321910, 'cases': {'new': '+77', 'active': None, 'critical': None, 'recovered': None, '1M_pop': '474934', 'total': 627820}, 'deaths': {'new': None, '1M_pop': '2270', 'total': 3001}, 'tests': {'1M_pop': '5253498', 'total': 6944652}, 'day': '2024-03-07', 'time': '2024-03-07T05:30:06+00:00'}, {'continent': 'Asia', 'country': 'Mongolia', 'population': 3378078, 'cases': {'new': None, 'active': 0, 'critical': None, 'recovered': 1009175, '1M_pop': '299418', 'total': 1011459}, 'deaths': {'new': None, '1M_pop': '676', 'total': 2284}, 'tests': {'1M_pop': '1193000', 'total': 4030048}, 'day': '2024-03-07', 'time': '2024-03-07T05:30:06+00:00'}, {'continent': 'Europe', 'country': 'Latvia', 'population': 1848837, 'cases': {'new': None, 'active': 4188, 'critical': None, 'recovered': 971406, '1M_pop': '531296', 'total': 982280}, 'deaths': {'new': None, '1M_pop': '3616', 'total': 6686}, 'tests': {'1M_pop': '4265272', 'total': 7885792}, 'day': '2024-03-07', 'time': '2024-03-07T05:30:06+00:00'}, {'continent': 'North-America', 'country': 'Cuba', 'population': 11305652, 'cases': {'new': None, 'active': 66, 'critical': None, 'recovered': 1106647, '1M_pop': '98645', 'total': 1115243}, 'deaths': {'new': None, '1M_pop': '754', 'total': 8530}, 'tests': {'1M_pop': '1273801', 'total': 14401151}, 'day': '2024-03-07', 'time': '2024-03-07T05:30:06+00:00'}, {'continent': 'Asia', 'country': 'Sri-Lanka', 'population': 21575842, 'cases': {'new': None, 'active': 1, 'critical': None, 'recovered': 655852, '1M_pop': '31181', 'total': 672750}, 'deaths': {'new': None, '1M_pop': '783', 'total': 16897}, 'tests': {'1M_pop': '300619', 'total': 6486117}, 'day': '2024-03-07', 'time': '2024-03-07T05:30:06+00:00'}, {'continent': 'Asia', 'country': 'Myanmar', 'population': 55227143, 'cases': {'new': '+31', 'active': 2147, 'critical': None, 'recovered': 620159, '1M_pop': '11621', 'total': 641801}, 'deaths': {'new': None, '1M_pop': '353', 'total': 19495}, 'tests': {'1M_pop': '211352', 'total': 11672345}, 'day': '2024-03-07', 'time': '2024-03-07T05:30:06+00:00'}, {'continent': 'North-America', 'country': 'Panama', 'population': 4446964, 'cases': {'new': None, 'active': 64, 'critical': 16, 'recovered': 1051102, '1M_pop': '238341', 'total': 1059893}, 'deaths': {'new': None, '1M_pop': '1962', 'total': 8727}, 'tests': {'1M_pop': '1772585', 'total': 7882622}, 'day': '2024-03-07', 'time': '2024-03-07T05:30:06+00:00'}, {'continent': 'Asia', 'country': 'DPRK', 'population': 25990679, 'cases': {'new': None, 'active': 0, 'critical': None, 'recovered': 4772739, '1M_pop': '183636', 'total': 4772813}, 'deaths': {'new': None, '1M_pop': '3', 'total': 74}, 'tests': {'1M_pop': None, 'total': None}, 'day': '2024-03-07', 'time': '2024-03-07T05:30:05+00:00'}, {'continent': 'Asia', 'country': 'Jordan', 'population': 10300869, 'cases': {'new': None, 'active': 1868, 'critical': 59, 'recovered': 1731007, '1M_pop': '169597', 'total': 1746997}, 'deaths': {'new': None, '1M_pop': '1371', 'total': 14122}, 'tests': {'1M_pop': '1669945', 'total': 17201885}, 'day': '2024-03-07', 'time': '2024-03-07T05:30:05+00:00'}, {'continent': 'Africa', 'country': 'South-Africa', 'population': 60756135, 'cases': {'new': '+614', 'active': 61362, 'critical': 192, 'recovered': 3912506, '1M_pop': '67095', 'total': 4076463}, 'deaths': {'new': None, '1M_pop': '1689', 'total': 102595}, 'tests': {'1M_pop': '441027', 'total': 26795090}, 'day': '2024-03-07', 'time': '2024-03-07T05:30:05+00:00'}, {'continent': 'Asia', 'country': 'Kazakhstan', 'population': 19205043, 'cases': {'new': '+63', 'active': 14963, 'critical': 24, 'recovered': 1383020, '1M_pop': '73514', 'total': 1411831}, 'deaths': {'new': None, '1M_pop': '721', 'total': 13848}, 'tests': {'1M_pop': '602707', 'total': 11575012}, 'day': '2024-03-07', 'time': '2024-03-07T05:30:05+00:00'}, {'continent': 'Asia', 'country': 'Lebanon', 'population': 6684849, 'cases': {'new': '+3934', 'active': 145299, 'critical': 74, 'recovered': 1087587, '1M_pop': '186068', 'total': 1243838}, 'deaths': {'new': '+5', '1M_pop': '1638', 'total': 10952}, 'tests': {'1M_pop': '717380', 'total': 4795578}, 'day': '2024-03-07', 'time': '2024-03-07T05:30:05+00:00'}, {'continent': 'Asia', 'country': 'Pakistan', 'population': 229488994, 'cases': {'new': None, 'active': 12583, 'critical': None, 'recovered': 1538689, '1M_pop': '6893', 'total': 1581936}, 'deaths': {'new': None, '1M_pop': '134', 'total': 30664}, 'tests': {'1M_pop': '133292', 'total': 30589153}, 'day': '2024-03-07', 'time': '2024-03-07T05:30:05+00:00'}, {'continent': 'Europe', 'country': 'Denmark', 'population': 5834950, 'cases': {'new': None, 'active': 0, 'critical': None, 'recovered': 3174942, '1M_pop': '545636', 'total': 3183756}, 'deaths': {'new': None, '1M_pop': '1511', 'total': 8814}, 'tests': {'1M_pop': '22165247', 'total': 129333107}, 'day': '2024-03-07', 'time': '2024-03-07T05:30:05+00:00'}, {'continent': 'Asia', 'country': 'Iraq', 'population': 42164965, 'cases': {'new': None, 'active': 673, 'critical': None, 'recovered': 2439497, '1M_pop': '58474', 'total': 2465545}, 'deaths': {'new': None, '1M_pop': '602', 'total': 25375}, 'tests': {'1M_pop': '463523', 'total': 19544451}, 'day': '2024-03-07', 'time': '2024-03-07T05:30:05+00:00'}, {'continent': 'Asia', 'country': 'Georgia', 'population': 3968738, 'cases': {'new': None, 'active': None, 'critical': None, 'recovered': None, '1M_pop': '467476', 'total': 1855289}, 'deaths': {'new': None, '1M_pop': '4317', 'total': 17132}, 'tests': {'1M_pop': '4263340', 'total': 16920079}, 'day': '2024-03-07', 'time': '2024-03-07T05:30:05+00:00'}, {'continent': 'Asia', 'country': 'Israel', 'population': 9326000, 'cases': {'new': None, 'active': 30592, 'critical': None, 'recovered': 4798473, '1M_pop': '519169', 'total': 4841772}, 'deaths': {'new': None, '1M_pop': '1363', 'total': 12707}, 'tests': {'1M_pop': '4436346', 'total': 41373364}, 'day': '2024-03-07', 'time': '2024-03-07T05:30:05+00:00'}, {'continent': 'Asia', 'country': 'Philippines', 'population': 112508994, 'cases': {'new': '+502', 'active': 6138, 'critical': None, 'recovered': 4067381, '1M_pop': '36800', 'total': 4140383}, 'deaths': {'new': None, '1M_pop': '594', 'total': 66864}, 'tests': {'1M_pop': '320888', 'total': 36102746}, 'day': '2024-03-07', 'time': '2024-03-07T05:30:05+00:00'}, {'continent': 'Europe', 'country': 'Croatia', 'population': 4059286, 'cases': {'new': None, 'active': 32609, 'critical': None, 'recovered': 1258432, '1M_pop': '322650', 'total': 1309728}, 'deaths': {'new': None, '1M_pop': '4604', 'total': 18687}, 'tests': {'1M_pop': '1394355', 'total': 5660084}, 'day': '2024-03-07', 'time': '2024-03-07T05:30:05+00:00'}, {'continent': 'South-America', 'country': 'Peru', 'population': 33684208, 'cases': {'new': None, 'active': 0, 'critical': 4, 'recovered': 4350506, '1M_pop': '135751', 'total': 4572667}, 'deaths': {'new': None, '1M_pop': '6595', 'total': 222161}, 'tests': {'1M_pop': '1158115', 'total': 39010194}, 'day': '2024-03-07', 'time': '2024-03-07T05:30:05+00:00'}, {'continent': 'Asia', 'country': 'Bangladesh', 'population': 167885689, 'cases': {'new': None, 'active': None, 'critical': None, 'recovered': None, '1M_pop': '12200', 'total': 2048186}, 'deaths': {'new': None, '1M_pop': '176', 'total': 29488}, 'tests': {'1M_pop': '90862', 'total': 15254399}, 'day': '2024-03-07', 'time': '2024-03-07T05:30:05+00:00'}, {'continent': 'Europe', 'country': 'Hungary', 'population': 9606259, 'cases': {'new': None, 'active': 28792, 'critical': None, 'recovered': 2152155, '1M_pop': '232139', 'total': 2229987}, 'deaths': {'new': None, '1M_pop': '5105', 'total': 49040}, 'tests': {'1M_pop': '1186160', 'total': 11394556}, 'day': '2024-03-07', 'time': '2024-03-07T05:30:05+00:00'}, {'continent': 'Africa', 'country': 'Morocco', 'population': 37772756, 'cases': {'new': None, 'active': None, 'critical': None, 'recovered': None, '1M_pop': '33859', 'total': 1278944}, 'deaths': {'new': None, '1M_pop': '432', 'total': 16301}, 'tests': {'1M_pop': '344191', 'total': 13001033}, 'day': '2024-03-07', 'time': '2024-03-07T05:30:05+00:00'}, {'continent': 'Europe', 'country': 'Slovakia', 'population': 5460193, 'cases': {'new': None, 'active': 0, 'critical': 23, 'recovered': 1856162, '1M_pop': '343831', 'total': 1877383}, 'deaths': {'new': None, '1M_pop': '3886', 'total': 21221}, 'tests': {'1M_pop': '1364199', 'total': 7448789}, 'day': '2024-03-07', 'time': '2024-03-07T05:30:05+00:00'}, {'continent': 'North-America', 'country': 'Guatemala', 'population': 18584039, 'cases': {'new': None, 'active': 2770, 'critical': 5, 'recovered': 1265533, '1M_pop': '69338', 'total': 1288588}, 'deaths': {'new': None, '1M_pop': '1092', 'total': 20285}, 'tests': {'1M_pop': '408622', 'total': 7593848}, 'day': '2024-03-07', 'time': '2024-03-07T05:30:05+00:00'}, {'continent': 'Europe', 'country': 'Ireland', 'population': 5020199, 'cases': {'new': None, 'active': 645, 'critical': 19, 'recovered': 1723629, '1M_pop': '345356', 'total': 1733755}, 'deaths': {'new': None, '1M_pop': '1889', 'total': 9481}, 'tests': {'1M_pop': '2606161', 'total': 13083449}, 'day': '2024-03-07', 'time': '2024-03-07T05:30:05+00:00'}, {'continent': 'Asia', 'country': 'Hong-Kong', 'population': 7604299, 'cases': {'new': None, 'active': 4056, 'critical': None, 'recovered': 2912233, '1M_pop': '385431', 'total': 2930929}, 'deaths': {'new': None, '1M_pop': '1925', 'total': 14640}, 'tests': {'1M_pop': '10011143', 'total': 76127725}, 'day': '2024-03-07', 'time': '2024-03-07T05:30:05+00:00'}, {'continent': 'Asia', 'country': 'Thailand', 'population': 70078203, 'cases': {'new': '+462', 'active': 40495, 'critical': None, 'recovered': 4692636, '1M_pop': '68034', 'total': 4767700}, 'deaths': {'new': '+2', '1M_pop': '493', 'total': 34569}, 'tests': {'1M_pop': '246488', 'total': 17273454}, 'day': '2024-03-07', 'time': '2024-03-07T05:30:05+00:00'}, {'continent': 'Europe', 'country': 'Switzerland', 'population': 8773637, 'cases': {'new': None, 'active': 399, 'critical': None, 'recovered': 4436934, '1M_pop': '507405', 'total': 4451785}, 'deaths': {'new': None, '1M_pop': '1647', 'total': 14452}, 'tests': {'1M_pop': '2716487', 'total': 23833472}, 'day': '2024-03-07', 'time': '2024-03-07T05:30:05+00:00'}, {'continent': 'Europe', 'country': 'Serbia', 'population': 8653016, 'cases': {'new': None, 'active': 204, 'critical': None, 'recovered': 2595987, '1M_pop': '302120', 'total': 2614248}, 'deaths': {'new': None, '1M_pop': '2087', 'total': 18057}, 'tests': {'1M_pop': '1551822', 'total': 13427937}, 'day': '2024-03-07', 'time': '2024-03-07T05:30:05+00:00'}, {'continent': 'Europe', 'country': 'Lithuania', 'population': 2661708, 'cases': {'new': '+50', 'active': 1059, 'critical': None, 'recovered': 1385831, '1M_pop': '524771', 'total': 1396787}, 'deaths': {'new': None, '1M_pop': '3718', 'total': 9897}, 'tests': {'1M_pop': '3959997', 'total': 10540357}, 'day': '2024-03-07', 'time': '2024-03-07T05:30:05+00:00'}, {'continent': 'Oceania', 'country': 'New-Zealand', 'population': 4898203, 'cases': {'new': None, 'active': 3833, 'critical': None, 'recovered': 2594775, '1M_pop': '531665', 'total': 2604202}, 'deaths': {'new': None, '1M_pop': '1142', 'total': 5594}, 'tests': {'1M_pop': '1586011', 'total': 7768604}, 'day': '2024-03-07', 'time': '2024-03-07T05:30:05+00:00'}, {'continent': 'Europe', 'country': 'Slovenia', 'population': 2078034, 'cases': {'new': '+6', 'active': 60, 'critical': None, 'recovered': 1349305, '1M_pop': '652764', 'total': 1356465}, 'deaths': {'new': None, '1M_pop': '3417', 'total': 7100}, 'tests': {'1M_pop': '1370382', 'total': 2847701}, 'day': '2024-03-07', 'time': '2024-03-07T05:30:05+00:00'}, {'continent': 'Europe', 'country': 'Bulgaria', 'population': 6844597, 'cases': {'new': '+21', 'active': 8134, 'critical': 36, 'recovered': 1292657, '1M_pop': '195706', 'total': 1339528}, 'deaths': {'new': None, '1M_pop': '5660', 'total': 38737}, 'tests': {'1M_pop': '1700164', 'total': 11636936}, 'day': '2024-03-07', 'time': '2024-03-07T05:30:05+00:00'}, {'continent': 'Europe', 'country': 'Czechia', 'population': 10736784, 'cases': {'new': '+32', 'active': 699, 'critical': 2, 'recovered': 4714474, '1M_pop': '443213', 'total': 4758683}, 'deaths': {'new': None, '1M_pop': '4052', 'total': 43510}, 'tests': {'1M_pop': '5384234', 'total': 57809354}, 'day': '2024-03-07', 'time': '2024-03-07T05:30:05+00:00'}, {'continent': 'North-America', 'country': 'Canada', 'population': 38388419, 'cases': {'new': None, 'active': 14655, 'critical': 99, 'recovered': 4863388, '1M_pop': '128596', 'total': 4936603}, 'deaths': {'new': None, '1M_pop': '1525', 'total': 58560}, 'tests': {'1M_pop': '1734189', 'total': 66572774}, 'day': '2024-03-07', 'time': '2024-03-07T05:30:05+00:00'}, {'continent': 'Europe', 'country': 'Belgium', 'population': 11668278, 'cases': {'new': None, 'active': 2176, 'critical': None, 'recovered': 4823252, '1M_pop': '416497', 'total': 4859804}, 'deaths': {'new': None, '1M_pop': '2946', 'total': 34376}, 'tests': {'1M_pop': '3209915', 'total': 37454182}, 'day': '2024-03-07', 'time': '2024-03-07T05:30:05+00:00'}, {'continent': 'Europe', 'country': 'Romania', 'population': 19031335, 'cases': {'new': None, 'active': 1604, 'critical': 42, 'recovered': 3457170, '1M_pop': '185362', 'total': 3527677}, 'deaths': {'new': None, '1M_pop': '3621', 'total': 68903}, 'tests': {'1M_pop': '1506879', 'total': 28677918}, 'day': '2024-03-07', 'time': '2024-03-07T05:30:05+00:00'}, {'continent': 'Asia', 'country': 'Singapore', 'population': 5943546, 'cases': {'new': None, 'active': 612, 'critical': 4, 'recovered': 3003519, '1M_pop': '505785', 'total': 3006155}, 'deaths': {'new': None, '1M_pop': '341', 'total': 2024}, 'tests': {'1M_pop': '4165302', 'total': 24756666}, 'day': '2024-03-07', 'time': '2024-03-07T05:30:05+00:00'}, {'continent': 'Europe', 'country': 'Sweden', 'population': 10218971, 'cases': {'new': None, 'active': 659, 'critical': None, 'recovered': 2725543, '1M_pop': '269455', 'total': 2753556}, 'deaths': {'new': None, '1M_pop': '2677', 'total': 27354}, 'tests': {'1M_pop': '1908301', 'total': 19500873}, 'day': '2024-03-07', 'time': '2024-03-07T05:30:05+00:00'}, {'continent': 'Europe', 'country': 'Finland', 'population': 5554960, 'cases': {'new': None, 'active': 443, 'critical': None, 'recovered': 1503183, '1M_pop': '272833', 'total': 1515575}, 'deaths': {'new': None, '1M_pop': '2151', 'total': 11949}, 'tests': {'1M_pop': '2179850', 'total': 12108977}, 'day': '2024-03-07', 'time': '2024-03-07T05:30:05+00:00'}, {'continent': 'Europe', 'country': 'Norway', 'population': 5511370, 'cases': {'new': None, 'active': 0, 'critical': None, 'recovered': 1503094, '1M_pop': '273930', 'total': 1509732}, 'deaths': {'new': None, '1M_pop': '1204', 'total': 6638}, 'tests': {'1M_pop': '1996315', 'total': 11002430}, 'day': '2024-03-07', 'time': '2024-03-07T05:30:05+00:00'}, {'continent': 'Europe', 'country': 'Ukraine', 'population': 43192122, 'cases': {'new': None, 'active': 0, 'critical': None, 'recovered': 5445577, '1M_pop': '128681', 'total': 5557995}, 'deaths': {'new': None, '1M_pop': '2603', 'total': 112418}, 'tests': {'1M_pop': '754855', 'total': 32603805}, 'day': '2024-03-07', 'time': '2024-03-07T05:30:04+00:00'}, {'continent': 'Europe', 'country': 'Spain', 'population': 46719142, 'cases': {'new': '+702', 'active': 30634, 'critical': 231, 'recovered': 13762417, '1M_pop': '297840', 'total': 13914811}, 'deaths': {'new': '+8', '1M_pop': '2606', 'total': 121760}, 'tests': {'1M_pop': '10082298', 'total': 471036328}, 'day': '2024-03-07', 'time': '2024-03-07T05:30:04+00:00'}, {'continent': 'Asia', 'country': 'Taiwan', 'population': 23888595, 'cases': {'new': None, 'active': 0, 'critical': None, 'recovered': 10222518, '1M_pop': '428720', 'total': 10241523}, 'deaths': {'new': None, '1M_pop': '796', 'total': 19005}, 'tests': {'1M_pop': '1286903', 'total': 30742304}, 'day': '2024-03-07', 'time': '2024-03-07T05:30:04+00:00'}, {'continent': 'Asia', 'country': 'Japan', 'population': 125584838, 'cases': {'new': None, 'active': None, 'critical': None, 'recovered': None, '1M_pop': '269169', 'total': 33803572}, 'deaths': {'new': None, '1M_pop': '595', 'total': 74694}, 'tests': {'1M_pop': '799578', 'total': 100414883}, 'day': '2024-03-07', 'time': '2024-03-07T05:30:04+00:00'}, {'continent': 'Europe', 'country': 'Austria', 'population': 9066710, 'cases': {'new': None, 'active': 3811, 'critical': None, 'recovered': 6054934, '1M_pop': '670727', 'total': 6081287}, 'deaths': {'new': None, '1M_pop': '2486', 'total': 22542}, 'tests': {'1M_pop': '23302116', 'total': 211273524}, 'day': '2024-03-07', 'time': '2024-03-07T05:30:04+00:00'}, {'continent': 'Europe', 'country': 'France', 'population': 65584518, 'cases': {'new': None, 'active': 0, 'critical': None, 'recovered': 39970918, '1M_pop': '612013', 'total': 40138560}, 'deaths': {'new': None, '1M_pop': '2556', 'total': 167642}, 'tests': {'1M_pop': '4139547', 'total': 271490188}, 'day': '2024-03-07', 'time': '2024-03-07T05:30:04+00:00'}, {'continent': 'Asia', 'country': 'S-Korea', 'population': 51329899, 'cases': {'new': None, 'active': 0, 'critical': None, 'recovered': 34535939, '1M_pop': '673523', 'total': 34571873}, 'deaths': {'new': None, '1M_pop': '700', 'total': 35934}, 'tests': {'1M_pop': '307892', 'total': 15804065}, 'day': '2024-03-07', 'time': '2024-03-07T05:30:04+00:00'}, {'continent': 'Asia', 'country': 'Turkey', 'population': 85561976, 'cases': {'new': None, 'active': None, 'critical': None, 'recovered': None, '1M_pop': '201399', 'total': 17232066}, 'deaths': {'new': None, '1M_pop': '1194', 'total': 102174}, 'tests': {'1M_pop': '1902052', 'total': 162743369}, 'day': '2024-03-07', 'time': '2024-03-07T05:30:04+00:00'}, {'continent': 'Europe', 'country': 'Greece', 'population': 10316637, 'cases': {'new': None, 'active': None, 'critical': None, 'recovered': None, '1M_pop': '591412', 'total': 6101379}, 'deaths': {'new': None, '1M_pop': '3671', 'total': 37869}, 'tests': {'1M_pop': '9909078', 'total': 102228365}, 'day': '2024-03-07', 'time': '2024-03-07T05:30:04+00:00'}, {'continent': 'North-America', 'country': 'Mexico', 'population': 131562772, 'cases': {'new': None, 'active': 467986, 'critical': None, 'recovered': 6899865, '1M_pop': '58549', 'total': 7702809}, 'deaths': {'new': None, '1M_pop': '2546', 'total': 334958}, 'tests': {'1M_pop': '152124', 'total': 20013810}, 'day': '2024-03-07', 'time': '2024-03-07T05:30:04+00:00'}, {'continent': 'Asia', 'country': 'Iran', 'population': 86022837, 'cases': {'new': None, 'active': None, 'critical': None, 'recovered': None, '1M_pop': '88657', 'total': 7626527}, 'deaths': {'new': None, '1M_pop': '1707', 'total': 146799}, 'tests': {'1M_pop': '666338', 'total': 57320267}, 'day': '2024-03-07', 'time': '2024-03-07T05:30:04+00:00'}, {'continent': 'South-America', 'country': 'Argentina', 'population': 46010234, 'cases': {'new': None, 'active': 0, 'critical': None, 'recovered': 9963910, '1M_pop': '219400', 'total': 10094643}, 'deaths': {'new': None, '1M_pop': '2841', 'total': 130733}, 'tests': {'1M_pop': '776264', 'total': 35716069}, 'day': '2024-03-07', 'time': '2024-03-07T05:30:04+00:00'}, {'continent': 'South-America', 'country': 'Brazil', 'population': 215353593, 'cases': {'new': None, 'active': 1493380, 'critical': None, 'recovered': 36249161, '1M_pop': '178555', 'total': 38452504}, 'deaths': {'new': None, '1M_pop': '3297', 'total': 709963}, 'tests': {'1M_pop': '296146', 'total': 63776166}, 'day': '2024-03-07', 'time': '2024-03-07T05:30:04+00:00'}, {'continent': 'South-America', 'country': 'Colombia', 'population': 51512762, 'cases': {'new': None, 'active': 44821, 'critical': 342, 'recovered': 6212152, '1M_pop': '124244', 'total': 6400173}, 'deaths': {'new': None, '1M_pop': '2780', 'total': 143200}, 'tests': {'1M_pop': '717327', 'total': 36951507}, 'day': '2024-03-07', 'time': '2024-03-07T05:30:04+00:00'}, {'continent': 'Asia', 'country': 'Vietnam', 'population': 98953541, 'cases': {'new': None, 'active': 941018, 'critical': None, 'recovered': 10640971, '1M_pop': '117481', 'total': 11625195}, 'deaths': {'new': None, '1M_pop': '437', 'total': 43206}, 'tests': {'1M_pop': '867342', 'total': 85826548}, 'day': '2024-03-07', 'time': '2024-03-07T05:30:04+00:00'}, {'continent': 'South-America', 'country': 'South-America', 'population': None, 'cases': {'new': None, 'active': 1843712, 'critical': 8953, 'recovered': 66650237, '1M_pop': None, 'total': 69859756}, 'deaths': {'new': None, '1M_pop': None, 'total': 1365807}, 'tests': {'1M_pop': None, 'total': None}, 'day': '2024-03-07', 'time': '2024-03-07T05:30:04+00:00'}, {'continent': 'South-America', 'country': 'Chile', 'population': 19250195, 'cases': {'new': None, 'active': 52814, 'critical': 7, 'recovered': 5252450, '1M_pop': '278946', 'total': 5369761}, 'deaths': {'new': None, '1M_pop': '3350', 'total': 64497}, 'tests': {'1M_pop': '2617225', 'total': 50382097}, 'day': '2024-03-07', 'time': '2024-03-07T05:30:04+00:00'}, {'continent': 'Europe', 'country': 'UK', 'population': 68497907, 'cases': {'new': None, 'active': 3927, 'critical': None, 'recovered': 24666932, '1M_pop': '363558', 'total': 24902971}, 'deaths': {'new': None, '1M_pop': '3389', 'total': 232112}, 'tests': {'1M_pop': '7628357', 'total': 522526476}, 'day': '2024-03-07', 'time': '2024-03-07T05:30:04+00:00'}, {'continent': 'Asia', 'country': 'Indonesia', 'population': 279134505, 'cases': {'new': '+167', 'active': 19839, 'critical': None, 'recovered': 6647104, '1M_pop': '24465', 'total': 6829005}, 'deaths': {'new': '+1', '1M_pop': '581', 'total': 162062}, 'tests': {'1M_pop': '408975', 'total': 114158919}, 'day': '2024-03-07', 'time': '2024-03-07T05:30:04+00:00'}, {'continent': 'Europe', 'country': 'Portugal', 'population': 10140570, 'cases': {'new': None, 'active': 244, 'critical': 61, 'recovered': 5614102, '1M_pop': '556423', 'total': 5642449}, 'deaths': {'new': None, '1M_pop': '2771', 'total': 28103}, 'tests': {'1M_pop': '4549993', 'total': 46139518}, 'day': '2024-03-07', 'time': '2024-03-07T05:30:04+00:00'}, {'continent': 'Europe', 'country': 'Italy', 'population': 60262770, 'cases': {'new': None, 'active': 171192, 'critical': 45, 'recovered': 26351971, '1M_pop': '443383', 'total': 26719511}, 'deaths': {'new': None, '1M_pop': '3258', 'total': 196348}, 'tests': {'1M_pop': '4654904', 'total': 280517410}, 'day': '2024-03-07', 'time': '2024-03-07T05:30:04+00:00'}, {'continent': 'Asia', 'country': 'Malaysia', 'population': 33181072, 'cases': {'new': None, 'active': 8011, 'critical': 11, 'recovered': 5230953, '1M_pop': '159016', 'total': 5276312}, 'deaths': {'new': None, '1M_pop': '1126', 'total': 37348}, 'tests': {'1M_pop': '2066869', 'total': 68580916}, 'day': '2024-03-07', 'time': '2024-03-07T05:30:04+00:00'}, {'continent': 'Africa', 'country': 'Africa', 'population': None, 'cases': {'new': None, 'active': 510612, 'critical': 529, 'recovered': 12090791, '1M_pop': None, 'total': 12860287}, 'deaths': {'new': None, '1M_pop': None, 'total': 258884}, 'tests': {'1M_pop': None, 'total': None}, 'day': '2024-03-07', 'time': '2024-03-07T05:30:04+00:00'}, {'continent': 'Europe', 'country': 'Russia', 'population': 145805947, 'cases': {'new': '+25835', 'active': 182535, 'critical': None, 'recovered': 23424670, '1M_pop': '164668', 'total': 24009604}, 'deaths': {'new': '+70', '1M_pop': '2760', 'total': 402399}, 'tests': {'1M_pop': '1875095', 'total': 273400000}, 'day': '2024-03-07', 'time': '2024-03-07T05:30:04+00:00'}, {'continent': 'Asia', 'country': 'India', 'population': 1406631776, 'cases': {'new': '+135', 'active': None, 'critical': None, 'recovered': None, '1M_pop': '32013', 'total': 45030467}, 'deaths': {'new': '+3', '1M_pop': '379', 'total': 533499}, 'tests': {'1M_pop': '665334', 'total': 935879495}, 'day': '2024-03-07', 'time': '2024-03-07T05:30:04+00:00'}, {'continent': 'Europe', 'country': 'Netherlands', 'population': 17211447, 'cases': {'new': None, 'active': 350, 'critical': None, 'recovered': 8611480, '1M_pop': '501691', 'total': 8634822}, 'deaths': {'new': None, '1M_pop': '1336', 'total': 22992}, 'tests': {'1M_pop': '1509718', 'total': 25984435}, 'day': '2024-03-07', 'time': '2024-03-07T05:30:04+00:00'}, {'continent': 'Europe', 'country': 'Poland', 'population': 37739785, 'cases': {'new': '+90', 'active': None, 'critical': None, 'recovered': None, '1M_pop': '176492', 'total': 6660777}, 'deaths': {'new': None, '1M_pop': '3195', 'total': 120578}, 'tests': {'1M_pop': '1041055', 'total': 39289207}, 'day': '2024-03-07', 'time': '2024-03-07T05:30:04+00:00'}, {'continent': 'Europe', 'country': 'Germany', 'population': 83883596, 'cases': {'new': '+360', 'active': 399992, 'critical': None, 'recovered': 38240600, '1M_pop': '462823', 'total': 38823286}, 'deaths': {'new': '+25', '1M_pop': '2178', 'total': 182694}, 'tests': {'1M_pop': '1458359', 'total': 122332384}, 'day': '2024-03-07', 'time': '2024-03-07T05:30:04+00:00'}, {'continent': 'North-America', 'country': 'USA', 'population': 334805269, 'cases': {'new': '+4723', 'active': 1010089, 'critical': 1492, 'recovered': 109375122, '1M_pop': '333334', 'total': 111602109}, 'deaths': {'new': '+49', '1M_pop': '3635', 'total': 1216898}, 'tests': {'1M_pop': '3544643', 'total': 1186765074}, 'day': '2024-03-07', 'time': '2024-03-07T05:30:04+00:00'}, {'continent': 'Europe', 'country': 'Europe', 'population': None, 'cases': {'new': None, 'active': 2563610, 'critical': 4511, 'recovered': 248595952, '1M_pop': None, 'total': 253260338}, 'deaths': {'new': None, '1M_pop': None, 'total': 2100776}, 'tests': {'1M_pop': None, 'total': None}, 'day': '2024-03-07', 'time': '2024-03-07T05:30:04+00:00'}, {'continent': 'Oceania', 'country': 'Oceania', 'population': None, 'cases': {'new': '+1188', 'active': 117251, 'critical': 40, 'recovered': 14703253, '1M_pop': None, 'total': 14853291}, 'deaths': {'new': None, '1M_pop': None, 'total': 32787}, 'tests': {'1M_pop': None, 'total': None}, 'day': '2024-03-07', 'time': '2024-03-07T05:30:04+00:00'}, {'continent': 'All', 'country': 'All', 'population': None, 'cases': {'new': '+1188', 'active': 22052181, 'critical': 35413, 'recovered': 674904497, '1M_pop': '90312', 'total': 703961073}, 'deaths': {'new': '0', '1M_pop': '898.6', 'total': 7004395}, 'tests': {'1M_pop': None, 'total': None}, 'day': '2024-03-07', 'time': '2024-03-07T05:30:04+00:00'}, {'continent': 'Oceania', 'country': 'Australia', 'population': 26068792, 'cases': {'new': '+1188', 'active': 13392, 'critical': 12, 'recovered': 11789903, '1M_pop': '453707', 'total': 11827584}, 'deaths': {'new': None, '1M_pop': '932', 'total': 24289}, 'tests': {'1M_pop': '3142326', 'total': 81916639}, 'day': '2024-03-07', 'time': '2024-03-07T05:30:04+00:00'}, {'continent': 'North-America', 'country': 'North-America', 'population': None, 'cases': {'new': None, 'active': 2762535, 'critical': 6647, 'recovered': 127203512, '1M_pop': None, 'total': 131658913}, 'deaths': {'new': None, '1M_pop': None, 'total': 1692866}, 'tests': {'1M_pop': None, 'total': None}, 'day': '2024-03-07', 'time': '2024-03-07T05:30:03+00:00'}, {'continent': 'Asia', 'country': 'Asia', 'population': None, 'cases': {'new': None, 'active': 14254461, 'critical': 14733, 'recovered': 205660046, '1M_pop': None, 'total': 221467767}, 'deaths': {'new': None, '1M_pop': None, 'total': 1553260}, 'tests': {'1M_pop': None, 'total': None}, 'day': '2024-03-07', 'time': '2024-03-07T05:30:03+00:00'}]}\n"
     ]
    }
   ],
   "source": [
    "import requests\n",
    "import pandas as pd\n",
    "\n",
    "url = \"https://covid-193.p.rapidapi.com/statistics\"\n",
    "\n",
    "headers = {\n",
    "\t\"X-RapidAPI-Key\": \"c2292c9811msh2a25d0609010e67p1f321cjsn864716c3b4ad\",\n",
    "\t\"X-RapidAPI-Host\": \"covid-193.p.rapidapi.com\"\n",
    "}\n",
    "\n",
    "response = requests.get(url, headers=headers)\n",
    "\n",
    "data=response.json()\n",
    "print(data)"
   ]
  },
  {
   "cell_type": "code",
   "execution_count": 5,
   "id": "ac4dbbaf",
   "metadata": {},
   "outputs": [
    {
     "ename": "ValueError",
     "evalue": "All arrays must be of the same length",
     "output_type": "error",
     "traceback": [
      "\u001b[1;31m---------------------------------------------------------------------------\u001b[0m",
      "\u001b[1;31mValueError\u001b[0m                                Traceback (most recent call last)",
      "Cell \u001b[1;32mIn[5], line 1\u001b[0m\n\u001b[1;32m----> 1\u001b[0m Files \u001b[38;5;241m=\u001b[39m pd\u001b[38;5;241m.\u001b[39mDataFrame(data)\n",
      "File \u001b[1;32mC:\\ProgramData\\anaconda3\\Lib\\site-packages\\pandas\\core\\frame.py:709\u001b[0m, in \u001b[0;36mDataFrame.__init__\u001b[1;34m(self, data, index, columns, dtype, copy)\u001b[0m\n\u001b[0;32m    703\u001b[0m     mgr \u001b[38;5;241m=\u001b[39m \u001b[38;5;28mself\u001b[39m\u001b[38;5;241m.\u001b[39m_init_mgr(\n\u001b[0;32m    704\u001b[0m         data, axes\u001b[38;5;241m=\u001b[39m{\u001b[38;5;124m\"\u001b[39m\u001b[38;5;124mindex\u001b[39m\u001b[38;5;124m\"\u001b[39m: index, \u001b[38;5;124m\"\u001b[39m\u001b[38;5;124mcolumns\u001b[39m\u001b[38;5;124m\"\u001b[39m: columns}, dtype\u001b[38;5;241m=\u001b[39mdtype, copy\u001b[38;5;241m=\u001b[39mcopy\n\u001b[0;32m    705\u001b[0m     )\n\u001b[0;32m    707\u001b[0m \u001b[38;5;28;01melif\u001b[39;00m \u001b[38;5;28misinstance\u001b[39m(data, \u001b[38;5;28mdict\u001b[39m):\n\u001b[0;32m    708\u001b[0m     \u001b[38;5;66;03m# GH#38939 de facto copy defaults to False only in non-dict cases\u001b[39;00m\n\u001b[1;32m--> 709\u001b[0m     mgr \u001b[38;5;241m=\u001b[39m dict_to_mgr(data, index, columns, dtype\u001b[38;5;241m=\u001b[39mdtype, copy\u001b[38;5;241m=\u001b[39mcopy, typ\u001b[38;5;241m=\u001b[39mmanager)\n\u001b[0;32m    710\u001b[0m \u001b[38;5;28;01melif\u001b[39;00m \u001b[38;5;28misinstance\u001b[39m(data, ma\u001b[38;5;241m.\u001b[39mMaskedArray):\n\u001b[0;32m    711\u001b[0m     \u001b[38;5;28;01mfrom\u001b[39;00m \u001b[38;5;21;01mnumpy\u001b[39;00m\u001b[38;5;21;01m.\u001b[39;00m\u001b[38;5;21;01mma\u001b[39;00m \u001b[38;5;28;01mimport\u001b[39;00m mrecords\n",
      "File \u001b[1;32mC:\\ProgramData\\anaconda3\\Lib\\site-packages\\pandas\\core\\internals\\construction.py:481\u001b[0m, in \u001b[0;36mdict_to_mgr\u001b[1;34m(data, index, columns, dtype, typ, copy)\u001b[0m\n\u001b[0;32m    477\u001b[0m     \u001b[38;5;28;01melse\u001b[39;00m:\n\u001b[0;32m    478\u001b[0m         \u001b[38;5;66;03m# dtype check to exclude e.g. range objects, scalars\u001b[39;00m\n\u001b[0;32m    479\u001b[0m         arrays \u001b[38;5;241m=\u001b[39m [x\u001b[38;5;241m.\u001b[39mcopy() \u001b[38;5;28;01mif\u001b[39;00m \u001b[38;5;28mhasattr\u001b[39m(x, \u001b[38;5;124m\"\u001b[39m\u001b[38;5;124mdtype\u001b[39m\u001b[38;5;124m\"\u001b[39m) \u001b[38;5;28;01melse\u001b[39;00m x \u001b[38;5;28;01mfor\u001b[39;00m x \u001b[38;5;129;01min\u001b[39;00m arrays]\n\u001b[1;32m--> 481\u001b[0m \u001b[38;5;28;01mreturn\u001b[39;00m arrays_to_mgr(arrays, columns, index, dtype\u001b[38;5;241m=\u001b[39mdtype, typ\u001b[38;5;241m=\u001b[39mtyp, consolidate\u001b[38;5;241m=\u001b[39mcopy)\n",
      "File \u001b[1;32mC:\\ProgramData\\anaconda3\\Lib\\site-packages\\pandas\\core\\internals\\construction.py:115\u001b[0m, in \u001b[0;36marrays_to_mgr\u001b[1;34m(arrays, columns, index, dtype, verify_integrity, typ, consolidate)\u001b[0m\n\u001b[0;32m    112\u001b[0m \u001b[38;5;28;01mif\u001b[39;00m verify_integrity:\n\u001b[0;32m    113\u001b[0m     \u001b[38;5;66;03m# figure out the index, if necessary\u001b[39;00m\n\u001b[0;32m    114\u001b[0m     \u001b[38;5;28;01mif\u001b[39;00m index \u001b[38;5;129;01mis\u001b[39;00m \u001b[38;5;28;01mNone\u001b[39;00m:\n\u001b[1;32m--> 115\u001b[0m         index \u001b[38;5;241m=\u001b[39m _extract_index(arrays)\n\u001b[0;32m    116\u001b[0m     \u001b[38;5;28;01melse\u001b[39;00m:\n\u001b[0;32m    117\u001b[0m         index \u001b[38;5;241m=\u001b[39m ensure_index(index)\n",
      "File \u001b[1;32mC:\\ProgramData\\anaconda3\\Lib\\site-packages\\pandas\\core\\internals\\construction.py:655\u001b[0m, in \u001b[0;36m_extract_index\u001b[1;34m(data)\u001b[0m\n\u001b[0;32m    653\u001b[0m lengths \u001b[38;5;241m=\u001b[39m \u001b[38;5;28mlist\u001b[39m(\u001b[38;5;28mset\u001b[39m(raw_lengths))\n\u001b[0;32m    654\u001b[0m \u001b[38;5;28;01mif\u001b[39;00m \u001b[38;5;28mlen\u001b[39m(lengths) \u001b[38;5;241m>\u001b[39m \u001b[38;5;241m1\u001b[39m:\n\u001b[1;32m--> 655\u001b[0m     \u001b[38;5;28;01mraise\u001b[39;00m \u001b[38;5;167;01mValueError\u001b[39;00m(\u001b[38;5;124m\"\u001b[39m\u001b[38;5;124mAll arrays must be of the same length\u001b[39m\u001b[38;5;124m\"\u001b[39m)\n\u001b[0;32m    657\u001b[0m \u001b[38;5;28;01mif\u001b[39;00m have_dicts:\n\u001b[0;32m    658\u001b[0m     \u001b[38;5;28;01mraise\u001b[39;00m \u001b[38;5;167;01mValueError\u001b[39;00m(\n\u001b[0;32m    659\u001b[0m         \u001b[38;5;124m\"\u001b[39m\u001b[38;5;124mMixing dicts with non-Series may lead to ambiguous ordering.\u001b[39m\u001b[38;5;124m\"\u001b[39m\n\u001b[0;32m    660\u001b[0m     )\n",
      "\u001b[1;31mValueError\u001b[0m: All arrays must be of the same length"
     ]
    }
   ],
   "source": [
    "Files = pd.DataFrame(data)"
   ]
  },
  {
   "cell_type": "code",
   "execution_count": 1,
   "id": "9097b799",
   "metadata": {},
   "outputs": [
    {
     "name": "stdout",
     "output_type": "stream",
     "text": [
      "[{'train_num': 12235, 'name': 'Dibrugarh - New Delhi Rajdhani Express', 'train_from': 'DBRG', 'train_to': 'NDLS', 'data': {'id': '7974', 'days': {'Fri': '0', 'Mon': '0', 'Sat': '0', 'Sun': '0', 'Thu': 1, 'Tue': '0', 'Wed': '0'}, 'to_id': '664', 'classes': ['3A', '2A', '1A'], 'from_id': '7288', 'arriveTime': '13:55 +2 nights', 'departTime': '19:25'}}, {'train_num': 12236, 'name': 'New Delhi - Dibrugarh Rajdhani Express', 'train_from': 'NDLS', 'train_to': 'DBRG', 'data': {'id': '7973', 'days': {'Fri': '0', 'Mon': '0', 'Sat': '0', 'Sun': '0', 'Thu': '0', 'Tue': 1, 'Wed': '0'}, 'to_id': '7288', 'classes': ['3A', '2A', '1A'], 'from_id': '664', 'arriveTime': '05:15 +2 nights', 'departTime': '09:25'}}, {'train_num': 12301, 'name': 'Howrah - New Delhi Rajdhani Express (via Gaya)', 'train_from': 'HWH', 'train_to': 'NDLS', 'data': {'id': '1316', 'days': {'Fri': 1, 'Mon': 1, 'Sat': 1, 'Sun': '0', 'Thu': 1, 'Tue': 1, 'Wed': 1}, 'to_id': '664', 'classes': ['3A', '2A', '1A'], 'from_id': '1', 'arriveTime': '10:00 +1 night', 'departTime': '16:55'}}, {'train_num': 12302, 'name': 'New Delhi - Howrah Rajdhani Express (Via Gaya)', 'train_from': 'NDLS', 'train_to': 'HWH', 'data': {'id': '1317', 'days': {'Fri': '0', 'Mon': 1, 'Sat': 1, 'Sun': 1, 'Thu': 1, 'Tue': 1, 'Wed': 1}, 'to_id': '1', 'classes': ['3A', '2A', '1A'], 'from_id': '664', 'arriveTime': '09:50 +1 night', 'departTime': '16:55'}}, {'train_num': 12305, 'name': 'Howrah - New Delhi Rajdhani  Express (via Patna)', 'train_from': 'HWH', 'train_to': 'NDLS', 'data': {'id': '1318', 'days': {'Fri': '0', 'Mon': '0', 'Sat': '0', 'Sun': 1, 'Thu': '0', 'Tue': '0', 'Wed': '0'}, 'to_id': '664', 'classes': ['3A', '2A', '1A'], 'from_id': '1', 'arriveTime': '10:00 +1 night', 'departTime': '14:05'}}, {'train_num': 12306, 'name': 'New Delhi - Howrah Rajdhani Express (via Patna)', 'train_from': 'NDLS', 'train_to': 'HWH', 'data': {'id': '1319', 'days': {'Fri': 1, 'Mon': '0', 'Sat': '0', 'Sun': '0', 'Thu': '0', 'Tue': '0', 'Wed': '0'}, 'to_id': '1', 'classes': ['3A', '2A', '1A'], 'from_id': '664', 'arriveTime': '12:15 +1 night', 'departTime': '16:55'}}]\n"
     ]
    }
   ],
   "source": [
    "import requests\n",
    "\n",
    "url = \"https://trains.p.rapidapi.com/\"\n",
    "\n",
    "payload = { \"search\": \"Rajdhani\" }\n",
    "headers = {\n",
    "\t\"content-type\": \"application/json\",\n",
    "\t\"X-RapidAPI-Key\": \"c2292c9811msh2a25d0609010e67p1f321cjsn864716c3b4ad\",\n",
    "\t\"X-RapidAPI-Host\": \"trains.p.rapidapi.com\"\n",
    "}\n",
    "\n",
    "response = requests.post(url, json=payload, headers=headers)\n",
    "\n",
    "data=response.json()\n",
    "print(data)"
   ]
  },
  {
   "cell_type": "code",
   "execution_count": 6,
   "id": "30260b32",
   "metadata": {},
   "outputs": [],
   "source": [
    "File=pd.DataFrame(data)[['train_num','name','train_from','train_to']]"
   ]
  },
  {
   "cell_type": "code",
   "execution_count": 3,
   "id": "b9457cc0",
   "metadata": {},
   "outputs": [],
   "source": [
    "import pandas as pd"
   ]
  },
  {
   "cell_type": "code",
   "execution_count": 7,
   "id": "dcca1683",
   "metadata": {},
   "outputs": [
    {
     "name": "stdout",
     "output_type": "stream",
     "text": [
      "   train_num                                              name train_from  \\\n",
      "0      12235            Dibrugarh - New Delhi Rajdhani Express       DBRG   \n",
      "1      12236            New Delhi - Dibrugarh Rajdhani Express       NDLS   \n",
      "2      12301    Howrah - New Delhi Rajdhani Express (via Gaya)        HWH   \n",
      "3      12302    New Delhi - Howrah Rajdhani Express (Via Gaya)       NDLS   \n",
      "4      12305  Howrah - New Delhi Rajdhani  Express (via Patna)        HWH   \n",
      "5      12306   New Delhi - Howrah Rajdhani Express (via Patna)       NDLS   \n",
      "\n",
      "  train_to  \n",
      "0     NDLS  \n",
      "1     DBRG  \n",
      "2     NDLS  \n",
      "3      HWH  \n",
      "4     NDLS  \n",
      "5      HWH  \n"
     ]
    }
   ],
   "source": [
    "print(File)"
   ]
  },
  {
   "cell_type": "code",
   "execution_count": 8,
   "id": "e432f3f1",
   "metadata": {},
   "outputs": [
    {
     "data": {
      "text/html": [
       "<div>\n",
       "<style scoped>\n",
       "    .dataframe tbody tr th:only-of-type {\n",
       "        vertical-align: middle;\n",
       "    }\n",
       "\n",
       "    .dataframe tbody tr th {\n",
       "        vertical-align: top;\n",
       "    }\n",
       "\n",
       "    .dataframe thead th {\n",
       "        text-align: right;\n",
       "    }\n",
       "</style>\n",
       "<table border=\"1\" class=\"dataframe\">\n",
       "  <thead>\n",
       "    <tr style=\"text-align: right;\">\n",
       "      <th></th>\n",
       "      <th>train_num</th>\n",
       "      <th>name</th>\n",
       "      <th>train_from</th>\n",
       "      <th>train_to</th>\n",
       "    </tr>\n",
       "  </thead>\n",
       "  <tbody>\n",
       "    <tr>\n",
       "      <th>0</th>\n",
       "      <td>12235</td>\n",
       "      <td>Dibrugarh - New Delhi Rajdhani Express</td>\n",
       "      <td>DBRG</td>\n",
       "      <td>NDLS</td>\n",
       "    </tr>\n",
       "    <tr>\n",
       "      <th>1</th>\n",
       "      <td>12236</td>\n",
       "      <td>New Delhi - Dibrugarh Rajdhani Express</td>\n",
       "      <td>NDLS</td>\n",
       "      <td>DBRG</td>\n",
       "    </tr>\n",
       "    <tr>\n",
       "      <th>2</th>\n",
       "      <td>12301</td>\n",
       "      <td>Howrah - New Delhi Rajdhani Express (via Gaya)</td>\n",
       "      <td>HWH</td>\n",
       "      <td>NDLS</td>\n",
       "    </tr>\n",
       "    <tr>\n",
       "      <th>3</th>\n",
       "      <td>12302</td>\n",
       "      <td>New Delhi - Howrah Rajdhani Express (Via Gaya)</td>\n",
       "      <td>NDLS</td>\n",
       "      <td>HWH</td>\n",
       "    </tr>\n",
       "    <tr>\n",
       "      <th>4</th>\n",
       "      <td>12305</td>\n",
       "      <td>Howrah - New Delhi Rajdhani  Express (via Patna)</td>\n",
       "      <td>HWH</td>\n",
       "      <td>NDLS</td>\n",
       "    </tr>\n",
       "    <tr>\n",
       "      <th>5</th>\n",
       "      <td>12306</td>\n",
       "      <td>New Delhi - Howrah Rajdhani Express (via Patna)</td>\n",
       "      <td>NDLS</td>\n",
       "      <td>HWH</td>\n",
       "    </tr>\n",
       "  </tbody>\n",
       "</table>\n",
       "</div>"
      ],
      "text/plain": [
       "   train_num                                              name train_from  \\\n",
       "0      12235            Dibrugarh - New Delhi Rajdhani Express       DBRG   \n",
       "1      12236            New Delhi - Dibrugarh Rajdhani Express       NDLS   \n",
       "2      12301    Howrah - New Delhi Rajdhani Express (via Gaya)        HWH   \n",
       "3      12302    New Delhi - Howrah Rajdhani Express (Via Gaya)       NDLS   \n",
       "4      12305  Howrah - New Delhi Rajdhani  Express (via Patna)        HWH   \n",
       "5      12306   New Delhi - Howrah Rajdhani Express (via Patna)       NDLS   \n",
       "\n",
       "  train_to  \n",
       "0     NDLS  \n",
       "1     DBRG  \n",
       "2     NDLS  \n",
       "3      HWH  \n",
       "4     NDLS  \n",
       "5      HWH  "
      ]
     },
     "execution_count": 8,
     "metadata": {},
     "output_type": "execute_result"
    }
   ],
   "source": [
    "File"
   ]
  },
  {
   "cell_type": "code",
   "execution_count": null,
   "id": "ae070bb8",
   "metadata": {},
   "outputs": [],
   "source": [
    "File.to_csv('API_data.csv')"
   ]
  },
  {
   "cell_type": "code",
   "execution_count": 23,
   "id": "79b6975d",
   "metadata": {},
   "outputs": [
    {
     "name": "stdout",
     "output_type": "stream",
     "text": [
      "{'get': 'countries', 'parameters': [], 'errors': [], 'results': 231, 'response': ['Afghanistan', 'Albania', 'Algeria', 'Andorra', 'Angola', 'Anguilla', 'Antigua-and-Barbuda', 'Argentina', 'Armenia', 'Aruba', 'Australia', 'Austria', 'Azerbaijan', 'Bahamas', 'Bahrain', 'Bangladesh', 'Barbados', 'Belarus', 'Belgium', 'Belize', 'Benin', 'Bermuda', 'Bhutan', 'Bolivia', 'Bosnia-and-Herzegovina', 'Botswana', 'Brazil', 'British-Virgin-Islands', 'Brunei', 'Bulgaria', 'Burkina-Faso', 'Burundi', 'Cabo-Verde', 'Cambodia', 'Cameroon', 'Canada', 'CAR', 'Caribbean-Netherlands', 'Cayman-Islands', 'Chad', 'Channel-Islands', 'Chile', 'China', 'Colombia', 'Comoros', 'Congo', 'Cook-Islands', 'Costa-Rica', 'Croatia', 'Cuba', 'Cura&ccedil;ao', 'Cyprus', 'Czechia', 'Denmark', 'Diamond-Princess', 'Djibouti', 'Dominica', 'Dominican-Republic', 'DPRK', 'DRC', 'Ecuador', 'Egypt', 'El-Salvador', 'Equatorial-Guinea', 'Eritrea', 'Estonia', 'Eswatini', 'Ethiopia', 'Faeroe-Islands', 'Falkland-Islands', 'Fiji', 'Finland', 'France', 'French-Guiana', 'French-Polynesia', 'Gabon', 'Gambia', 'Georgia', 'Germany', 'Ghana', 'Gibraltar', 'Greece', 'Greenland', 'Grenada', 'Guadeloupe', 'Guatemala', 'Guinea', 'Guinea-Bissau', 'Guyana', 'Haiti', 'Honduras', 'Hong-Kong', 'Hungary', 'Iceland', 'India', 'Indonesia', 'Iran', 'Iraq', 'Ireland', 'Isle-of-Man', 'Israel', 'Italy', 'Ivory-Coast', 'Jamaica', 'Japan', 'Jordan', 'Kazakhstan', 'Kenya', 'Kiribati', 'Kuwait', 'Kyrgyzstan', 'Laos', 'Latvia', 'Lebanon', 'Lesotho', 'Liberia', 'Libya', 'Liechtenstein', 'Lithuania', 'Luxembourg', 'Macao', 'Madagascar', 'Malawi', 'Malaysia', 'Maldives', 'Mali', 'Malta', 'Marshall-Islands', 'Martinique', 'Mauritania', 'Mauritius', 'Mayotte', 'Mexico', 'Micronesia', 'Moldova', 'Monaco', 'Mongolia', 'Montenegro', 'Montserrat', 'Morocco', 'Mozambique', 'MS-Zaandam', 'Myanmar', 'Namibia', 'Nauru', 'Nepal', 'Netherlands', 'New-Caledonia', 'New-Zealand', 'Nicaragua', 'Niger', 'Nigeria', 'Niue', 'North-Macedonia', 'Norway', 'Oman', 'Pakistan', 'Palau', 'Palestine', 'Panama', 'Papua-New-Guinea', 'Paraguay', 'Peru', 'Philippines', 'Poland', 'Portugal', 'Qatar', 'R&eacute;union', 'Romania', 'Russia', 'Rwanda', 'S-Korea', 'Saint-Helena', 'Saint-Kitts-and-Nevis', 'Saint-Lucia', 'Saint-Martin', 'Saint-Pierre-Miquelon', 'Samoa', 'San-Marino', 'Sao-Tome-and-Principe', 'Saudi-Arabia', 'Senegal', 'Serbia', 'Seychelles', 'Sierra-Leone', 'Singapore', 'Sint-Maarten', 'Slovakia', 'Slovenia', 'Solomon-Islands', 'Somalia', 'South-Africa', 'South-Sudan', 'Spain', 'Sri-Lanka', 'St-Barth', 'St-Vincent-Grenadines', 'Sudan', 'Suriname', 'Sweden', 'Switzerland', 'Syria', 'Taiwan', 'Tajikistan', 'Tanzania', 'Thailand', 'Timor-Leste', 'Togo', 'Tokelau', 'Tonga', 'Trinidad-and-Tobago', 'Tunisia', 'Turkey', 'Turks-and-Caicos', 'Tuvalu', 'UAE', 'Uganda', 'UK', 'Ukraine', 'Uruguay', 'USA', 'Uzbekistan', 'Vanuatu', 'Vatican-City', 'Venezuela', 'Vietnam', 'Wallis-and-Futuna', 'Western-Sahara', 'Yemen', 'Zambia', 'Zimbabwe']}\n"
     ]
    }
   ],
   "source": [
    "url = \"https://covid-193.p.rapidapi.com/countries\"\n",
    "\n",
    "headers = {\n",
    "\t\"X-RapidAPI-Key\": \"c2292c9811msh2a25d0609010e67p1f321cjsn864716c3b4ad\",\n",
    "\t\"X-RapidAPI-Host\": \"covid-193.p.rapidapi.com\"\n",
    "}\n",
    "\n",
    "respon = requests.get(url, headers=headers)\n",
    "data=respon.json()\n",
    "print(data)"
   ]
  },
  {
   "cell_type": "code",
   "execution_count": 39,
   "id": "447964ba",
   "metadata": {},
   "outputs": [],
   "source": [
    "a=pd.Series(data)[['response']]"
   ]
  },
  {
   "cell_type": "code",
   "execution_count": 40,
   "id": "e70a2e72",
   "metadata": {},
   "outputs": [
    {
     "name": "stdout",
     "output_type": "stream",
     "text": [
      "response    [Afghanistan, Albania, Algeria, Andorra, Angol...\n"
     ]
    }
   ],
   "source": [
    "print(a.to_string())"
   ]
  },
  {
   "cell_type": "code",
   "execution_count": null,
   "id": "a86213c7",
   "metadata": {},
   "outputs": [],
   "source": [
    "a.to_cs"
   ]
  }
 ],
 "metadata": {
  "kernelspec": {
   "display_name": "Python 3 (ipykernel)",
   "language": "python",
   "name": "python3"
  },
  "language_info": {
   "codemirror_mode": {
    "name": "ipython",
    "version": 3
   },
   "file_extension": ".py",
   "mimetype": "text/x-python",
   "name": "python",
   "nbconvert_exporter": "python",
   "pygments_lexer": "ipython3",
   "version": "3.11.5"
  }
 },
 "nbformat": 4,
 "nbformat_minor": 5
}
